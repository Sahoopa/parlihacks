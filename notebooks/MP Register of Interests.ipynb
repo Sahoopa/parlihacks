{
 "cells": [
  {
   "cell_type": "markdown",
   "metadata": {},
   "source": [
    "# Scraping Low Hanging Fruit on the UK Register of Members' Financial Interests \n",
    "\n",
    "This notebook describes a recipe for starting to scrape the UK MP register of interests.\n",
    "\n",
    "The register entries for each member contains *semi-structured text data*, which is to say that there are some recognisable patterns in the text that makes up the register entries.\n",
    "\n",
    "![](img/hoc_reg_mp_fin_int.png)\n",
    "\n",
    "The entries are made in different sections, and have a form that repeats, ish...\n",
    "\n",
    "![](img/hoc_reg_mp_fin_int2.png)\n",
    "\n",
    "We can use these repeating structures as the basis of a *scraper* that will extract the information from the page and put it into a form we can work with, such as a spreadsheet or simple database."
   ]
  },
  {
   "cell_type": "markdown",
   "metadata": {},
   "source": [
    "## The Structure of a Single Register Entry Page\n",
    "\n",
    "The page you see in your web browser is a rendering of a structured HTML document. You can look at the \"code\" that defines the page using browser developer tools.\n",
    "\n",
    "In Chrome, you can view the source code of a web page from the *View -> Developer -> View Source* menu.\n",
    "\n",
    "Looking at the raw HTML of a page can be confusing, but many browsers have built in tools to make it easier to inspect the source code of a web page.\n",
    "\n",
    "In Chrome, you can launch the developer tools from he *View -> Developer -> Developer Tools* menu option."
   ]
  },
  {
   "cell_type": "markdown",
   "metadata": {},
   "source": [
    "### Exploring the page\n",
    "\n",
    "In Chrome developer tools, if you click on the arrow / pointer icon in the top left corner of the tools panel, you can use it to highlight areas of the rendered web page; the HTML used to define that block is then highlighted.\n",
    "\n",
    "![](img/hoc_reg_devtools1.png)\n",
    "\n",
    "One of the tricks to scraping is to try to identify structural elements or patterns in the HTML that identify the things we are interested in and that we can grab hold of and use as the basis for our scrape.\n",
    "\n",
    "In the MPs' register of interest pages, we notice that the `div` tag with the id `mainTextBlock` contains all the elements that describe the register of entries. In particular, we also notice that each spearate entry is contained within its own `<p>` tag.\n",
    "\n",
    "![](img/hoc_reg_devtools2.png)\n",
    "\n",
    "This gives us one strategy for scraping the page:\n",
    "\n",
    "- grab the parent `div` tag - and its contents - that contains all the separate register entries;\n",
    "- look at each `<p>` tag - and its contents - in turn and try to pull out the member interests."
   ]
  },
  {
   "cell_type": "markdown",
   "metadata": {},
   "source": [
    "### What structured or semi-structured data can we see?\n",
    "\n",
    "Some of the register entries have a largely *unstructured* form. For example, the entry:\n",
    "\n",
    "```\n",
    "13 December 2016, received £2,500 from Hampshire Cricket, The Ageas Bowl, Botley Road, West End, Southampton SO30 3XH, for media and communications training. Hours: 16 hrs including travel and preparation. (Registered 19 December 2016)\n",
    "```\n",
    "\n",
    "is largely free text. We can see some structure in there (a date, followed by an amount, then a name and an address) but we get the feeling that this entry could be made up of arbitrary text.\n",
    "\n",
    "An entry such as:\n",
    "\n",
    "```\n",
    "Name of donor: VGC Group\n",
    "Address of donor: Cardinal House, Bury Street, Ruislip HA4 7GD\n",
    "Amount of donation or nature and value if donation in kind: £1,800 in a successful auction bid at a fundraising dinner for Barnsley East CLP and the office of another MP, the profits from which will be divided equally.\n",
    "Donor status: company, registration 5741473\n",
    "(Registered 04 May 2016)\n",
    "```\n",
    "\n",
    "is semi-structured, in that we have structural items of the form `attribute: value` where the value term may or may not itself be structured.\n",
    "\n",
    "For example, the `Name of donor` attribute is simply that - a name - which explicitly represents the name of the donor. But the text associated with the `Amount of donation or nature and value if donation in kind` is more unstructured. For sure, we can see recognisable thinks in the description, but the way they are presented is leargely as free text. Which is to say, the way it's presented is arbitrary, which makes it harder to extract information from in a reliable way.\n",
    "\n",
    "What this means is that there is some low hanging fruit in this register that we *can* extract reasonably reliably (the name of a donor, for example), but there is also information in that that we may have to parse by hand if we want to do it reliably."
   ]
  },
  {
   "cell_type": "markdown",
   "metadata": {},
   "source": [
    "## Getting Started with the Scrape\n",
    "\n",
    "There are many tools available to help you scrape a web page or set of web pages, but I tend to use code becuase it gives me the most control over the scrape, albeit at the cost of added complexity compared to point and click style applications.\n",
    "\n",
    "A couple of Python packages that crossed my radar recently provide a relatively easy way in to getting started with Python based scrapers, so we'll use those in this recipe."
   ]
  },
  {
   "cell_type": "markdown",
   "metadata": {},
   "source": [
    "### `kennethreitz/requests-html`\n",
    "\n",
    "The first package is Kenneth Reitz' ([requests-html](https://github.com/kennethreitz/requests-html), straplined *\"Pythonic HTML Parsing for Humans™\"*. This package helps us grab an HTML page and extract the text from it."
   ]
  },
  {
   "cell_type": "code",
   "execution_count": 1,
   "metadata": {},
   "outputs": [],
   "source": [
    "#https://github.com/kennethreitz/requests-html\n",
    "#!~/anaconda3/bin/pip install requests_html"
   ]
  },
  {
   "cell_type": "markdown",
   "metadata": {},
   "source": [
    "### `r1chardj0n3s/parse`\n",
    "\n",
    "The second package is Richard Jones' `parse` package ([r1chardj0n3s/parse](https://github.com/r1chardj0n3s/parse)).\n",
    "\n",
    "This package provides a set of tools that make it relatively easy to extract the rendered / visually structured information, such as the attributes/values identified in the MPs' register above."
   ]
  },
  {
   "cell_type": "code",
   "execution_count": 2,
   "metadata": {},
   "outputs": [],
   "source": [
    "#https://github.com/r1chardj0n3s/parse\n",
    "#Install the package\n",
    "#!~/anaconda3/bin/pip install parse"
   ]
  },
  {
   "cell_type": "markdown",
   "metadata": {},
   "source": [
    "### Grabbing a test page\n",
    "\n",
    "We'll start by working with a single test page: [https://publications.parliament.uk/pa/cm/cmregmem/170502/dugher_michael.htm](https://publications.parliament.uk/pa/cm/cmregmem/170502/dugher_michael.htm)\n",
    "\n",
    "\n",
    "This was selected from the [last register of the 2015 Parliament](https://publications.parliament.uk/pa/cm/cmregmem/170502/contents.htm). For now, I'm just hoping that the register for the current 2017 Parliament has the same structural form!\n",
    "\n",
    "*Disclaimer: the page I picked from the register was picked becuase it had a range of content structures, not for any reason relating to the member it relates to or the actual content of an entry. Which is to say: nothing is implied by the selection of the test page, etc etc.*"
   ]
  },
  {
   "cell_type": "code",
   "execution_count": 3,
   "metadata": {},
   "outputs": [],
   "source": [
    "#Set the url of the test page\n",
    "url='https://publications.parliament.uk/pa/cm/cmregmem/170502/dugher_michael.htm'"
   ]
  },
  {
   "cell_type": "markdown",
   "metadata": {},
   "source": [
    "The first thing to do is get hold of the page HTML. The `requests_html` makes this easy:"
   ]
  },
  {
   "cell_type": "code",
   "execution_count": 4,
   "metadata": {},
   "outputs": [],
   "source": [
    "#Import the package - we only need to do this once\n",
    "from requests_html import HTMLSession\n",
    "\n",
    "#Create a session - we only need to do this once\n",
    "session = HTMLSession()"
   ]
  },
  {
   "cell_type": "code",
   "execution_count": 5,
   "metadata": {},
   "outputs": [],
   "source": [
    "#Grab the page\n",
    "r = session.get(url)"
   ]
  },
  {
   "cell_type": "markdown",
   "metadata": {},
   "source": [
    "To find the `p` tags *within* an HTML block with a given id, such as `mainTextBlock`, we can apply the `.html.find()` method to the page and get a list of items in return."
   ]
  },
  {
   "cell_type": "code",
   "execution_count": 6,
   "metadata": {},
   "outputs": [
    {
     "data": {
      "text/plain": [
       "'Name of donor: VGC Group\\nAddress of donor: Cardinal House, Bury Street, Ruislip HA4 7GD\\nAmount of donation or nature and value if donation in kind: £1,800 in a successful auction bid at a fundraising dinner for Barnsley East CLP and the office of another MP, the profits from which will be divided equally.\\nDonor status: company, registration 5741473\\n(Registered 04 May 2016)'"
      ]
     },
     "execution_count": 6,
     "metadata": {},
     "output_type": "execute_result"
    }
   ],
   "source": [
    "ptags = r.html.find('#mainTextBlock > p')\n",
    "\n",
    "#View the contents of the 7th p tag in the list (the index starts at 0)\n",
    "ptags[6].text"
   ]
  },
  {
   "cell_type": "markdown",
   "metadata": {},
   "source": [
    "Now we can start to extract some information *as data* using the `parse` package."
   ]
  },
  {
   "cell_type": "code",
   "execution_count": 7,
   "metadata": {},
   "outputs": [],
   "source": [
    "#Import everything from the package - this is not best practice!\n",
    "from parse import *"
   ]
  },
  {
   "cell_type": "markdown",
   "metadata": {},
   "source": [
    "The `parse` package encourages you to split a text string into recognisable components. The text we want to extract is wrapped using braces ({}). The contents of the braces may be a name we want to assigned to the extracted text, and / or a pattern that describes the text we want to extract \"into\" that pair of braces.\n",
    "\n",
    "The expression we need to us has the form:\n",
    "\n",
    "```\n",
    "parse(stringExtractionPattern, stringWeWantToParse)\n",
    "```"
   ]
  },
  {
   "cell_type": "code",
   "execution_count": 8,
   "metadata": {
    "scrolled": true
   },
   "outputs": [
    {
     "data": {
      "text/plain": [
       "<Result () {'name': 'VGC Group', 'addr': 'Cardinal House, Bury Street, Ruislip HA4 7GD', 'txt': '£1,800 in a successful auction bid at a fundraising dinner for Barnsley East CLP and the office of another MP, the profits from which will be divided equally.', 'status': 'company, registration 5741473', 'date': '04 May 2016'}>"
      ]
     },
     "execution_count": 8,
     "metadata": {},
     "output_type": "execute_result"
    }
   ],
   "source": [
    "pattern = '''Name of donor: {name}\\nAddress of donor: {addr}\\nAmount of donation or nature and value if donation in kind: {txt}\\nDonor status: {status}\\n(Registered {date})'''\n",
    "\n",
    "pr = parse(pattern, ptags[6].text)\n",
    "\n",
    "#View the results of parsing the string\n",
    "pr"
   ]
  },
  {
   "cell_type": "markdown",
   "metadata": {},
   "source": [
    "If the the pattern matcher doesn't match the string, nothing is returned."
   ]
  },
  {
   "cell_type": "code",
   "execution_count": 9,
   "metadata": {},
   "outputs": [
    {
     "name": "stdout",
     "output_type": "stream",
     "text": [
      "This returns >> None <<\n"
     ]
    }
   ],
   "source": [
    "pr = parse(pattern,\"Some arbitrary text that is unlikely to match...\")\n",
    "print('This returns >>', pr, '<<')"
   ]
  },
  {
   "cell_type": "markdown",
   "metadata": {},
   "source": [
    "We can make use of this in a condiional statement to take an action depending on whether or not we get a response:"
   ]
  },
  {
   "cell_type": "code",
   "execution_count": 10,
   "metadata": {},
   "outputs": [
    {
     "name": "stdout",
     "output_type": "stream",
     "text": [
      "No match\n"
     ]
    }
   ],
   "source": [
    "if pr:\n",
    "    print('There was a match')\n",
    "else:\n",
    "    print('No match')"
   ]
  },
  {
   "cell_type": "markdown",
   "metadata": {},
   "source": [
    "We can pass the \"named\" items we have extracted from the text string into its own python `dict`.\n",
    "\n",
    "The python expression used to do this is known as a \"list comprehension\" (or more specifically in this case, a \"dict comprehension\"). Essentially what it does is take the contents of one `dict` and use them to create another. *Don't worry about it: it's voodoo magic...*"
   ]
  },
  {
   "cell_type": "code",
   "execution_count": 11,
   "metadata": {},
   "outputs": [
    {
     "data": {
      "text/plain": [
       "{'addr': 'Cardinal House, Bury Street, Ruislip HA4 7GD',\n",
       " 'date': '04 May 2016',\n",
       " 'name': 'VGC Group',\n",
       " 'status': 'company, registration 5741473',\n",
       " 'txt': '£1,800 in a successful auction bid at a fundraising dinner for Barnsley East CLP and the office of another MP, the profits from which will be divided equally.'}"
      ]
     },
     "execution_count": 11,
     "metadata": {},
     "output_type": "execute_result"
    }
   ],
   "source": [
    "pr = parse(pattern, ptags[6].text)\n",
    "extractedItems = {k:pr[k] for k in pr.named}\n",
    "\n",
    "#Preview items\n",
    "extractedItems"
   ]
  },
  {
   "cell_type": "markdown",
   "metadata": {},
   "source": [
    "We can mask the complexity of the dict comprehension by creating a function that deploys it for us:"
   ]
  },
  {
   "cell_type": "code",
   "execution_count": 12,
   "metadata": {},
   "outputs": [],
   "source": [
    "def todict(result):\n",
    "    #If there's no match, return an empty dict\n",
    "    if not result: return {}\n",
    "    #If there is a match, add the named results items to the returned dict\n",
    "    return {k:result[k] for k in result.named}"
   ]
  },
  {
   "cell_type": "code",
   "execution_count": 13,
   "metadata": {},
   "outputs": [
    {
     "data": {
      "text/plain": [
       "{'addr': 'Cardinal House, Bury Street, Ruislip HA4 7GD',\n",
       " 'date': '04 May 2016',\n",
       " 'name': 'VGC Group',\n",
       " 'status': 'company, registration 5741473',\n",
       " 'txt': '£1,800 in a successful auction bid at a fundraising dinner for Barnsley East CLP and the office of another MP, the profits from which will be divided equally.'}"
      ]
     },
     "execution_count": 13,
     "metadata": {},
     "output_type": "execute_result"
    }
   ],
   "source": [
    "todict(pr)"
   ]
  },
  {
   "cell_type": "markdown",
   "metadata": {},
   "source": [
    "If the parse expression does not match the string, then it won't return anything."
   ]
  },
  {
   "cell_type": "markdown",
   "metadata": {},
   "source": [
    "Looking at the extracted text, we can see that there are some other elements in there that we might be able to extract.\n",
    "\n",
    "For example, if the `status` is a company, it looks like we might be able to extract out the company number:"
   ]
  },
  {
   "cell_type": "code",
   "execution_count": 14,
   "metadata": {},
   "outputs": [
    {
     "data": {
      "text/plain": [
       "'company, registration 5741473'"
      ]
     },
     "execution_count": 14,
     "metadata": {},
     "output_type": "execute_result"
    }
   ],
   "source": [
    "#View status\n",
    "extractedItems['status']"
   ]
  },
  {
   "cell_type": "markdown",
   "metadata": {},
   "source": [
    "We can try to extract the fact the entity is a company, along with the company number:"
   ]
  },
  {
   "cell_type": "code",
   "execution_count": 15,
   "metadata": {},
   "outputs": [
    {
     "data": {
      "text/plain": [
       "<Result () {'status2': 'company', 'cn': '5741473'}>"
      ]
     },
     "execution_count": 15,
     "metadata": {},
     "output_type": "execute_result"
    }
   ],
   "source": [
    "parse('{status2}, registration {cn}', extractedItems['status'])"
   ]
  },
  {
   "cell_type": "markdown",
   "metadata": {},
   "source": [
    "We could directly create a `dict` from that:"
   ]
  },
  {
   "cell_type": "code",
   "execution_count": 16,
   "metadata": {},
   "outputs": [
    {
     "data": {
      "text/plain": [
       "{'cn': '5741473', 'status2': 'company'}"
      ]
     },
     "execution_count": 16,
     "metadata": {},
     "output_type": "execute_result"
    }
   ],
   "source": [
    "todict( parse('{status2}, registration {cn}', extractedItems['status']) )"
   ]
  },
  {
   "cell_type": "markdown",
   "metadata": {},
   "source": [
    "Or we could write a new function that adds any newly extracted items to the `extractedItems` dict, *and* does the parsing:"
   ]
  },
  {
   "cell_type": "code",
   "execution_count": 17,
   "metadata": {},
   "outputs": [],
   "source": [
    "def todict2(pattern, string, extracted=None):\n",
    "    if extracted is None: extracted = {}\n",
    "    newextract = todict( parse(pattern, string) )\n",
    "    \n",
    "    #Add the contents of newextract to the original dict and return\n",
    "    #Note that this updates any dict passed in via the extracted argument and doesn't strictly need to return it \n",
    "    extracted.update(newextract)\n",
    "    return extracted"
   ]
  },
  {
   "cell_type": "code",
   "execution_count": 18,
   "metadata": {},
   "outputs": [
    {
     "data": {
      "text/plain": [
       "{'addr': 'Cardinal House, Bury Street, Ruislip HA4 7GD',\n",
       " 'cn': '5741473',\n",
       " 'date': '04 May 2016',\n",
       " 'name': 'VGC Group',\n",
       " 'status': 'company, registration 5741473',\n",
       " 'status2': 'company',\n",
       " 'txt': '£1,800 in a successful auction bid at a fundraising dinner for Barnsley East CLP and the office of another MP, the profits from which will be divided equally.'}"
      ]
     },
     "execution_count": 18,
     "metadata": {},
     "output_type": "execute_result"
    }
   ],
   "source": [
    "todict2('{status2}, registration {cn}', extractedItems['status'], extractedItems)\n",
    "extractedItems"
   ]
  },
  {
   "cell_type": "markdown",
   "metadata": {},
   "source": [
    "Alternatively, we might write a function to handle the company number extraction and return the company number (and extracted status) as a `dict`."
   ]
  },
  {
   "cell_type": "code",
   "execution_count": 19,
   "metadata": {},
   "outputs": [],
   "source": [
    "def companynumber(string):\n",
    "    return todict( parse('{status2}, registration {cn}', string) )"
   ]
  },
  {
   "cell_type": "code",
   "execution_count": 20,
   "metadata": {},
   "outputs": [
    {
     "name": "stdout",
     "output_type": "stream",
     "text": [
      "{'status2': 'company', 'cn': '5741473'}\n",
      "{}\n",
      "{'status2': 'company', 'cn': '05741473'}\n"
     ]
    }
   ],
   "source": [
    "print( companynumber(extractedItems['status']) )\n",
    "print( companynumber('Arbitrary text.') )\n",
    "#Check to see if it works with a company number that starts with a leading 0\n",
    "print( companynumber('company, registration 05741473') )"
   ]
  },
  {
   "cell_type": "markdown",
   "metadata": {},
   "source": [
    "Let's look at another entry - if we also print it, the end of line (`\\n`) characters will be rendered make things easier to read:"
   ]
  },
  {
   "cell_type": "code",
   "execution_count": 21,
   "metadata": {},
   "outputs": [
    {
     "name": "stdout",
     "output_type": "stream",
     "text": [
      "Name of donor: Balmoral Tanks Ltd\n",
      "Address of donor: Balmoral Park, Aberdeen AB12 3GY\n",
      "Amount of donation or nature and value if donation in kind: £2,000 to support my Primary School Christmas Card Competition\n",
      "Date received: 8 December 2016\n",
      "Date accepted: 8 December 2016\n",
      "Donor status: company, registration 300656\n",
      "(Registered 09 December 2016)\n"
     ]
    },
    {
     "data": {
      "text/plain": [
       "'Name of donor: Balmoral Tanks Ltd\\nAddress of donor: Balmoral Park, Aberdeen AB12 3GY\\nAmount of donation or nature and value if donation in kind: £2,000 to support my Primary School Christmas Card Competition\\nDate received: 8 December 2016\\nDate accepted: 8 December 2016\\nDonor status: company, registration 300656\\n(Registered 09 December 2016)'"
      ]
     },
     "execution_count": 21,
     "metadata": {},
     "output_type": "execute_result"
    }
   ],
   "source": [
    "print(ptags[11].text)\n",
    "\n",
    "ptags[11].text"
   ]
  },
  {
   "cell_type": "markdown",
   "metadata": {},
   "source": [
    "This entry has `Date received` and `Date accepted` fields that were not in the entry we scraped first. After parsing, they form part of the `txt` item:"
   ]
  },
  {
   "cell_type": "code",
   "execution_count": 22,
   "metadata": {},
   "outputs": [
    {
     "data": {
      "text/plain": [
       "{'addr': 'Balmoral Park, Aberdeen AB12 3GY',\n",
       " 'date': '09 December 2016',\n",
       " 'name': 'Balmoral Tanks Ltd',\n",
       " 'status': 'company, registration 300656',\n",
       " 'txt': '£2,000 to support my Primary School Christmas Card Competition\\nDate received: 8 December 2016\\nDate accepted: 8 December 2016'}"
      ]
     },
     "execution_count": 22,
     "metadata": {},
     "output_type": "execute_result"
    }
   ],
   "source": [
    "#If we don't pass a dict in to todict2(), one will be created for us\n",
    "extracteditems = todict2(pattern, ptags[11].text)\n",
    "\n",
    "extracteditems"
   ]
  },
  {
   "cell_type": "markdown",
   "metadata": {},
   "source": [
    "So let's parse that item and grab the dates.\n",
    "\n",
    "(The reason we don't add them to the pattern we used earlier is becuase that pattern would then *not* match the entries that do not contain the received and accepted dates.)"
   ]
  },
  {
   "cell_type": "code",
   "execution_count": 23,
   "metadata": {},
   "outputs": [
    {
     "data": {
      "text/plain": [
       "'£2,000 to support my Primary School Christmas Card Competition\\nDate received: 8 December 2016\\nDate accepted: 8 December 2016'"
      ]
     },
     "execution_count": 23,
     "metadata": {},
     "output_type": "execute_result"
    }
   ],
   "source": [
    "#Here's what we're going to parse\n",
    "extracteditems['txt']"
   ]
  },
  {
   "cell_type": "code",
   "execution_count": 24,
   "metadata": {},
   "outputs": [
    {
     "data": {
      "text/plain": [
       "{'addr': 'Balmoral Park, Aberdeen AB12 3GY',\n",
       " 'date': '09 December 2016',\n",
       " 'dateAccd': '8 December 2016',\n",
       " 'dateRxd': '8 December 2016',\n",
       " 'name': 'Balmoral Tanks Ltd',\n",
       " 'status': 'company, registration 300656',\n",
       " 'txt': '£2,000 to support my Primary School Christmas Card Competition\\nDate received: 8 December 2016\\nDate accepted: 8 December 2016'}"
      ]
     },
     "execution_count": 24,
     "metadata": {},
     "output_type": "execute_result"
    }
   ],
   "source": [
    "datepattern = '{}\\nDate received: {dateRxd}\\nDate accepted: {dateAccd}'\n",
    "\n",
    "#This updates extracteditems\n",
    "todict2(datepattern, extracteditems['txt'], extracteditems)\n",
    "extracteditems"
   ]
  },
  {
   "cell_type": "markdown",
   "metadata": {},
   "source": [
    "We could also clean the text field a bit by splitting the string on `\\nDate` fragments and just retaining the first part:"
   ]
  },
  {
   "cell_type": "code",
   "execution_count": 25,
   "metadata": {},
   "outputs": [
    {
     "data": {
      "text/plain": [
       "['£2,000 to support my Primary School Christmas Card Competition',\n",
       " ' received: 8 December 2016',\n",
       " ' accepted: 8 December 2016']"
      ]
     },
     "execution_count": 25,
     "metadata": {},
     "output_type": "execute_result"
    }
   ],
   "source": [
    "extracteditems['txt'].split('\\nDate')"
   ]
  },
  {
   "cell_type": "code",
   "execution_count": 26,
   "metadata": {},
   "outputs": [
    {
     "data": {
      "text/plain": [
       "{'addr': 'Balmoral Park, Aberdeen AB12 3GY',\n",
       " 'cleanertxt': '£2,000 to support my Primary School Christmas Card Competition',\n",
       " 'date': '09 December 2016',\n",
       " 'dateAccd': '8 December 2016',\n",
       " 'dateRxd': '8 December 2016',\n",
       " 'name': 'Balmoral Tanks Ltd',\n",
       " 'status': 'company, registration 300656',\n",
       " 'txt': '£2,000 to support my Primary School Christmas Card Competition\\nDate received: 8 December 2016\\nDate accepted: 8 December 2016'}"
      ]
     },
     "execution_count": 26,
     "metadata": {},
     "output_type": "execute_result"
    }
   ],
   "source": [
    "#The split returns a list of items - just grab the first one with index 0\n",
    "extracteditems['cleanertxt'] = extracteditems['txt'].split('\\nDate')[0]\n",
    "extracteditems"
   ]
  },
  {
   "cell_type": "markdown",
   "metadata": {},
   "source": [
    "One thing we might notice at this part is that we have some dates. These are represented as text strings, but we can also part them into a \"date-timey\" computational thing that identifies the date *as a date* and let's us do datey things to it."
   ]
  },
  {
   "cell_type": "code",
   "execution_count": 27,
   "metadata": {},
   "outputs": [],
   "source": [
    "#The dateutil package extends the standard Python datetime  module and helps us parse dates\n",
    "#~/anaconda3/bin/pip install python-dateutil\n",
    "from dateutil import parser as dtparser"
   ]
  },
  {
   "cell_type": "code",
   "execution_count": 28,
   "metadata": {},
   "outputs": [],
   "source": [
    "def parsedate(string):\n",
    "    #This is not best practice - if the parse fails, return None\n",
    "    try:\n",
    "        dt = dtparser.parse(string)\n",
    "    except:\n",
    "        dt = None\n",
    "    return dt"
   ]
  },
  {
   "cell_type": "code",
   "execution_count": 29,
   "metadata": {},
   "outputs": [
    {
     "data": {
      "text/plain": [
       "datetime.datetime(2016, 12, 8, 0, 0)"
      ]
     },
     "execution_count": 29,
     "metadata": {},
     "output_type": "execute_result"
    }
   ],
   "source": [
    "parsedate('8 December 2016')"
   ]
  },
  {
   "cell_type": "markdown",
   "metadata": {},
   "source": [
    "Having things in `datetime` format lets us work with them as such. For example, we can display them in a variety of ways:"
   ]
  },
  {
   "cell_type": "code",
   "execution_count": 30,
   "metadata": {},
   "outputs": [
    {
     "name": "stdout",
     "output_type": "stream",
     "text": [
      "08/12/16\n",
      "December 08, 2016\n",
      "Thursday, December , 2016\n",
      "2016-12-08T00:00:00\n"
     ]
    }
   ],
   "source": [
    "print( parsedate('8 December 2016').strftime(\"%d/%m/%y\") )\n",
    "print( parsedate('8 December 2016').strftime(\"%B %d, %Y\") )\n",
    "print( parsedate('8 December 2016').strftime(\"%A, %B %, %Y\") )\n",
    "print( parsedate('8 December 2016').isoformat() )"
   ]
  },
  {
   "cell_type": "markdown",
   "metadata": {},
   "source": [
    "There is a reference card for `strftime` modifiers / formatters here: [http://strftime.org/](http://strftime.org/)\n",
    "\n",
    "We can use the formatter to format our dates for us:"
   ]
  },
  {
   "cell_type": "code",
   "execution_count": 31,
   "metadata": {},
   "outputs": [
    {
     "data": {
      "text/plain": [
       "{'addr': 'Balmoral Park, Aberdeen AB12 3GY',\n",
       " 'cleanertxt': '£2,000 to support my Primary School Christmas Card Competition',\n",
       " 'date': '09 December 2016',\n",
       " 'dateAccd': '8 December 2016',\n",
       " 'dateRxd': '8 December 2016',\n",
       " 'date_f': datetime.datetime(2016, 12, 9, 0, 0),\n",
       " 'name': 'Balmoral Tanks Ltd',\n",
       " 'status': 'company, registration 300656',\n",
       " 'txt': '£2,000 to support my Primary School Christmas Card Competition\\nDate received: 8 December 2016\\nDate accepted: 8 December 2016'}"
      ]
     },
     "execution_count": 31,
     "metadata": {},
     "output_type": "execute_result"
    }
   ],
   "source": [
    "extracteditems['date_f'] = parsedate(extracteditems['date'])\n",
    "extracteditems"
   ]
  },
  {
   "cell_type": "markdown",
   "metadata": {},
   "source": [
    "We can also automate a bit if date items have 'date' to start their name and haven't already been formatted (identified using the `_f` suffix as part of their name)."
   ]
  },
  {
   "cell_type": "markdown",
   "metadata": {},
   "source": [
    "Part of the automation requires creating dict attributes, named after date attributes but with the additional `_f` suffix as part of the name. We can use a Python string formatter to help us do this:"
   ]
  },
  {
   "cell_type": "code",
   "execution_count": 32,
   "metadata": {},
   "outputs": [
    {
     "data": {
      "text/plain": [
       "'date_f'"
      ]
     },
     "execution_count": 32,
     "metadata": {},
     "output_type": "execute_result"
    }
   ],
   "source": [
    "'{}_f'.format('date')"
   ]
  },
  {
   "cell_type": "code",
   "execution_count": 33,
   "metadata": {},
   "outputs": [],
   "source": [
    "def parsedates(record):\n",
    "    #This looks complicated but what it basically does is look for attributes called date* and not ending _f\n",
    "    for k in [k for k in record.keys() if k.lower().startswith('date') and not k.lower().endswith('_f') ]:\n",
    "        #The record is a dict and is mutable - that is, the dict we passed in is changed by the function\n",
    "        record['{}_f'.format(k)] = parsedate( record[k] )"
   ]
  },
  {
   "cell_type": "code",
   "execution_count": 34,
   "metadata": {},
   "outputs": [
    {
     "data": {
      "text/plain": [
       "{'addr': 'Balmoral Park, Aberdeen AB12 3GY',\n",
       " 'cleanertxt': '£2,000 to support my Primary School Christmas Card Competition',\n",
       " 'date': '09 December 2016',\n",
       " 'dateAccd': '8 December 2016',\n",
       " 'dateAccd_f': datetime.datetime(2016, 12, 8, 0, 0),\n",
       " 'dateRxd': '8 December 2016',\n",
       " 'dateRxd_f': datetime.datetime(2016, 12, 8, 0, 0),\n",
       " 'date_f': datetime.datetime(2016, 12, 9, 0, 0),\n",
       " 'name': 'Balmoral Tanks Ltd',\n",
       " 'status': 'company, registration 300656',\n",
       " 'txt': '£2,000 to support my Primary School Christmas Card Competition\\nDate received: 8 December 2016\\nDate accepted: 8 December 2016'}"
      ]
     },
     "execution_count": 34,
     "metadata": {},
     "output_type": "execute_result"
    }
   ],
   "source": [
    "#Remember - this automatically updates the dict we pass to it\n",
    "parsedates(extracteditems)\n",
    "\n",
    "#Show dict updated with parsed dates\n",
    "extracteditems"
   ]
  },
  {
   "cell_type": "markdown",
   "metadata": {},
   "source": [
    "### Where's the money?\n",
    "\n",
    "We've now grabbed quite a lot of the low hanging fruit from the page, but what about the money?\n",
    "\n",
    "Ideally, there should only be one monetary amount specified in an entry (this is not always the case), but for now we'll just make an attempt at grabbing the first. We're also going to assume amounts are converted to, and given as, £ equivalents. To make life easier for the parser, we remove any commas (which is to say, commas used as thouseands separators) from the parsed string by replacing them with an empty string."
   ]
  },
  {
   "cell_type": "code",
   "execution_count": 35,
   "metadata": {},
   "outputs": [
    {
     "name": "stdout",
     "output_type": "stream",
     "text": [
      "£1250000.00 #loadsamoney\n",
      "£1250000.00 #loadsamoney\n"
     ]
    }
   ],
   "source": [
    "print( '£1,250,000.00 #loadsamoney'.replace(',','') )\n",
    "\n",
    "moneystring='£1,250,000.00 #loadsamoney'\n",
    "print( moneystring.replace(',','') )"
   ]
  },
  {
   "cell_type": "code",
   "execution_count": 36,
   "metadata": {},
   "outputs": [],
   "source": [
    "#Define a simple helper function\n",
    "def commaclean(string):\n",
    "    return string.replace(',','')"
   ]
  },
  {
   "cell_type": "code",
   "execution_count": 37,
   "metadata": {},
   "outputs": [
    {
     "data": {
      "text/plain": [
       "'£1250000.00 #loadsamoney'"
      ]
     },
     "execution_count": 37,
     "metadata": {},
     "output_type": "execute_result"
    }
   ],
   "source": [
    "#Demo the helper function\n",
    "commaclean( moneystring )"
   ]
  },
  {
   "cell_type": "markdown",
   "metadata": {},
   "source": [
    "Let's test a cash amount detecting pattern to see how it works with different strings."
   ]
  },
  {
   "cell_type": "code",
   "execution_count": 38,
   "metadata": {},
   "outputs": [
    {
     "name": "stdout",
     "output_type": "stream",
     "text": [
      "I got £5,000, okay?: {'gbp': 5000.0}\n",
      "£5,000: {'gbp': 500.0}\n",
      "£5001: {'gbp': 500.0}\n",
      "They paid me, in 2015, £5000: {'gbp': 2015.0}\n",
      "£1,250,000.00. #loadsamoney: {'gbp': 1250000.0}\n",
      "The sum of £2.75 for a coffee which cost £2.75: {'gbp': 2.75}\n",
      "I got £1000. In two lots: £200 and £800: {'gbp': 1000.0}\n",
      "Gaming the system: I got £1.25 then £50,000 on top: {'gbp': 1.25}\n",
      "I got 50000 you won't pick up on: {'gbp': 50000.0}\n"
     ]
    }
   ],
   "source": [
    "gbppattern = '{?}£{gbp:g}{}'\n",
    "\n",
    "def testcashparse(string):\n",
    "    print('{}: {}'.format(string, todict2(gbppattern, commaclean(string)) ))\n",
    "    \n",
    "\n",
    "testcashparse('I got £5,000, okay?')\n",
    "testcashparse('£5,000')\n",
    "testcashparse('£5001')\n",
    "testcashparse('They paid me, in 2015, £5000')\n",
    "testcashparse('£1,250,000.00. #loadsamoney')\n",
    "testcashparse('The sum of £2.75 for a coffee which cost £2.75')\n",
    "\n",
    "testcashparse('I got £1000. In two lots: £200 and £800')\n",
    "testcashparse('Gaming the system: I got £1.25 then £50,000 on top')\n",
    "testcashparse(\"I got 50000 you won't pick up on\")"
   ]
  },
  {
   "cell_type": "markdown",
   "metadata": {},
   "source": [
    "There are some issues with this:\n",
    "\n",
    "- where the cash item is at the end of the string, it looks like we can lose the last digit because of the final match requirement. We can get round this by adding whitespace at the end (and perhaps also the start) of the string to provide a match opportunity;\n",
    "- things other than financial amounts, which are identified with the preceding £, are returned as numbers. (I'm not sure why?); one of the things the `parse` funciton returns is an index of where the match took place in the parsed string. So if we check the character before a match, if it's a `£` we know we're quids in...\n",
    "- in some cases there may be multiple amounts, so rather than use the `parse()` function let's use the `findall()` function to see if we can find all the sterling amounts."
   ]
  },
  {
   "cell_type": "markdown",
   "metadata": {},
   "source": [
    "When we manage to parse a string, the parser also returns an index that shows where a match took place:"
   ]
  },
  {
   "cell_type": "code",
   "execution_count": 174,
   "metadata": {},
   "outputs": [
    {
     "data": {
      "text/plain": [
       "(<Result ('A sum of £', '0') {'gbp': 100.0}>,\n",
       " {0: (0, 10), 1: (13, 14), 'gbp': (10, 13)})"
      ]
     },
     "execution_count": 174,
     "metadata": {},
     "output_type": "execute_result"
    }
   ],
   "source": [
    "string = 'A sum of £1000'\n",
    "\n",
    "locator = parse(gbppattern, string)\n",
    "locator, locator.spans"
   ]
  },
  {
   "cell_type": "markdown",
   "metadata": {},
   "source": [
    "We can retrieve a particular character from a string by passing referencing its index value, starting at the beginiing of the string (counting up from index 0) or the end of the string (an increasinglt negative count starting with index value -1)."
   ]
  },
  {
   "cell_type": "code",
   "execution_count": 170,
   "metadata": {},
   "outputs": [
    {
     "data": {
      "text/plain": [
       "('a', 'D', 'F')"
      ]
     },
     "execution_count": 170,
     "metadata": {},
     "output_type": "execute_result"
    }
   ],
   "source": [
    "'abc DEF'[0], 'abc DEF'[4], 'abc DEF'[-1]"
   ]
  },
  {
   "cell_type": "markdown",
   "metadata": {},
   "source": [
    "So we can find the character before a match string as follows:"
   ]
  },
  {
   "cell_type": "code",
   "execution_count": 176,
   "metadata": {},
   "outputs": [
    {
     "data": {
      "text/plain": [
       "'£'"
      ]
     },
     "execution_count": 176,
     "metadata": {},
     "output_type": "execute_result"
    }
   ],
   "source": [
    "ix = locator.spans['gbp'][0]-1\n",
    "string[ ix ]"
   ]
  },
  {
   "cell_type": "markdown",
   "metadata": {},
   "source": [
    "We can handle the end-of-line character match requirement by adding whitespace around the string before we parse it, also adding in the ability to check for the presence of a currency symbol."
   ]
  },
  {
   "cell_type": "code",
   "execution_count": 39,
   "metadata": {},
   "outputs": [],
   "source": [
    "def moneyfudge(string):\n",
    "    return ' {} '.format( commaclean(string))"
   ]
  },
  {
   "cell_type": "code",
   "execution_count": 40,
   "metadata": {},
   "outputs": [
    {
     "name": "stdout",
     "output_type": "stream",
     "text": [
      "<Result (' Gaming the system: I got £', ' ') {'gbp': 1.25}> £\n",
      "<Result ('then £', ' ') {'gbp': 50000.0}> £\n",
      "<Result ('on top in', ' ') {'gbp': 2015.0}> n\n"
     ]
    }
   ],
   "source": [
    "moneystring = 'Gaming the system: I got £1.25 then £50,000 on top in 2015'\n",
    "\n",
    "items=findall(gbppattern, moneyfudge(moneystring))\n",
    "for i in items:\n",
    "    print(i, moneyfudge(moneystring)[i.spans['gbp'][0]-1] )"
   ]
  },
  {
   "cell_type": "markdown",
   "metadata": {},
   "source": [
    "Let's create a function to get the financial amounts from a string identified by a preceding currency symbol such as a £ sign.\n",
    "\n",
    "Preemptively, we can also build in a check for amounts in other currencies, using generate a simple `dict` to map currency symbols onto currency labels."
   ]
  },
  {
   "cell_type": "code",
   "execution_count": 41,
   "metadata": {},
   "outputs": [
    {
     "name": "stdout",
     "output_type": "stream",
     "text": [
      "GBP\n",
      "EUR\n",
      "USD\n"
     ]
    }
   ],
   "source": [
    "currencies={'£': 'GBP',\n",
    "            '$': 'USD',\n",
    "            '€': 'EUR'}\n",
    "\n",
    "for unit in ['£', '€', '$']:\n",
    "    print( currencies[unit] )"
   ]
  },
  {
   "cell_type": "markdown",
   "metadata": {},
   "source": [
    "Here are the currency symbols we know about:"
   ]
  },
  {
   "cell_type": "code",
   "execution_count": 42,
   "metadata": {},
   "outputs": [
    {
     "data": {
      "text/plain": [
       "dict_keys(['£', '$', '€'])"
      ]
     },
     "execution_count": 42,
     "metadata": {},
     "output_type": "execute_result"
    }
   ],
   "source": [
    "currencies.keys()"
   ]
  },
  {
   "cell_type": "code",
   "execution_count": 43,
   "metadata": {},
   "outputs": [],
   "source": [
    "def getamounts(string, numpattern = '{}{num:g}{}'):\n",
    "    response = {}\n",
    "    response['amounts'] = []\n",
    "    response['currency'] = []\n",
    "    for amount in findall(numpattern, moneyfudge(string) ):\n",
    "        currency = moneyfudge(string)[amount.spans['num'][0]-1]\n",
    "        if currency in currencies.keys():\n",
    "            response['amounts'].append(amount['num'])\n",
    "            response['currency'].append(currencies[currency])\n",
    "    return response"
   ]
  },
  {
   "cell_type": "code",
   "execution_count": 44,
   "metadata": {},
   "outputs": [
    {
     "data": {
      "text/plain": [
       "{'amounts': [1.25, 50000.0], 'currency': ['GBP', 'GBP']}"
      ]
     },
     "execution_count": 44,
     "metadata": {},
     "output_type": "execute_result"
    }
   ],
   "source": [
    "getamounts(moneystring)"
   ]
  },
  {
   "cell_type": "code",
   "execution_count": 45,
   "metadata": {},
   "outputs": [
    {
     "name": "stdout",
     "output_type": "stream",
     "text": [
      "{'amounts': [5000.0], 'currency': ['GBP']}\n",
      "{'amounts': [5000.0], 'currency': ['GBP']}\n",
      "{'amounts': [5001.0], 'currency': ['GBP']}\n",
      "{'amounts': [5000.0], 'currency': ['GBP']}\n",
      "{'amounts': [1250000.0], 'currency': ['GBP']}\n",
      "{'amounts': [2.75, 2.75], 'currency': ['GBP', 'GBP']}\n",
      "{'amounts': [1000.0, 200.0, 800.0], 'currency': ['GBP', 'GBP', 'GBP']}\n",
      "{'amounts': [1.25, 50000.0], 'currency': ['GBP', 'GBP']}\n",
      "{'amounts': [], 'currency': []}\n"
     ]
    }
   ],
   "source": [
    "print( getamounts('I got £5,000, okay?') )\n",
    "print( getamounts('£5,000') )\n",
    "print( getamounts('£5001') )\n",
    "print( getamounts('They paid me, in 2015, £5000') )\n",
    "print( getamounts('£1,250,000.00. #loadsamoney') )\n",
    "print( getamounts('The sum of £2.75 for a coffee which cost £2.75') )\n",
    "\n",
    "print( getamounts('I got £1000. In two lots: £200 and £800') )\n",
    "print( getamounts('Gaming the system: I got £1.25 then £50,000 on top') )\n",
    "print( getamounts(\"I got 50000 you won't pick up on\") )"
   ]
  },
  {
   "cell_type": "markdown",
   "metadata": {},
   "source": [
    "Right - so we can pull out amounts, if preceded by a currency symbol. (We could perhaps also catch other numbers that don't look like years around the reporting period?) into an \"other numbers\" list for further investigation?) Let's start to think about generating some new items for our `extracteditems` record. We'll create function that returns the maximum, summed and itemised amounts that we can use variously if we want to go digging in the data.\n",
    "\n",
    "We can also try to be clever, and where more that two items are listed, calculate the difference between the total sum and the the maximum amount. If these are equal (or if we are being more elaborate, *nearly* equal) then we might want to check the text to see if the larger amount is specifying the sum of the smaller amounts (in which case, the total sum item is meaningless).\n",
    "\n",
    "Where there are mutliple amounts, we can create a serialised version of the list."
   ]
  },
  {
   "cell_type": "code",
   "execution_count": 46,
   "metadata": {},
   "outputs": [
    {
     "data": {
      "text/plain": [
       "'100::250.25::1000'"
      ]
     },
     "execution_count": 46,
     "metadata": {},
     "output_type": "execute_result"
    }
   ],
   "source": [
    "amounts = [100, 250.25, 1000]\n",
    "#serialise the amounts - making sure they are represented as strings first\n",
    "'::'.join([str(amount) for amount in amounts])"
   ]
  },
  {
   "cell_type": "markdown",
   "metadata": {},
   "source": [
    "When doing the sums, we need to make sure that the sums are calculated on the same currencies. It's easier to do this using a tabular data representation built for doing spreadsheet like operations. The *pandas* package is the go to package for working with tabular datasets, conventionally imported using the name `pd`, so let's load it in."
   ]
  },
  {
   "cell_type": "code",
   "execution_count": 47,
   "metadata": {},
   "outputs": [],
   "source": [
    "#!~/anaconda3/bin/pip install pandas\n",
    "import pandas as pd"
   ]
  },
  {
   "cell_type": "markdown",
   "metadata": {},
   "source": [
    "We can generate a dataframe directly from a list of `dict`s. The `dict` keys specify the column names, and each list entry represents a row."
   ]
  },
  {
   "cell_type": "code",
   "execution_count": 48,
   "metadata": {},
   "outputs": [
    {
     "data": {
      "text/html": [
       "<div>\n",
       "<style scoped>\n",
       "    .dataframe tbody tr th:only-of-type {\n",
       "        vertical-align: middle;\n",
       "    }\n",
       "\n",
       "    .dataframe tbody tr th {\n",
       "        vertical-align: top;\n",
       "    }\n",
       "\n",
       "    .dataframe thead th {\n",
       "        text-align: right;\n",
       "    }\n",
       "</style>\n",
       "<table border=\"1\" class=\"dataframe\">\n",
       "  <thead>\n",
       "    <tr style=\"text-align: right;\">\n",
       "      <th></th>\n",
       "      <th>amounts</th>\n",
       "      <th>currency</th>\n",
       "    </tr>\n",
       "  </thead>\n",
       "  <tbody>\n",
       "    <tr>\n",
       "      <th>0</th>\n",
       "      <td>1000.0</td>\n",
       "      <td>GBP</td>\n",
       "    </tr>\n",
       "    <tr>\n",
       "      <th>1</th>\n",
       "      <td>200.0</td>\n",
       "      <td>GBP</td>\n",
       "    </tr>\n",
       "    <tr>\n",
       "      <th>2</th>\n",
       "      <td>800.0</td>\n",
       "      <td>GBP</td>\n",
       "    </tr>\n",
       "    <tr>\n",
       "      <th>3</th>\n",
       "      <td>500.0</td>\n",
       "      <td>USD</td>\n",
       "    </tr>\n",
       "  </tbody>\n",
       "</table>\n",
       "</div>"
      ],
      "text/plain": [
       "   amounts currency\n",
       "0   1000.0      GBP\n",
       "1    200.0      GBP\n",
       "2    800.0      GBP\n",
       "3    500.0      USD"
      ]
     },
     "execution_count": 48,
     "metadata": {},
     "output_type": "execute_result"
    }
   ],
   "source": [
    "#Generate a test example dataframe\n",
    "df = pd.DataFrame( getamounts('I got £1000. In two lots: £200 and £800. And then $500') )\n",
    "df"
   ]
  },
  {
   "cell_type": "markdown",
   "metadata": {},
   "source": [
    "We can also filter the rows to show just the rows where one or more columns have specified values:"
   ]
  },
  {
   "cell_type": "code",
   "execution_count": 49,
   "metadata": {},
   "outputs": [
    {
     "data": {
      "text/html": [
       "<div>\n",
       "<style scoped>\n",
       "    .dataframe tbody tr th:only-of-type {\n",
       "        vertical-align: middle;\n",
       "    }\n",
       "\n",
       "    .dataframe tbody tr th {\n",
       "        vertical-align: top;\n",
       "    }\n",
       "\n",
       "    .dataframe thead th {\n",
       "        text-align: right;\n",
       "    }\n",
       "</style>\n",
       "<table border=\"1\" class=\"dataframe\">\n",
       "  <thead>\n",
       "    <tr style=\"text-align: right;\">\n",
       "      <th></th>\n",
       "      <th>amounts</th>\n",
       "      <th>currency</th>\n",
       "    </tr>\n",
       "  </thead>\n",
       "  <tbody>\n",
       "    <tr>\n",
       "      <th>0</th>\n",
       "      <td>1000.0</td>\n",
       "      <td>GBP</td>\n",
       "    </tr>\n",
       "    <tr>\n",
       "      <th>1</th>\n",
       "      <td>200.0</td>\n",
       "      <td>GBP</td>\n",
       "    </tr>\n",
       "    <tr>\n",
       "      <th>2</th>\n",
       "      <td>800.0</td>\n",
       "      <td>GBP</td>\n",
       "    </tr>\n",
       "  </tbody>\n",
       "</table>\n",
       "</div>"
      ],
      "text/plain": [
       "   amounts currency\n",
       "0   1000.0      GBP\n",
       "1    200.0      GBP\n",
       "2    800.0      GBP"
      ]
     },
     "execution_count": 49,
     "metadata": {},
     "output_type": "execute_result"
    }
   ],
   "source": [
    "df[ df['currency']=='GBP' ]"
   ]
  },
  {
   "cell_type": "markdown",
   "metadata": {},
   "source": [
    "We can check whether a dataframe, `df`, has at at least one row by testing whether it is empty or not:"
   ]
  },
  {
   "cell_type": "code",
   "execution_count": 50,
   "metadata": {},
   "outputs": [
    {
     "name": "stdout",
     "output_type": "stream",
     "text": [
      "False\n",
      "True\n"
     ]
    }
   ],
   "source": [
    "print( df.empty )\n",
    "print( pd.DataFrame([]).empty )"
   ]
  },
  {
   "cell_type": "markdown",
   "metadata": {},
   "source": [
    "We can also return a dataframe as a `dict` in a variety of orientations:"
   ]
  },
  {
   "cell_type": "code",
   "execution_count": 51,
   "metadata": {},
   "outputs": [
    {
     "data": {
      "text/plain": [
       "{'amounts': [1000.0, 200.0, 800.0, 500.0],\n",
       " 'currency': ['GBP', 'GBP', 'GBP', 'USD']}"
      ]
     },
     "execution_count": 51,
     "metadata": {},
     "output_type": "execute_result"
    }
   ],
   "source": [
    "df.to_dict(orient = 'list')"
   ]
  },
  {
   "cell_type": "markdown",
   "metadata": {},
   "source": [
    "Now let's build a function to generate some amount related measures on our extracted data, by currency."
   ]
  },
  {
   "cell_type": "code",
   "execution_count": 52,
   "metadata": {},
   "outputs": [],
   "source": [
    "def getcheckamounts(string, numpattern = '{}{num:g}{?D}'):\n",
    "    amounts = getamounts(string, numpattern)\n",
    "    \n",
    "    #Generate a dataframe of the amounts\n",
    "    df_amounts = pd.DataFrame( amounts )\n",
    "    \n",
    "    #If there arenlt any amounts, we can bail out now\n",
    "    if df_amounts.empty: return {}\n",
    "\n",
    "    response = {}\n",
    "    \n",
    "    #Generate a dataframe containing just the ukp amounts\n",
    "    df_ukpamounts  = df_amounts[df_amounts['currency']=='GBP']\n",
    "    \n",
    "    response['maxamountGBP'] = max(df_ukpamounts['amounts']) if not df_ukpamounts.empty else 0\n",
    "    response['numamountsGBP'] = len(df_ukpamounts)\n",
    "    response['sumamountsGBP'] = sum(df_ukpamounts['amounts']) if not df_ukpamounts.empty else 0\n",
    "    response['sumlessmaxGBP'] = response['sumamountsGBP'] - response['maxamountGBP'] if len(df_ukpamounts['amounts'])>2 else 0\n",
    "    \n",
    "    response['numamountsOther'] = len(df_amounts) - len(df_ukpamounts)\n",
    "    \n",
    "    #Record amounts for all currency items\n",
    "    response['amounts'] = '::'.join([str(amount) for amount in df_amounts['amounts']])\n",
    "    response['currencies'] = '::'.join([str(currency) for currency in df_amounts['currency']])\n",
    "\n",
    "    return response\n"
   ]
  },
  {
   "cell_type": "code",
   "execution_count": 53,
   "metadata": {},
   "outputs": [
    {
     "name": "stdout",
     "output_type": "stream",
     "text": [
      "I got £1.25 then £50,000 on top in 2015 {'maxamountGBP': 50000.0, 'numamountsGBP': 2, 'sumamountsGBP': 50001.25, 'sumlessmaxGBP': 0, 'numamountsOther': 0, 'amounts': '1.25::50000.0', 'currencies': 'GBP::GBP'} \n",
      "\n",
      "£1.25 {'maxamountGBP': 1.25, 'numamountsGBP': 1, 'sumamountsGBP': 1.25, 'sumlessmaxGBP': 0, 'numamountsOther': 0, 'amounts': '1.25', 'currencies': 'GBP'} \n",
      "\n",
      "No money {} \n",
      "\n",
      "Four payments, £100, £200 and £400 to give £701 total, and then $5000 more {'maxamountGBP': 701.0, 'numamountsGBP': 4, 'sumamountsGBP': 1401.0, 'sumlessmaxGBP': 700.0, 'numamountsOther': 1, 'amounts': '100.0::200.0::400.0::701.0::5000.0', 'currencies': 'GBP::GBP::GBP::GBP::USD'} \n",
      "\n"
     ]
    }
   ],
   "source": [
    "tests = ['I got £1.25 then £50,000 on top in 2015',\n",
    "         '£1.25',\n",
    "         'No money',\n",
    "         'Four payments, £100, £200 and £400 to give £701 total, and then $5000 more' ]\n",
    "\n",
    "for test in tests:\n",
    "    print( test, getcheckamounts(test) , '\\n')"
   ]
  },
  {
   "cell_type": "markdown",
   "metadata": {},
   "source": [
    "This may look overly complex, but this is just a beginning if we are to try to buid logic in that will detect amounts submitted, for whatever reason, in arbitrary ways."
   ]
  },
  {
   "cell_type": "markdown",
   "metadata": {},
   "source": [
    "#### An Aside - Foreign Currency Exchange Rates\n",
    "If amounts are submitted in other currencies, we can use date information to calculate equivalent sterling amounts using historical exchange rate data.\n",
    "\n",
    "The [`forex-python`](http://forex-python.readthedocs.io/en/latest/usage.html) package provides one way of doing this."
   ]
  },
  {
   "cell_type": "code",
   "execution_count": 54,
   "metadata": {},
   "outputs": [],
   "source": [
    "#!~/anaconda3/bin/pip install forex-python"
   ]
  },
  {
   "cell_type": "code",
   "execution_count": 55,
   "metadata": {},
   "outputs": [
    {
     "data": {
      "text/plain": [
       "datetime.datetime(2015, 2, 10, 0, 0)"
      ]
     },
     "execution_count": 55,
     "metadata": {},
     "output_type": "execute_result"
    }
   ],
   "source": [
    "testdate = parsedate('February 10th 2015')\n",
    "testdate"
   ]
  },
  {
   "cell_type": "code",
   "execution_count": 56,
   "metadata": {},
   "outputs": [
    {
     "data": {
      "text/plain": [
       "65.681"
      ]
     },
     "execution_count": 56,
     "metadata": {},
     "output_type": "execute_result"
    }
   ],
   "source": [
    "from forex_python.converter import CurrencyRates\n",
    "c = CurrencyRates()\n",
    "#Convert $100 to UKP using exchange rate as of February, 2015\n",
    "c.convert('USD', 'GBP', 100, testdate)  "
   ]
  },
  {
   "cell_type": "markdown",
   "metadata": {},
   "source": [
    "### Adding Amounts Data to the `extracteditems` record\n",
    "\n",
    "Let's have a go at adding that information to the `extracteditems` record. The text we want to parse is in the `txt` field, and perhaps also in simplified form in the `cleanertxt` field."
   ]
  },
  {
   "cell_type": "code",
   "execution_count": 57,
   "metadata": {},
   "outputs": [
    {
     "data": {
      "text/plain": [
       "'£2,000 to support my Primary School Christmas Card Competition\\nDate received: 8 December 2016\\nDate accepted: 8 December 2016'"
      ]
     },
     "execution_count": 57,
     "metadata": {},
     "output_type": "execute_result"
    }
   ],
   "source": [
    "extracteditems['txt']"
   ]
  },
  {
   "cell_type": "code",
   "execution_count": 58,
   "metadata": {},
   "outputs": [
    {
     "data": {
      "text/plain": [
       "{'addr': 'Balmoral Park, Aberdeen AB12 3GY',\n",
       " 'amounts': '2000.0',\n",
       " 'cleanertxt': '£2,000 to support my Primary School Christmas Card Competition',\n",
       " 'currencies': 'GBP',\n",
       " 'date': '09 December 2016',\n",
       " 'dateAccd': '8 December 2016',\n",
       " 'dateAccd_f': datetime.datetime(2016, 12, 8, 0, 0),\n",
       " 'dateRxd': '8 December 2016',\n",
       " 'dateRxd_f': datetime.datetime(2016, 12, 8, 0, 0),\n",
       " 'date_f': datetime.datetime(2016, 12, 9, 0, 0),\n",
       " 'maxamountGBP': 2000.0,\n",
       " 'name': 'Balmoral Tanks Ltd',\n",
       " 'numamountsGBP': 1,\n",
       " 'numamountsOther': 0,\n",
       " 'status': 'company, registration 300656',\n",
       " 'sumamountsGBP': 2000.0,\n",
       " 'sumlessmaxGBP': 0,\n",
       " 'txt': '£2,000 to support my Primary School Christmas Card Competition\\nDate received: 8 December 2016\\nDate accepted: 8 December 2016'}"
      ]
     },
     "execution_count": 58,
     "metadata": {},
     "output_type": "execute_result"
    }
   ],
   "source": [
    "# The .update() method updates the contents of the dict directly\n",
    "extracteditems.update( getcheckamounts( extracteditems['txt']) )\n",
    "extracteditems"
   ]
  },
  {
   "cell_type": "markdown",
   "metadata": {},
   "source": [
    "### Finding More Structure From the Original Page\n",
    "\n",
    "Looking back at the original page, we notice that the entries are grouped acorrding to different sorts of interest, such as *2. (a) Support linked to an MP but received by a local party organisation or indirectly via a central party organisation* or *3. Gifts, benefits and hospitality from UK sources*.\n",
    "\n",
    "We can detect when we enter a section by detecting a paragraph that starts with one of these headings:"
   ]
  },
  {
   "cell_type": "code",
   "execution_count": 59,
   "metadata": {},
   "outputs": [
    {
     "name": "stdout",
     "output_type": "stream",
     "text": [
      "1. Employment and earnings\n",
      "2. (a) Support linked to an MP but received by a local party organisation or indirectly via a central party organisation\n",
      "2. (b) Any other support not included in Category 2(a)\n",
      "3. Gifts, benefits and hospitality from UK sources\n",
      "4. Visits outside the UK\n",
      "8. Miscellaneous\n"
     ]
    }
   ],
   "source": [
    "for p in ptags:\n",
    "    #The .startswith() method accepts a tuple (enumeration of things in a pair of brackets) to check against\n",
    "    #If the text startswith any of the strings in the tuple, the condition evaluates true for that text\n",
    "    if p.text and p.text.startswith(('1.','2.','3.','4.','5.','6.','7.','8.')):\n",
    "        print(p.text)"
   ]
  },
  {
   "cell_type": "markdown",
   "metadata": {},
   "source": [
    "## A Semi-Structured Parser for Employment Information\n",
    "\n",
    "Looking through some of the member pages, there are other elements of structure that we should be able to pull on. For example, many pages have content of the following form in the `Employment and earnings` section which we should be able to pull out:\n",
    "\n",
    "```\n",
    "1. Employment and earnings\n",
    "\n",
    "Payments from ComRes, 4 Millbank, London SW1P 3JA:\n",
    "26 January 2016, £75 for participating in Parliamentary Panel Survey. Hours: 15 mins. (Registered 03 August 2016)\n",
    "4 April 2016, £75 for participating in Parliamentary Panel Survey. Hours: 20 mins. (Registered 03 August 2016)\n",
    "20 May 2016, £100 for participating in Parliamentary Panel Survey. Hours: 15 mins. (Registered 03 August 2016)\n",
    "\n",
    "Payments from YouGov, 50 Featherstone St, London EC1Y 8RT:\n",
    "13 Jan 2016, £50 for participating in an online survey. Hours: 15 mins. (Registered 05 December 2016)\n",
    "4 Mar 2016, £30 for participating in an online survey. Hours: 15 mins. (Registered 05 December 2016)\n",
    "```"
   ]
  },
  {
   "cell_type": "code",
   "execution_count": 60,
   "metadata": {},
   "outputs": [
    {
     "data": {
      "text/plain": [
       "'13 December 2016, received £2,500 from Hampshire Cricket, The Ageas Bowl, Botley Road, West End, Southampton SO30 3XH, for media and communications training. Hours: 16 hrs including travel and preparation. (Registered 19 December 2016)'"
      ]
     },
     "execution_count": 60,
     "metadata": {},
     "output_type": "execute_result"
    }
   ],
   "source": [
    "#Example text\n",
    "ptags[2].text"
   ]
  },
  {
   "cell_type": "code",
   "execution_count": 61,
   "metadata": {},
   "outputs": [],
   "source": [
    "employmentpattern1 = '''{empdate},{txt2} Hours: {hours}(Registered {date})'''"
   ]
  },
  {
   "cell_type": "code",
   "execution_count": 62,
   "metadata": {},
   "outputs": [
    {
     "data": {
      "text/plain": [
       "{'date': '19 December 2016',\n",
       " 'empdate': '13 December 2016',\n",
       " 'hours': '16 hrs including travel and preparation. ',\n",
       " 'txt2': ' received £2,500 from Hampshire Cricket, The Ageas Bowl, Botley Road, West End, Southampton SO30 3XH, for media and communications training.'}"
      ]
     },
     "execution_count": 62,
     "metadata": {},
     "output_type": "execute_result"
    }
   ],
   "source": [
    "todict2( employmentpattern1, ptags[2].text )"
   ]
  },
  {
   "cell_type": "code",
   "execution_count": 63,
   "metadata": {},
   "outputs": [
    {
     "data": {
      "text/plain": [
       "{'date': '03 August 2016',\n",
       " 'empdate': '26 January 2016',\n",
       " 'hours': '15 mins. ',\n",
       " 'txt2': ' £75 for participating in Parliamentary Panel Survey.'}"
      ]
     },
     "execution_count": 63,
     "metadata": {},
     "output_type": "execute_result"
    }
   ],
   "source": [
    "string = '26 January 2016, £75 for participating in Parliamentary Panel Survey. Hours: 15 mins. (Registered 03 August 2016)'\n",
    "todict2( employmentpattern1,string )"
   ]
  },
  {
   "cell_type": "code",
   "execution_count": 64,
   "metadata": {},
   "outputs": [],
   "source": [
    "employmentsubpattern1 = '''{emptxt} for {empfor} from {empfrom}'''\n",
    "employmentsubpattern2 = '''{emptxt} from {empfrom} for {empfor}'''\n",
    "employmentsubpattern3 = '''{emptxt} for {empfor}'''\n",
    "employmentsubpattern4 = '''{emptxt} from {empfrom}'''"
   ]
  },
  {
   "cell_type": "code",
   "execution_count": 65,
   "metadata": {},
   "outputs": [
    {
     "name": "stdout",
     "output_type": "stream",
     "text": [
      "£75 for participating in Parliamentary Panel Survey {'emptxt': '£75', 'empfor': 'participating in Parliamentary Panel Survey'} \n",
      "\n",
      "£75 from this or that org for participating in Parliamentary Panel Survey {'emptxt': '£75', 'empfrom': 'this or that org', 'empfor': 'participating in Parliamentary Panel Survey'} \n",
      "\n",
      "£75 for participating in Parliamentary Panel Survey from this or that org {'emptxt': '£75', 'empfor': 'participating in Parliamentary Panel Survey', 'empfrom': 'this or that org'} \n",
      "\n",
      "£75 from this or that org {'emptxt': '£75', 'empfrom': 'this or that org'} \n",
      "\n",
      "£75 from the Society for Whatever for doing a thing {'emptxt': '£75', 'empfrom': 'the Society', 'empfor': 'Whatever for doing a thing'} \n",
      "\n",
      "£75 from the Society for Whatever {'emptxt': '£75', 'empfrom': 'the Society', 'empfor': 'Whatever'} \n",
      "\n",
      "£75 for doing whatever from the Society for Whatever {'emptxt': '£75', 'empfor': 'doing whatever', 'empfrom': 'the Society for Whatever'} \n",
      "\n",
      "£75 from the Society for Whatever and for Whenever for doing whatever  {'emptxt': '£75', 'empfrom': 'the Society', 'empfor': 'Whatever and for Whenever for doing whatever '} \n",
      "\n"
     ]
    }
   ],
   "source": [
    "teststrings = ['£75 for participating in Parliamentary Panel Survey',\n",
    "               '£75 from this or that org for participating in Parliamentary Panel Survey',\n",
    "               '£75 for participating in Parliamentary Panel Survey from this or that org',\n",
    "               '£75 from this or that org',\n",
    "               '£75 from the Society for Whatever for doing a thing',\n",
    "               '£75 from the Society for Whatever',\n",
    "               '£75 for doing whatever from the Society for Whatever',\n",
    "               '£75 from the Society for Whatever and for Whenever for doing whatever ']\n",
    "\n",
    "for string in teststrings:\n",
    "    test = todict2( employmentsubpattern1, string)\n",
    "    if not test:\n",
    "        test = todict2( employmentsubpattern2, string)\n",
    "    if not test:\n",
    "        test = todict2( employmentsubpattern3, string)\n",
    "    if not test:\n",
    "        test = todict2( employmentsubpattern4, string)\n",
    "    print(string, test,'\\n')\n",
    "    \n"
   ]
  },
  {
   "cell_type": "markdown",
   "metadata": {},
   "source": [
    "One of the issues we have here is identifying whether or nor a *for* is part of the name or not.\n",
    "\n",
    "If a *for* is extracted into a \"for\" attribute, we can perhaps assume that it needs pushing back into the \"from\" attribute. But things can get messy as the above examples show,\n",
    "\n",
    "So this is largely parked for now other than to bludgeon the hadnling of a \"for in for\"."
   ]
  },
  {
   "cell_type": "code",
   "execution_count": 66,
   "metadata": {},
   "outputs": [],
   "source": [
    "def forcatcher(record):\n",
    "    #Try to catch the \"Society for Whatever\"\n",
    "    #Also things like the Society for This and for That\n",
    "    if 'for' in record and ' for ' in record['for']: \n",
    "        record['from'] = ' for '.join([record['from']] + record['for'].split('for')[:-1]).strip()\n",
    "        record['for'] = record['for'].split('for')[-1].strip()\n",
    "        \n",
    "        #We can get rid of any double spaces by splitting and rejoining a string on a space\n",
    "        record['from'] = ' '.join(record['from'].split())\n",
    "        record['for'] = ' '.join(record['for'].split())\n",
    "\n",
    "    return record"
   ]
  },
  {
   "cell_type": "code",
   "execution_count": 67,
   "metadata": {},
   "outputs": [],
   "source": [
    "def getemploymentsubdetails(string):\n",
    "    empdetail = todict2( employmentsubpattern1, string)\n",
    "    if not empdetail:\n",
    "        empdetail = todict2( employmentsubpattern2, string)\n",
    "    if not empdetail:\n",
    "        empdetail = todict2( employmentsubpattern3, string)\n",
    "    if not empdetail:\n",
    "        empdetail = todict2( employmentsubpattern4, string)\n",
    "    return empdetail"
   ]
  },
  {
   "cell_type": "code",
   "execution_count": 68,
   "metadata": {},
   "outputs": [
    {
     "name": "stdout",
     "output_type": "stream",
     "text": [
      "£75 for participating in Parliamentary Panel Survey {'emptxt': '£75', 'empfor': 'participating in Parliamentary Panel Survey'} \n",
      "\n",
      "£75 from this or that org for participating in Parliamentary Panel Survey {'emptxt': '£75', 'empfrom': 'this or that org', 'empfor': 'participating in Parliamentary Panel Survey'} \n",
      "\n",
      "£75 for participating in Parliamentary Panel Survey from this or that org {'emptxt': '£75', 'empfor': 'participating in Parliamentary Panel Survey', 'empfrom': 'this or that org'} \n",
      "\n",
      "£75 from this or that org {'emptxt': '£75', 'empfrom': 'this or that org'} \n",
      "\n",
      "£75 from the Society for Whatever for doing a thing {'emptxt': '£75', 'empfrom': 'the Society', 'empfor': 'Whatever for doing a thing'} \n",
      "\n",
      "£75 from the Society for Whatever {'emptxt': '£75', 'empfrom': 'the Society', 'empfor': 'Whatever'} \n",
      "\n",
      "£75 for doing whatever from the Society for Whatever {'emptxt': '£75', 'empfor': 'doing whatever', 'empfrom': 'the Society for Whatever'} \n",
      "\n",
      "£75 from the Society for Whatever and for Whenever for doing whatever  {'emptxt': '£75', 'empfrom': 'the Society', 'empfor': 'Whatever and for Whenever for doing whatever '} \n",
      "\n"
     ]
    }
   ],
   "source": [
    "for string in teststrings:\n",
    "    test = getemploymentsubdetails(string)\n",
    "    print(string, forcatcher(test),'\\n')"
   ]
  },
  {
   "cell_type": "code",
   "execution_count": 69,
   "metadata": {},
   "outputs": [],
   "source": [
    "def getemploymentdetails(string):\n",
    "    employmentdetails = todict2( employmentpattern1, string )\n",
    "    #Enrich with further extractions\n",
    "    if employmentdetails:\n",
    "        employmentdetails.update( getemploymentsubdetails(employmentdetails['txt2']) )\n",
    "        employmentdetails.update( getcheckamounts(employmentdetails['txt2']) )\n",
    "        employmentdetails = forcatcher(employmentdetails)\n",
    "    return employmentdetails"
   ]
  },
  {
   "cell_type": "code",
   "execution_count": 70,
   "metadata": {},
   "outputs": [
    {
     "data": {
      "text/plain": [
       "{'amounts': '2500.0',\n",
       " 'currencies': 'GBP',\n",
       " 'date': '19 December 2016',\n",
       " 'empdate': '13 December 2016',\n",
       " 'empfor': 'media and communications training.',\n",
       " 'empfrom': 'Hampshire Cricket, The Ageas Bowl, Botley Road, West End, Southampton SO30 3XH,',\n",
       " 'emptxt': ' received £2,500',\n",
       " 'hours': '16 hrs including travel and preparation. ',\n",
       " 'maxamountGBP': 2500.0,\n",
       " 'numamountsGBP': 1,\n",
       " 'numamountsOther': 0,\n",
       " 'sumamountsGBP': 2500.0,\n",
       " 'sumlessmaxGBP': 0,\n",
       " 'txt2': ' received £2,500 from Hampshire Cricket, The Ageas Bowl, Botley Road, West End, Southampton SO30 3XH, for media and communications training.'}"
      ]
     },
     "execution_count": 70,
     "metadata": {},
     "output_type": "execute_result"
    }
   ],
   "source": [
    "getemploymentdetails(ptags[2].text)"
   ]
  },
  {
   "cell_type": "markdown",
   "metadata": {},
   "source": [
    "Inspection of some other records suggest that sometimes a nested structure might be used to represent payments from the same source:"
   ]
  },
  {
   "cell_type": "code",
   "execution_count": 71,
   "metadata": {},
   "outputs": [],
   "source": [
    "url2='https://publications.parliament.uk/pa/cm/cmregmem/170502/gray_james.htm'\n",
    "r2 = session.get(url2)\n",
    "ptags2 = r2.html.find('#mainTextBlock > p')"
   ]
  },
  {
   "cell_type": "code",
   "execution_count": 72,
   "metadata": {},
   "outputs": [
    {
     "name": "stdout",
     "output_type": "stream",
     "text": [
      "Payments from ComRes, 4 Millbank, London SW1P 3JA:\n",
      "26 January 2016, £75 for participating in Parliamentary Panel Survey. Hours: 15 mins. (Registered 03 August 2016)\n",
      "4 April 2016, £75 for participating in Parliamentary Panel Survey. Hours: 20 mins. (Registered 03 August 2016)\n",
      "20 May 2016, £100 for participating in Parliamentary Panel Survey. Hours: 15 mins. (Registered 03 August 2016)\n",
      "20 July 2016, £75 for participating in Parliamentary Panel Survey. Hours: 15 mins. (Registered 03 August 2016)\n",
      "31 October 2016, £75 for participating in Parliamentary Panel Survey. Hours: 15 mins. (Registered 31 October 2016)\n",
      "16 December 2016, payment of £75 for taking part in an online survey. Hours: 15 mins. (Registered 16 December 2016)\n",
      "Payments from YouGov, 50 Featherstone St, London EC1Y 8RT:\n",
      "13 Jan 2016, £50 for participating in an online survey. Hours: 15 mins. (Registered 05 December 2016)\n",
      "4 Mar 2016, £30 for participating in an online survey. Hours: 15 mins. (Registered 05 December 2016)\n",
      "4 Apr 2016, £20 for participating in an online survey. Hours: 10 mins. (Registered 05 December 2016)\n",
      "17 May 2016, £80 for participating in an online survey. Hours: 20 mins. (Registered 05 December 2016)\n",
      "28 Jun 2016, £40 for participating in an online survey. Hours: 15 mins. (Registered 05 December 2016)\n"
     ]
    }
   ],
   "source": [
    "for i in range(2,15):\n",
    "    print(ptags2[i].text)"
   ]
  },
  {
   "cell_type": "code",
   "execution_count": 73,
   "metadata": {},
   "outputs": [
    {
     "data": {
      "text/html": [
       "<div>\n",
       "<style scoped>\n",
       "    .dataframe tbody tr th:only-of-type {\n",
       "        vertical-align: middle;\n",
       "    }\n",
       "\n",
       "    .dataframe tbody tr th {\n",
       "        vertical-align: top;\n",
       "    }\n",
       "\n",
       "    .dataframe thead th {\n",
       "        text-align: right;\n",
       "    }\n",
       "</style>\n",
       "<table border=\"1\" class=\"dataframe\">\n",
       "  <thead>\n",
       "    <tr style=\"text-align: right;\">\n",
       "      <th></th>\n",
       "      <th>txt</th>\n",
       "      <th>txt2</th>\n",
       "    </tr>\n",
       "  </thead>\n",
       "  <tbody>\n",
       "    <tr>\n",
       "      <th>0</th>\n",
       "      <td>16 December 2016, £60 for taking part in an on...</td>\n",
       "      <td>NaN</td>\n",
       "    </tr>\n",
       "    <tr>\n",
       "      <th>1</th>\n",
       "      <td>Payments from Ipsos MORI, 79-81 Borough Road, ...</td>\n",
       "      <td>NaN</td>\n",
       "    </tr>\n",
       "    <tr>\n",
       "      <th>2</th>\n",
       "      <td>NaN</td>\n",
       "      <td>payment of £200 for participating in Ipsos MO...</td>\n",
       "    </tr>\n",
       "    <tr>\n",
       "      <th>3</th>\n",
       "      <td>NaN</td>\n",
       "      <td>payment of £200 for participating in Ipsos MO...</td>\n",
       "    </tr>\n",
       "    <tr>\n",
       "      <th>4</th>\n",
       "      <td>Payments from Populus, 10 Northburgh Street, L...</td>\n",
       "      <td>NaN</td>\n",
       "    </tr>\n",
       "    <tr>\n",
       "      <th>5</th>\n",
       "      <td>NaN</td>\n",
       "      <td>£50 for participating in a research project.</td>\n",
       "    </tr>\n",
       "  </tbody>\n",
       "</table>\n",
       "</div>"
      ],
      "text/plain": [
       "                                                 txt  \\\n",
       "0  16 December 2016, £60 for taking part in an on...   \n",
       "1  Payments from Ipsos MORI, 79-81 Borough Road, ...   \n",
       "2                                                NaN   \n",
       "3                                                NaN   \n",
       "4  Payments from Populus, 10 Northburgh Street, L...   \n",
       "5                                                NaN   \n",
       "\n",
       "                                                txt2  \n",
       "0                                                NaN  \n",
       "1                                                NaN  \n",
       "2   payment of £200 for participating in Ipsos MO...  \n",
       "3   payment of £200 for participating in Ipsos MO...  \n",
       "4                                                NaN  \n",
       "5       £50 for participating in a research project.  "
      ]
     },
     "execution_count": 73,
     "metadata": {},
     "output_type": "execute_result"
    }
   ],
   "source": [
    "df = pd.DataFrame()\n",
    "for i in range(18,24):\n",
    "    empdetails = getemploymentdetails(ptags2[i].text)\n",
    "    if empdetails:\n",
    "        df = pd.concat([df,pd.DataFrame([empdetails])])\n",
    "    else:\n",
    "        #Add a row containing unparsed text\n",
    "        dummy = {'txt':ptags2[i].text}\n",
    "        df = pd.concat([df,pd.DataFrame([dummy])])\n",
    "    extracteditems['txt'] = p.text\n",
    "    \n",
    "#Reset the index\n",
    "df.reset_index(drop=True, inplace=True)\n",
    "df[['txt','txt2']]"
   ]
  },
  {
   "cell_type": "markdown",
   "metadata": {},
   "source": [
    "Inspecting tha dataframe, we notice that we can \"fill down\" on the dataframe to generate a string that might provide information about who made a payment."
   ]
  },
  {
   "cell_type": "code",
   "execution_count": 74,
   "metadata": {},
   "outputs": [
    {
     "data": {
      "text/plain": [
       "0    16 December 2016, £60 for taking part in an on...\n",
       "1    Payments from Ipsos MORI, 79-81 Borough Road, ...\n",
       "2    Payments from Ipsos MORI, 79-81 Borough Road, ...\n",
       "3    Payments from Ipsos MORI, 79-81 Borough Road, ...\n",
       "4    Payments from Populus, 10 Northburgh Street, L...\n",
       "5    Payments from Populus, 10 Northburgh Street, L...\n",
       "Name: txt4, dtype: object"
      ]
     },
     "execution_count": 74,
     "metadata": {},
     "output_type": "execute_result"
    }
   ],
   "source": [
    "#Create a new working column\n",
    "df['txt4'] = df['txt']\n",
    "#Fill down\n",
    "df['txt4'] = df['txt4'].fillna(method='ffill')\n",
    "df['txt4']"
   ]
  },
  {
   "cell_type": "code",
   "execution_count": 75,
   "metadata": {},
   "outputs": [],
   "source": [
    "emppaymentsubpattern1 = '''{} from {empfromsub}, {empaddr}'''\n",
    "emppaymentsubpattern2 = '''{} via {empfromsub}, {empaddr}'''\n",
    "emppaymentsubpattern3 = '''{} from {empfromsub}'''\n",
    "emppaymentsubpattern4 = '''{} via {empfromsub}'''"
   ]
  },
  {
   "cell_type": "code",
   "execution_count": 76,
   "metadata": {},
   "outputs": [],
   "source": [
    "def getemppaymentsubdetails(string):\n",
    "    #Check that we have a valid string to parse, else return an empty dict\n",
    "    if pd.isnull(string): return {}\n",
    "    \n",
    "    emppaymentdetail = todict2( emppaymentsubpattern1, string)\n",
    "    if not emppaymentdetail:\n",
    "        emppaymentdetail = todict2( emppaymentsubpattern2, string)\n",
    "    if not emppaymentdetail:\n",
    "        emppaymentdetail = todict2( emppaymentsubpattern3, string)\n",
    "    if not emppaymentdetail:\n",
    "        emppaymentdetail = todict2( emppaymentsubpattern4, string)\n",
    "    return emppaymentdetail"
   ]
  },
  {
   "cell_type": "code",
   "execution_count": 77,
   "metadata": {},
   "outputs": [
    {
     "data": {
      "text/plain": [
       "0                                                   {}\n",
       "1    {'empfromsub': 'Ipsos MORI', 'empaddr': '79-81...\n",
       "2    {'empfromsub': 'Ipsos MORI', 'empaddr': '79-81...\n",
       "3    {'empfromsub': 'Ipsos MORI', 'empaddr': '79-81...\n",
       "4    {'empfromsub': 'Populus', 'empaddr': '10 North...\n",
       "5    {'empfromsub': 'Populus', 'empaddr': '10 North...\n",
       "Name: txt4, dtype: object"
      ]
     },
     "execution_count": 77,
     "metadata": {},
     "output_type": "execute_result"
    }
   ],
   "source": [
    "df['txt4'].apply(getemppaymentsubdetails)"
   ]
  },
  {
   "cell_type": "markdown",
   "metadata": {},
   "source": [
    "We can then cast the column that contains the extracted `dict` across new columns."
   ]
  },
  {
   "cell_type": "code",
   "execution_count": 78,
   "metadata": {},
   "outputs": [
    {
     "data": {
      "text/html": [
       "<div>\n",
       "<style scoped>\n",
       "    .dataframe tbody tr th:only-of-type {\n",
       "        vertical-align: middle;\n",
       "    }\n",
       "\n",
       "    .dataframe tbody tr th {\n",
       "        vertical-align: top;\n",
       "    }\n",
       "\n",
       "    .dataframe thead th {\n",
       "        text-align: right;\n",
       "    }\n",
       "</style>\n",
       "<table border=\"1\" class=\"dataframe\">\n",
       "  <thead>\n",
       "    <tr style=\"text-align: right;\">\n",
       "      <th></th>\n",
       "      <th>empaddr</th>\n",
       "      <th>empfromsub</th>\n",
       "    </tr>\n",
       "  </thead>\n",
       "  <tbody>\n",
       "    <tr>\n",
       "      <th>0</th>\n",
       "      <td>NaN</td>\n",
       "      <td>NaN</td>\n",
       "    </tr>\n",
       "    <tr>\n",
       "      <th>1</th>\n",
       "      <td>79-81 Borough Road, London SE1 1FY for opinion...</td>\n",
       "      <td>Ipsos MORI</td>\n",
       "    </tr>\n",
       "    <tr>\n",
       "      <th>2</th>\n",
       "      <td>79-81 Borough Road, London SE1 1FY for opinion...</td>\n",
       "      <td>Ipsos MORI</td>\n",
       "    </tr>\n",
       "    <tr>\n",
       "      <th>3</th>\n",
       "      <td>79-81 Borough Road, London SE1 1FY for opinion...</td>\n",
       "      <td>Ipsos MORI</td>\n",
       "    </tr>\n",
       "    <tr>\n",
       "      <th>4</th>\n",
       "      <td>10 Northburgh Street, London EC1V 0AT:</td>\n",
       "      <td>Populus</td>\n",
       "    </tr>\n",
       "    <tr>\n",
       "      <th>5</th>\n",
       "      <td>10 Northburgh Street, London EC1V 0AT:</td>\n",
       "      <td>Populus</td>\n",
       "    </tr>\n",
       "  </tbody>\n",
       "</table>\n",
       "</div>"
      ],
      "text/plain": [
       "                                             empaddr  empfromsub\n",
       "0                                                NaN         NaN\n",
       "1  79-81 Borough Road, London SE1 1FY for opinion...  Ipsos MORI\n",
       "2  79-81 Borough Road, London SE1 1FY for opinion...  Ipsos MORI\n",
       "3  79-81 Borough Road, London SE1 1FY for opinion...  Ipsos MORI\n",
       "4             10 Northburgh Street, London EC1V 0AT:     Populus\n",
       "5             10 Northburgh Street, London EC1V 0AT:     Populus"
      ]
     },
     "execution_count": 78,
     "metadata": {},
     "output_type": "execute_result"
    }
   ],
   "source": [
    "df['txt4'].apply(getemppaymentsubdetails).apply(pd.Series)"
   ]
  },
  {
   "cell_type": "code",
   "execution_count": 79,
   "metadata": {},
   "outputs": [
    {
     "data": {
      "text/html": [
       "<div>\n",
       "<style scoped>\n",
       "    .dataframe tbody tr th:only-of-type {\n",
       "        vertical-align: middle;\n",
       "    }\n",
       "\n",
       "    .dataframe tbody tr th {\n",
       "        vertical-align: top;\n",
       "    }\n",
       "\n",
       "    .dataframe thead th {\n",
       "        text-align: right;\n",
       "    }\n",
       "</style>\n",
       "<table border=\"1\" class=\"dataframe\">\n",
       "  <thead>\n",
       "    <tr style=\"text-align: right;\">\n",
       "      <th></th>\n",
       "      <th>amounts</th>\n",
       "      <th>currencies</th>\n",
       "      <th>date</th>\n",
       "      <th>empdate</th>\n",
       "      <th>empfor</th>\n",
       "      <th>emptxt</th>\n",
       "      <th>hours</th>\n",
       "      <th>maxamountGBP</th>\n",
       "      <th>numamountsGBP</th>\n",
       "      <th>numamountsOther</th>\n",
       "      <th>sumamountsGBP</th>\n",
       "      <th>sumlessmaxGBP</th>\n",
       "      <th>txt</th>\n",
       "      <th>txt2</th>\n",
       "      <th>txt4</th>\n",
       "      <th>empaddr</th>\n",
       "      <th>empfromsub</th>\n",
       "    </tr>\n",
       "  </thead>\n",
       "  <tbody>\n",
       "    <tr>\n",
       "      <th>0</th>\n",
       "      <td>NaN</td>\n",
       "      <td>NaN</td>\n",
       "      <td>NaN</td>\n",
       "      <td>NaN</td>\n",
       "      <td>NaN</td>\n",
       "      <td>NaN</td>\n",
       "      <td>NaN</td>\n",
       "      <td>NaN</td>\n",
       "      <td>NaN</td>\n",
       "      <td>NaN</td>\n",
       "      <td>NaN</td>\n",
       "      <td>NaN</td>\n",
       "      <td>16 December 2016, £60 for taking part in an on...</td>\n",
       "      <td>NaN</td>\n",
       "      <td>16 December 2016, £60 for taking part in an on...</td>\n",
       "      <td>NaN</td>\n",
       "      <td>NaN</td>\n",
       "    </tr>\n",
       "    <tr>\n",
       "      <th>1</th>\n",
       "      <td>NaN</td>\n",
       "      <td>NaN</td>\n",
       "      <td>NaN</td>\n",
       "      <td>NaN</td>\n",
       "      <td>NaN</td>\n",
       "      <td>NaN</td>\n",
       "      <td>NaN</td>\n",
       "      <td>NaN</td>\n",
       "      <td>NaN</td>\n",
       "      <td>NaN</td>\n",
       "      <td>NaN</td>\n",
       "      <td>NaN</td>\n",
       "      <td>Payments from Ipsos MORI, 79-81 Borough Road, ...</td>\n",
       "      <td>NaN</td>\n",
       "      <td>Payments from Ipsos MORI, 79-81 Borough Road, ...</td>\n",
       "      <td>79-81 Borough Road, London SE1 1FY for opinion...</td>\n",
       "      <td>Ipsos MORI</td>\n",
       "    </tr>\n",
       "    <tr>\n",
       "      <th>2</th>\n",
       "      <td>200.0</td>\n",
       "      <td>GBP</td>\n",
       "      <td>02 August 2016</td>\n",
       "      <td>2 August 2016</td>\n",
       "      <td>participating in Ipsos MORI's summer survey.</td>\n",
       "      <td>payment of £200</td>\n",
       "      <td>30 mins.</td>\n",
       "      <td>200.0</td>\n",
       "      <td>1.0</td>\n",
       "      <td>0.0</td>\n",
       "      <td>200.0</td>\n",
       "      <td>0.0</td>\n",
       "      <td>NaN</td>\n",
       "      <td>payment of £200 for participating in Ipsos MO...</td>\n",
       "      <td>Payments from Ipsos MORI, 79-81 Borough Road, ...</td>\n",
       "      <td>79-81 Borough Road, London SE1 1FY for opinion...</td>\n",
       "      <td>Ipsos MORI</td>\n",
       "    </tr>\n",
       "    <tr>\n",
       "      <th>3</th>\n",
       "      <td>200.0</td>\n",
       "      <td>GBP</td>\n",
       "      <td>20 March 2017</td>\n",
       "      <td>20 March 2017</td>\n",
       "      <td>participating in Ipsos MORI’s winter survey.</td>\n",
       "      <td>payment of £200</td>\n",
       "      <td>30 mins.</td>\n",
       "      <td>200.0</td>\n",
       "      <td>1.0</td>\n",
       "      <td>0.0</td>\n",
       "      <td>200.0</td>\n",
       "      <td>0.0</td>\n",
       "      <td>NaN</td>\n",
       "      <td>payment of £200 for participating in Ipsos MO...</td>\n",
       "      <td>Payments from Ipsos MORI, 79-81 Borough Road, ...</td>\n",
       "      <td>79-81 Borough Road, London SE1 1FY for opinion...</td>\n",
       "      <td>Ipsos MORI</td>\n",
       "    </tr>\n",
       "    <tr>\n",
       "      <th>4</th>\n",
       "      <td>NaN</td>\n",
       "      <td>NaN</td>\n",
       "      <td>NaN</td>\n",
       "      <td>NaN</td>\n",
       "      <td>NaN</td>\n",
       "      <td>NaN</td>\n",
       "      <td>NaN</td>\n",
       "      <td>NaN</td>\n",
       "      <td>NaN</td>\n",
       "      <td>NaN</td>\n",
       "      <td>NaN</td>\n",
       "      <td>NaN</td>\n",
       "      <td>Payments from Populus, 10 Northburgh Street, L...</td>\n",
       "      <td>NaN</td>\n",
       "      <td>Payments from Populus, 10 Northburgh Street, L...</td>\n",
       "      <td>10 Northburgh Street, London EC1V 0AT:</td>\n",
       "      <td>Populus</td>\n",
       "    </tr>\n",
       "    <tr>\n",
       "      <th>5</th>\n",
       "      <td>50.0</td>\n",
       "      <td>GBP</td>\n",
       "      <td>03 August 2016</td>\n",
       "      <td>23 January 2016</td>\n",
       "      <td>participating in a research project.</td>\n",
       "      <td>£50</td>\n",
       "      <td>20 mins.</td>\n",
       "      <td>50.0</td>\n",
       "      <td>1.0</td>\n",
       "      <td>0.0</td>\n",
       "      <td>50.0</td>\n",
       "      <td>0.0</td>\n",
       "      <td>NaN</td>\n",
       "      <td>£50 for participating in a research project.</td>\n",
       "      <td>Payments from Populus, 10 Northburgh Street, L...</td>\n",
       "      <td>10 Northburgh Street, London EC1V 0AT:</td>\n",
       "      <td>Populus</td>\n",
       "    </tr>\n",
       "  </tbody>\n",
       "</table>\n",
       "</div>"
      ],
      "text/plain": [
       "  amounts currencies            date          empdate  \\\n",
       "0     NaN        NaN             NaN              NaN   \n",
       "1     NaN        NaN             NaN              NaN   \n",
       "2   200.0        GBP  02 August 2016    2 August 2016   \n",
       "3   200.0        GBP   20 March 2017    20 March 2017   \n",
       "4     NaN        NaN             NaN              NaN   \n",
       "5    50.0        GBP  03 August 2016  23 January 2016   \n",
       "\n",
       "                                         empfor            emptxt      hours  \\\n",
       "0                                           NaN               NaN        NaN   \n",
       "1                                           NaN               NaN        NaN   \n",
       "2  participating in Ipsos MORI's summer survey.   payment of £200  30 mins.    \n",
       "3  participating in Ipsos MORI’s winter survey.   payment of £200  30 mins.    \n",
       "4                                           NaN               NaN        NaN   \n",
       "5          participating in a research project.               £50  20 mins.    \n",
       "\n",
       "   maxamountGBP  numamountsGBP  numamountsOther  sumamountsGBP  sumlessmaxGBP  \\\n",
       "0           NaN            NaN              NaN            NaN            NaN   \n",
       "1           NaN            NaN              NaN            NaN            NaN   \n",
       "2         200.0            1.0              0.0          200.0            0.0   \n",
       "3         200.0            1.0              0.0          200.0            0.0   \n",
       "4           NaN            NaN              NaN            NaN            NaN   \n",
       "5          50.0            1.0              0.0           50.0            0.0   \n",
       "\n",
       "                                                 txt  \\\n",
       "0  16 December 2016, £60 for taking part in an on...   \n",
       "1  Payments from Ipsos MORI, 79-81 Borough Road, ...   \n",
       "2                                                NaN   \n",
       "3                                                NaN   \n",
       "4  Payments from Populus, 10 Northburgh Street, L...   \n",
       "5                                                NaN   \n",
       "\n",
       "                                                txt2  \\\n",
       "0                                                NaN   \n",
       "1                                                NaN   \n",
       "2   payment of £200 for participating in Ipsos MO...   \n",
       "3   payment of £200 for participating in Ipsos MO...   \n",
       "4                                                NaN   \n",
       "5       £50 for participating in a research project.   \n",
       "\n",
       "                                                txt4  \\\n",
       "0  16 December 2016, £60 for taking part in an on...   \n",
       "1  Payments from Ipsos MORI, 79-81 Borough Road, ...   \n",
       "2  Payments from Ipsos MORI, 79-81 Borough Road, ...   \n",
       "3  Payments from Ipsos MORI, 79-81 Borough Road, ...   \n",
       "4  Payments from Populus, 10 Northburgh Street, L...   \n",
       "5  Payments from Populus, 10 Northburgh Street, L...   \n",
       "\n",
       "                                             empaddr  empfromsub  \n",
       "0                                                NaN         NaN  \n",
       "1  79-81 Borough Road, London SE1 1FY for opinion...  Ipsos MORI  \n",
       "2  79-81 Borough Road, London SE1 1FY for opinion...  Ipsos MORI  \n",
       "3  79-81 Borough Road, London SE1 1FY for opinion...  Ipsos MORI  \n",
       "4             10 Northburgh Street, London EC1V 0AT:     Populus  \n",
       "5             10 Northburgh Street, London EC1V 0AT:     Populus  "
      ]
     },
     "execution_count": 79,
     "metadata": {},
     "output_type": "execute_result"
    }
   ],
   "source": [
    "df = df.join( df['txt4'].apply(getemppaymentsubdetails).apply(pd.Series))\n",
    "df"
   ]
  },
  {
   "cell_type": "markdown",
   "metadata": {},
   "source": [
    "We'll be able to make use of this later as a post-processor on a dataframe generated from entries on the whole page."
   ]
  },
  {
   "cell_type": "markdown",
   "metadata": {},
   "source": [
    "# A Structured Parser for Visits outside the UK\n",
    "\n",
    "The section recording visits outside the UK looks as if it may have a regular structure:\n",
    "\n",
    "```\n",
    "4. Visits outside the UK\n",
    "\n",
    "Name of donor: The Mamont Foundation\n",
    "Address of donor: c/o Rothschild Trust Guernsey Ltd, PO Box 472, St Julian’s Court, St Julian’s Avenue, St Peter Port GY1 6AX, Guernsey, Channel Islands\n",
    "Estimate of the probable value (or amount of any donation): transport, accommodation, food and drink at an estimated cost of £1,500\n",
    "Destination of visit: Arkhangelsk\n",
    "Date of visit: 28 – 31 March 2017\n",
    "Purpose of visit: To attend the ‘Arctic: Territory of Dialogue’ International Arctic Forum.\n",
    "(Registered 20 April 2017)\n",
    "```"
   ]
  },
  {
   "cell_type": "code",
   "execution_count": 80,
   "metadata": {},
   "outputs": [
    {
     "data": {
      "text/plain": [
       "'Name of donor: HM Government of Gibraltar\\nAddress of donor: Gibraltar House, 150 Strand, London WC2R 1JA\\nAmount of donation (or estimate of the probable value): airfares and accommodation for a member of staff £1,296 and myself £870, total value of £2,166\\nDestination of visit: Gibraltar\\nDate of visit: 8-10 September 2016\\nPurpose of visit: As part of the Gibraltar APPG, invited by HM Government of Gibraltar for National Day celebrations.\\n(Registered 03 October 2016; updated 04 October 2016)'"
      ]
     },
     "execution_count": 80,
     "metadata": {},
     "output_type": "execute_result"
    }
   ],
   "source": [
    "#Example text\n",
    "ptags[23].text"
   ]
  },
  {
   "cell_type": "markdown",
   "metadata": {},
   "source": [
    "By inspection of unparsed strings, theremay be several formats for recording the overseas entries visits. We can capture these use a default hierachy that tests each in turn."
   ]
  },
  {
   "cell_type": "code",
   "execution_count": 81,
   "metadata": {},
   "outputs": [],
   "source": [
    "#Note the {} fudge to account for Date/Dates\n",
    "outsideukvisitpattern1 = '''Name of donor: {name}\\nAddress of donor: {addr}\\nEstimate of the probable value (or amount of any donation): {visitestimate}\\nDestination of visit: {visitDest}\\nDat{} of visit: {visitdates}\\nPurpose of visit: {visitpurpose}\\n(Registered {date})'''\n",
    "outsideukvisitpattern2 = '''Name of donor: {name}\\nAddress of donor: {addr}\\nAmount of donation (or estimate of the probable value): {visitestimate}\\nDestination of visit: {visitDest}\\nDat{} of visit: {visitdates}\\nPurpose of visit: {visitpurpose}\\n(Registered {date})'''\n",
    "\n",
    "def getoutsideUKvisit(string):\n",
    "    visit = todict2(outsideukvisitpattern1, string)\n",
    "    if not visit:\n",
    "         visit = todict2(outsideukvisitpattern2, string)\n",
    "    if visit:\n",
    "        visit.update( getcheckamounts(visit['visitestimate']))\n",
    "    return visit\n"
   ]
  },
  {
   "cell_type": "code",
   "execution_count": 82,
   "metadata": {},
   "outputs": [
    {
     "name": "stdout",
     "output_type": "stream",
     "text": [
      "Name of donor: HM Government of Gibraltar\n",
      "Address of donor: Gibraltar House, 150 Strand, London WC2R 1JA\n",
      "Amount of donation (or estimate of the probable value): airfares and accommodation for a member of staff £1,296 and myself £870, total value of £2,166\n",
      "Destination of visit: Gibraltar\n",
      "Date of visit: 8-10 September 2016\n",
      "Purpose of visit: As part of the Gibraltar APPG, invited by HM Government of Gibraltar for National Day celebrations.\n",
      "(Registered 03 October 2016; updated 04 October 2016) {'name': 'HM Government of Gibraltar', 'addr': 'Gibraltar House, 150 Strand, London WC2R 1JA', 'visitestimate': 'airfares and accommodation for a member of staff £1,296 and myself £870, total value of £2,166', 'visitDest': 'Gibraltar', 'visitdates': '8-10 September 2016', 'visitpurpose': 'As part of the Gibraltar APPG, invited by HM Government of Gibraltar for National Day celebrations.', 'date': '03 October 2016; updated 04 October 2016', 'maxamountGBP': 2166.0, 'numamountsGBP': 3, 'sumamountsGBP': 4332.0, 'sumlessmaxGBP': 2166.0, 'numamountsOther': 0, 'amounts': '1296.0::870.0::2166.0', 'currencies': 'GBP::GBP::GBP'} \n",
      "\n",
      "Name of donor: (1) Labour Friends of Israel (2) Israeli Ministry of Foreign Affairs\n",
      "Address of donor: (1) BM LFI, London WC1N 3XX (2) 9 Yitzhak Rabin Blvd., Kiryat Ben-Gurion, Jerusalem 9103001\n",
      "Estimate of the probable value (or amount of any donation): (1) Flights, accommodation and subsistence with an estimated value of £1,250 (2) Hospitality with a value of £125.\n",
      "Destination of visit: Israel and the Palestinian Territories\n",
      "Dates of visit: 14-16 November 2016\n",
      "Purpose of visit: Fact finding visit. Meeting with Israeli and Palestinian co-existence campaigners, politicians, academics, journalists and diplomats.\n",
      "(Registered 09 December 2016) {'name': '(1) Labour Friends of Israel (2) Israeli Ministry of Foreign Affairs', 'addr': '(1) BM LFI, London WC1N 3XX (2) 9 Yitzhak Rabin Blvd., Kiryat Ben-Gurion, Jerusalem 9103001', 'visitestimate': '(1) Flights, accommodation and subsistence with an estimated value of £1,250 (2) Hospitality with a value of £125.', 'visitDest': 'Israel and the Palestinian Territories', 'visitdates': '14-16 November 2016', 'visitpurpose': 'Fact finding visit. Meeting with Israeli and Palestinian co-existence campaigners, politicians, academics, journalists and diplomats.', 'date': '09 December 2016', 'maxamountGBP': 1250.0, 'numamountsGBP': 2, 'sumamountsGBP': 1375.0, 'sumlessmaxGBP': 0, 'numamountsOther': 0, 'amounts': '1250.0::125.0', 'currencies': 'GBP::GBP'} \n",
      "\n",
      "8. Miscellaneous {} \n",
      "\n"
     ]
    }
   ],
   "source": [
    "for i in [23, 24, 25]:\n",
    "    string = ptags[i].text\n",
    "    print(string, getoutsideUKvisit(string), '\\n')"
   ]
  },
  {
   "cell_type": "markdown",
   "metadata": {},
   "source": [
    "## Making a tabular dataset\n",
    "\n",
    "Well it looks like we're scraping something!\n",
    "\n",
    "Let's see if we can now tidy that up a bit and put it into a tabular *dataframe* from the *pandas* package.\n",
    "\n",
    "What we're going to do is add each record as a row to a dataframe using the *pandas* `concat()` function."
   ]
  },
  {
   "cell_type": "markdown",
   "metadata": {},
   "source": [
    "## Putting the Bits Together\n",
    "\n",
    "So now we pretty much have all the bits we need in order to scrape a register page for a particular member. Let's start to put them together and see if we can make a dataset, for that member, from the pieces we've assembled above."
   ]
  },
  {
   "cell_type": "code",
   "execution_count": 83,
   "metadata": {
    "scrolled": false
   },
   "outputs": [
    {
     "name": "stdout",
     "output_type": "stream",
     "text": [
      "{'name': 'VGC Group', 'addr': 'Cardinal House, Bury Street, Ruislip HA4 7GD', 'txt': '£1,800 in a successful auction bid at a fundraising dinner for Barnsley East CLP and the office of another MP, the profits from which will be divided equally.', 'status': 'company, registration 5741473', 'date': '04 May 2016', 'section': '2. (a) Support linked to an MP but received by a local party organisation or indirectly via a central party organisation', 'cleanertxt': '£1,800 in a successful auction bid at a fundraising dinner for Barnsley East CLP and the office of another MP, the profits from which will be divided equally.', 'date_f': datetime.datetime(2016, 5, 4, 0, 0), 'status2': 'company', 'cn': '5741473', 'maxamountGBP': 1800.0, 'numamountsGBP': 1, 'sumamountsGBP': 1800.0, 'sumlessmaxGBP': 0, 'numamountsOther': 0, 'amounts': '1800.0', 'currencies': 'GBP'}\n",
      "{'name': 'Edward Maurice Watkins', 'addr': 'private', 'txt': '£755 in purchasing tickets for a fundraising dinner for Barnsley East CLP and the office of another MP, the profits from which will be divided equally. (Registered with donation below.)', 'status': 'individual', 'date': '23 May 2016', 'section': '2. (a) Support linked to an MP but received by a local party organisation or indirectly via a central party organisation', 'cleanertxt': '£755 in purchasing tickets for a fundraising dinner for Barnsley East CLP and the office of another MP, the profits from which will be divided equally. (Registered with donation below.)', 'date_f': datetime.datetime(2016, 5, 23, 0, 0), 'maxamountGBP': 755.0, 'numamountsGBP': 1, 'sumamountsGBP': 755.0, 'sumlessmaxGBP': 0, 'numamountsOther': 0, 'amounts': '755.0', 'currencies': 'GBP'}\n",
      "{'name': 'Edward Maurice Watkins', 'addr': 'private', 'txt': '£2,000 in a successful auction bid at a fundraising dinner for Barnsley East CLP and the office of another MP, the profits from which will be divided equally. (Registered with donation above.)', 'status': 'individual', 'date': '23 May 2016', 'section': '2. (a) Support linked to an MP but received by a local party organisation or indirectly via a central party organisation', 'cleanertxt': '£2,000 in a successful auction bid at a fundraising dinner for Barnsley East CLP and the office of another MP, the profits from which will be divided equally. (Registered with donation above.)', 'date_f': datetime.datetime(2016, 5, 23, 0, 0), 'maxamountGBP': 2000.0, 'numamountsGBP': 1, 'sumamountsGBP': 2000.0, 'sumlessmaxGBP': 0, 'numamountsOther': 0, 'amounts': '2000.0', 'currencies': 'GBP'}\n",
      "{'name': 'Chris Chenn', 'addr': 'private', 'txt': '£1,900 in a successful auction bid at a fundraising dinner for Barnsley East CLP and the office of another MP, the profits from which will be divided equally.', 'status': 'individual', 'date': '22 September 2016', 'section': '2. (a) Support linked to an MP but received by a local party organisation or indirectly via a central party organisation', 'cleanertxt': '£1,900 in a successful auction bid at a fundraising dinner for Barnsley East CLP and the office of another MP, the profits from which will be divided equally.', 'date_f': datetime.datetime(2016, 9, 22, 0, 0), 'maxamountGBP': 1900.0, 'numamountsGBP': 1, 'sumamountsGBP': 1900.0, 'sumlessmaxGBP': 0, 'numamountsOther': 0, 'amounts': '1900.0', 'currencies': 'GBP'}\n",
      "{'name': 'Balmoral Tanks Ltd', 'addr': 'Balmoral Park, Aberdeen AB12 3GY', 'txt': '£2,000 to support my Primary School Christmas Card Competition\\nDate received: 8 December 2016\\nDate accepted: 8 December 2016', 'status': 'company, registration 300656', 'date': '09 December 2016', 'section': '2. (b) Any other support not included in Category 2(a)', 'dateRxd': '8 December 2016', 'dateAccd': '8 December 2016', 'cleanertxt': '£2,000 to support my Primary School Christmas Card Competition', 'date_f': datetime.datetime(2016, 12, 9, 0, 0), 'dateRxd_f': datetime.datetime(2016, 12, 8, 0, 0), 'dateAccd_f': datetime.datetime(2016, 12, 8, 0, 0), 'status2': 'company', 'cn': '300656', 'maxamountGBP': 2000.0, 'numamountsGBP': 1, 'sumamountsGBP': 2000.0, 'sumlessmaxGBP': 0, 'numamountsOther': 0, 'amounts': '2000.0', 'currencies': 'GBP'}\n",
      "{'name': 'UK Music', 'addr': '4th Floor, 49 Whitehall, London SW1A 2BX', 'txt': 'ticket and hospitality at the Ivor Novello Awards, value £444\\nDate received: 19 May 2016\\nDate accepted: 19 May 2016', 'status': 'company, registration no 3245288', 'date': '27 May 2016', 'section': '3. Gifts, benefits and hospitality from UK sources', 'dateRxd': '19 May 2016', 'dateAccd': '19 May 2016', 'cleanertxt': 'ticket and hospitality at the Ivor Novello Awards, value £444', 'date_f': datetime.datetime(2016, 5, 27, 0, 0), 'dateRxd_f': datetime.datetime(2016, 5, 19, 0, 0), 'dateAccd_f': datetime.datetime(2016, 5, 19, 0, 0), 'status2': 'company', 'cn': 'no 3245288', 'maxamountGBP': 444.0, 'numamountsGBP': 1, 'sumamountsGBP': 444.0, 'sumlessmaxGBP': 0, 'numamountsOther': 0, 'amounts': '444.0', 'currencies': 'GBP'}\n",
      "{'name': 'The Yorkshire County Cricket Club', 'addr': 'Headingley Cricket Ground, Leeds LS6 3DP', 'txt': 'two tickets and hospitality at Yorkshire County Cricket Club to the value of £200, a total of £400\\nDate received: 21 May 2016\\nDate accepted: 21 May 2016', 'status': 'company, registration IP28929R', 'date': '07 June 2016', 'section': '3. Gifts, benefits and hospitality from UK sources', 'dateRxd': '21 May 2016', 'dateAccd': '21 May 2016', 'cleanertxt': 'two tickets and hospitality at Yorkshire County Cricket Club to the value of £200, a total of £400', 'date_f': datetime.datetime(2016, 6, 7, 0, 0), 'dateRxd_f': datetime.datetime(2016, 5, 21, 0, 0), 'dateAccd_f': datetime.datetime(2016, 5, 21, 0, 0), 'status2': 'company', 'cn': 'IP28929R', 'maxamountGBP': 400.0, 'numamountsGBP': 2, 'sumamountsGBP': 600.0, 'sumlessmaxGBP': 0, 'numamountsOther': 0, 'amounts': '200.0::400.0', 'currencies': 'GBP::GBP'}\n",
      "{'name': 'Football Association Premier League', 'addr': '30 Gloucester Place, London W1U 8PL', 'txt': 'Ticket and hospitality for a concert at Wembley Stadium, value £259\\nDate received: 5 June 2016\\nDate accepted: 5 June 2016', 'status': 'company, registration no 2719699', 'date': '13 June 2016', 'section': '3. Gifts, benefits and hospitality from UK sources', 'dateRxd': '5 June 2016', 'dateAccd': '5 June 2016', 'cleanertxt': 'Ticket and hospitality for a concert at Wembley Stadium, value £259', 'date_f': datetime.datetime(2016, 6, 13, 0, 0), 'dateRxd_f': datetime.datetime(2016, 6, 5, 0, 0), 'dateAccd_f': datetime.datetime(2016, 6, 5, 0, 0), 'status2': 'company', 'cn': 'no 2719699', 'maxamountGBP': 259.0, 'numamountsGBP': 1, 'sumamountsGBP': 259.0, 'sumlessmaxGBP': 0, 'numamountsOther': 0, 'amounts': '259.0', 'currencies': 'GBP'}\n",
      "{'name': 'Hampshire Cricket Ltd', 'addr': 'Botley Road, West End, Southampton SO30 3XH', 'txt': 'two tickets, and accompanying hospitality, to watch cricket at the Ageas Bowl, value for each person £499 plus VAT; £1,197.60 in total\\nDate received: 5 July 2016\\nDate accepted: 5 July 2016', 'status': 'company, registration no 4343355', 'date': '08 July 2016; updated 13 July 2016', 'section': '3. Gifts, benefits and hospitality from UK sources', 'dateRxd': '5 July 2016', 'dateAccd': '5 July 2016', 'cleanertxt': 'two tickets, and accompanying hospitality, to watch cricket at the Ageas Bowl, value for each person £499 plus VAT; £1,197.60 in total', 'date_f': None, 'dateRxd_f': datetime.datetime(2016, 7, 5, 0, 0), 'dateAccd_f': datetime.datetime(2016, 7, 5, 0, 0), 'status2': 'company', 'cn': 'no 4343355', 'maxamountGBP': 1197.6, 'numamountsGBP': 2, 'sumamountsGBP': 1696.6, 'sumlessmaxGBP': 0, 'numamountsOther': 0, 'amounts': '499.0::1197.6', 'currencies': 'GBP::GBP'}\n",
      "{'name': 'UK Music', 'addr': '4th Floor, 49 Whitehall, London SW1A 2BX', 'txt': 'four tickets to attend a music concert at Wembley Stadium, value £380\\nDate received: 10 September 2016\\nDate accepted: 10 September 2016', 'status': 'company, registration 3245288', 'date': '20 September 2016', 'section': '3. Gifts, benefits and hospitality from UK sources', 'dateRxd': '10 September 2016', 'dateAccd': '10 September 2016', 'cleanertxt': 'four tickets to attend a music concert at Wembley Stadium, value £380', 'date_f': datetime.datetime(2016, 9, 20, 0, 0), 'dateRxd_f': datetime.datetime(2016, 9, 10, 0, 0), 'dateAccd_f': datetime.datetime(2016, 9, 10, 0, 0), 'status2': 'company', 'cn': '3245288', 'maxamountGBP': 380.0, 'numamountsGBP': 1, 'sumamountsGBP': 380.0, 'sumlessmaxGBP': 0, 'numamountsOther': 0, 'amounts': '380.0', 'currencies': 'GBP'}\n",
      "{'name': 'The Football Association Premier League Ltd', 'addr': '30 Gloucester Place, London W1U 8PL', 'txt': 'a ticket and hospitality to watch a football match at the Etihad Stadium, value £268\\nDate received: 6 December 2016\\nDate accepted: 6 December 2016', 'status': 'company, registration 2719699', 'date': '19 December 2016', 'section': '3. Gifts, benefits and hospitality from UK sources', 'dateRxd': '6 December 2016', 'dateAccd': '6 December 2016', 'cleanertxt': 'a ticket and hospitality to watch a football match at the Etihad Stadium, value £268', 'date_f': datetime.datetime(2016, 12, 19, 0, 0), 'dateRxd_f': datetime.datetime(2016, 12, 6, 0, 0), 'dateAccd_f': datetime.datetime(2016, 12, 6, 0, 0), 'status2': 'company', 'cn': '2719699', 'maxamountGBP': 268.0, 'numamountsGBP': 1, 'sumamountsGBP': 268.0, 'sumlessmaxGBP': 0, 'numamountsOther': 0, 'amounts': '268.0', 'currencies': 'GBP'}\n",
      "{'name': 'William Hill PLC', 'addr': 'Greenside House, 50 Station Road, Wood Green, London N22 7TP', 'txt': 'three tickets to attend the World Darts Final, total value £750\\nDate received: 2 January 2017\\nDate accepted: 2 January 2017', 'status': 'company, registration 4212563', 'date': '26 January 2017', 'section': '3. Gifts, benefits and hospitality from UK sources', 'dateRxd': '2 January 2017', 'dateAccd': '2 January 2017', 'cleanertxt': 'three tickets to attend the World Darts Final, total value £750', 'date_f': datetime.datetime(2017, 1, 26, 0, 0), 'dateRxd_f': datetime.datetime(2017, 1, 2, 0, 0), 'dateAccd_f': datetime.datetime(2017, 1, 2, 0, 0), 'status2': 'company', 'cn': '4212563', 'maxamountGBP': 750.0, 'numamountsGBP': 1, 'sumamountsGBP': 750.0, 'sumlessmaxGBP': 0, 'numamountsOther': 0, 'amounts': '750.0', 'currencies': 'GBP'}\n"
     ]
    }
   ],
   "source": [
    "section = ''\n",
    "\n",
    "#iterate through the paragraphs\n",
    "for p in ptags:\n",
    "    #Check to see if we're in a new section. If so, capture the section\n",
    "    if p.text and p.text.startswith(('1.','2.','3.','4.','5.','6.','7.','8.')):\n",
    "        section = p.text\n",
    "        \n",
    "    #Do the preliminary parsing of a paragraph\n",
    "    extracteditems = todict2(pattern, p.text)\n",
    "    \n",
    "    #Identify the section\n",
    "    extracteditems['section'] = section\n",
    "    \n",
    "    #Look for the data - checking first there's a txt tag that's been extracted...\n",
    "    if extracteditems and 'txt' in extracteditems:\n",
    "        #Dates\n",
    "        todict2(datepattern, extracteditems['txt'], extracteditems)\n",
    "        #Get a simmplified version of the text string, without dates, to potentially make life easier in the future\n",
    "        extracteditems['cleanertxt'] = extracteditems['txt'].split('\\nDate')[0]\n",
    "        #Dateify any dates\n",
    "        parsedates(extracteditems)\n",
    "        \n",
    "        #Extract any company numbers that are declared\n",
    "        extracteditems.update( companynumber(extracteditems['status']) )\n",
    "        \n",
    "        #Money\n",
    "        extracteditems.update( getcheckamounts( extracteditems['txt']) )\n",
    "    \n",
    "        print(extracteditems)\n",
    "    "
   ]
  },
  {
   "cell_type": "markdown",
   "metadata": {},
   "source": [
    "We can build some optimisation in by moving to the next paragraph if we have already completely paresed the current paragraph using the `continue` statement."
   ]
  },
  {
   "cell_type": "code",
   "execution_count": 84,
   "metadata": {},
   "outputs": [
    {
     "name": "stdout",
     "output_type": "stream",
     "text": [
      "a\n",
      "c\n",
      "d\n"
     ]
    }
   ],
   "source": [
    "for i in ['a','b','c','d']:\n",
    "    if i=='b' : continue\n",
    "    print(i)"
   ]
  },
  {
   "cell_type": "markdown",
   "metadata": {},
   "source": [
    "One of the things our parsing to date has omitted to do is grab paragraphs / entries that we have not been able to parse. Keeping a list of these is important because it shows us what entries we have not been able to parse. We will build something into out processor to capture these items, grabbing any financial amounts, if we can detect any, as before."
   ]
  },
  {
   "cell_type": "code",
   "execution_count": 137,
   "metadata": {},
   "outputs": [],
   "source": [
    "#To make the code reusable, let's wrap it in a function:\n",
    "\n",
    "def scrapeData(ptags, omitFirstRow=True, saveFullText=True):\n",
    "\n",
    "    #The code is pretty much as it was before...\n",
    "    #...except that at first we create an empty dataframe\n",
    "    df = pd.DataFrame()\n",
    "\n",
    "    section = ''\n",
    "    \n",
    "    start = 1 if omitFirstRow else 0\n",
    "    \n",
    "    mpname = ptags[0].text\n",
    "    \n",
    "    #iterate through the paragraphs, omittig the first one, which is the member name\n",
    "    for p in ptags[start:]:\n",
    "        #Check to see if we're in a new section. If so, capture the section\n",
    "        if p.text and p.text.startswith(('1.','2.','3.','4.','5.','6.','7.','8.', '9.', '10.')):\n",
    "            section = p.text\n",
    "            continue\n",
    "        \n",
    "        if saveFullText: df['fulltext'] = p.text\n",
    "        \n",
    "        #Do the preliminary parsing of a paragraph\n",
    "        extracteditems = todict2(pattern, p.text, )\n",
    "\n",
    "        if extracteditems:\n",
    "            #Identify the section\n",
    "            extracteditems['section'] = section\n",
    "\n",
    "            #Dates\n",
    "            todict2(datepattern, extracteditems['txt'], extracteditems)\n",
    "            #Get a simmplified version of the text string, without dates, to potentially make life easier in the future\n",
    "            extracteditems['cleanertxt'] = extracteditems['txt'].split('\\nDate')[0]\n",
    "            #Dateify any dates\n",
    "            parsedates(extracteditems)\n",
    "\n",
    "            #Extract any company numbers that are declared\n",
    "            extracteditems.update( companynumber(extracteditems['status']) )\n",
    "        \n",
    "            #Money\n",
    "            extracteditems.update( getcheckamounts( extracteditems['txt']) )\n",
    "\n",
    "            #Add a column to say we have structurally arsed the row\n",
    "            extracteditems['parsed'] = True\n",
    "            \n",
    "            #...and then we add each record to it\n",
    "            df = pd.concat([df,pd.DataFrame([extracteditems])])\n",
    "            continue\n",
    "        \n",
    "        #Visits outside UK\n",
    "        extracteditems = getoutsideUKvisit(p.text)\n",
    "        if extracteditems:\n",
    "            #Identify the section\n",
    "            extracteditems['section'] = section\n",
    "     \n",
    "            #Add a column to say we have structurally arsed the row\n",
    "            extracteditems['parsed'] = True\n",
    "            \n",
    "            #...and then we add each record to it\n",
    "            df = pd.concat([df,pd.DataFrame([extracteditems])])\n",
    "            continue\n",
    "        \n",
    "        #Employment\n",
    "        extracteditems = getemploymentdetails(p.text)\n",
    "        if extracteditems:\n",
    "            #Identify the section\n",
    "            extracteditems['section'] = section\n",
    "     \n",
    "            #Add a column to say we have structurally arsed the row\n",
    "            extracteditems['parsed'] = True\n",
    "            \n",
    "            #...and then we add each record to it\n",
    "            df = pd.concat([df,pd.DataFrame([extracteditems])])\n",
    "            continue\n",
    "        \n",
    "        #This is the catch all for unparsed rows that contain content\n",
    "        if p.text:\n",
    "            #Grab any amounts\n",
    "            extracteditems = getcheckamounts( p.text )\n",
    "            \n",
    "            #Identify the section\n",
    "            extracteditems['section'] = section\n",
    "\n",
    "            #Keep a record of the text\n",
    "            extracteditems['txt'] = p.text\n",
    "            \n",
    "            #Record that we haven't run this through a structured parser\n",
    "            extracteditems['parsed'] = False\n",
    "            \n",
    "            #Add to the list of entries\n",
    "            df = pd.concat([df,pd.DataFrame([extracteditems])])\n",
    "\n",
    "    #We need to record which MP it was...\n",
    "    df['mpname'] = mpname\n",
    "    \n",
    "    #Return the dataframe... resetting the index for the whole dataframe\n",
    "    #We can ignore (drop) the original index:\n",
    "    #  it contains \"dummy\" values created when the single row dataframe was made from each record\n",
    "    return df.reset_index(drop=True)"
   ]
  },
  {
   "cell_type": "code",
   "execution_count": 138,
   "metadata": {
    "scrolled": false
   },
   "outputs": [
    {
     "data": {
      "text/html": [
       "<div>\n",
       "<style scoped>\n",
       "    .dataframe tbody tr th:only-of-type {\n",
       "        vertical-align: middle;\n",
       "    }\n",
       "\n",
       "    .dataframe tbody tr th {\n",
       "        vertical-align: top;\n",
       "    }\n",
       "\n",
       "    .dataframe thead th {\n",
       "        text-align: right;\n",
       "    }\n",
       "</style>\n",
       "<table border=\"1\" class=\"dataframe\">\n",
       "  <thead>\n",
       "    <tr style=\"text-align: right;\">\n",
       "      <th></th>\n",
       "      <th>addr</th>\n",
       "      <th>amounts</th>\n",
       "      <th>cleanertxt</th>\n",
       "      <th>cn</th>\n",
       "      <th>currencies</th>\n",
       "      <th>date</th>\n",
       "      <th>dateAccd</th>\n",
       "      <th>dateAccd_f</th>\n",
       "      <th>dateRxd</th>\n",
       "      <th>dateRxd_f</th>\n",
       "      <th>...</th>\n",
       "      <th>status2</th>\n",
       "      <th>sumamountsGBP</th>\n",
       "      <th>sumlessmaxGBP</th>\n",
       "      <th>txt</th>\n",
       "      <th>txt2</th>\n",
       "      <th>visitDest</th>\n",
       "      <th>visitdates</th>\n",
       "      <th>visitestimate</th>\n",
       "      <th>visitpurpose</th>\n",
       "      <th>mpname</th>\n",
       "    </tr>\n",
       "  </thead>\n",
       "  <tbody>\n",
       "    <tr>\n",
       "      <th>0</th>\n",
       "      <td>NaN</td>\n",
       "      <td>2500.0</td>\n",
       "      <td>NaN</td>\n",
       "      <td>NaN</td>\n",
       "      <td>GBP</td>\n",
       "      <td>19 December 2016</td>\n",
       "      <td>NaN</td>\n",
       "      <td>NaT</td>\n",
       "      <td>NaN</td>\n",
       "      <td>NaT</td>\n",
       "      <td>...</td>\n",
       "      <td>NaN</td>\n",
       "      <td>2500.0</td>\n",
       "      <td>0.0</td>\n",
       "      <td>NaN</td>\n",
       "      <td>received £2,500 from Hampshire Cricket, The A...</td>\n",
       "      <td>NaN</td>\n",
       "      <td>NaN</td>\n",
       "      <td>NaN</td>\n",
       "      <td>NaN</td>\n",
       "      <td>Dugher, Michael (Barnsley East)</td>\n",
       "    </tr>\n",
       "    <tr>\n",
       "      <th>1</th>\n",
       "      <td>Cardinal House, Bury Street, Ruislip HA4 7GD</td>\n",
       "      <td>1800.0</td>\n",
       "      <td>£1,800 in a successful auction bid at a fundra...</td>\n",
       "      <td>5741473</td>\n",
       "      <td>GBP</td>\n",
       "      <td>04 May 2016</td>\n",
       "      <td>NaN</td>\n",
       "      <td>NaT</td>\n",
       "      <td>NaN</td>\n",
       "      <td>NaT</td>\n",
       "      <td>...</td>\n",
       "      <td>company</td>\n",
       "      <td>1800.0</td>\n",
       "      <td>0.0</td>\n",
       "      <td>£1,800 in a successful auction bid at a fundra...</td>\n",
       "      <td>NaN</td>\n",
       "      <td>NaN</td>\n",
       "      <td>NaN</td>\n",
       "      <td>NaN</td>\n",
       "      <td>NaN</td>\n",
       "      <td>Dugher, Michael (Barnsley East)</td>\n",
       "    </tr>\n",
       "    <tr>\n",
       "      <th>2</th>\n",
       "      <td>private</td>\n",
       "      <td>755.0</td>\n",
       "      <td>£755 in purchasing tickets for a fundraising d...</td>\n",
       "      <td>NaN</td>\n",
       "      <td>GBP</td>\n",
       "      <td>23 May 2016</td>\n",
       "      <td>NaN</td>\n",
       "      <td>NaT</td>\n",
       "      <td>NaN</td>\n",
       "      <td>NaT</td>\n",
       "      <td>...</td>\n",
       "      <td>NaN</td>\n",
       "      <td>755.0</td>\n",
       "      <td>0.0</td>\n",
       "      <td>£755 in purchasing tickets for a fundraising d...</td>\n",
       "      <td>NaN</td>\n",
       "      <td>NaN</td>\n",
       "      <td>NaN</td>\n",
       "      <td>NaN</td>\n",
       "      <td>NaN</td>\n",
       "      <td>Dugher, Michael (Barnsley East)</td>\n",
       "    </tr>\n",
       "    <tr>\n",
       "      <th>3</th>\n",
       "      <td>private</td>\n",
       "      <td>2000.0</td>\n",
       "      <td>£2,000 in a successful auction bid at a fundra...</td>\n",
       "      <td>NaN</td>\n",
       "      <td>GBP</td>\n",
       "      <td>23 May 2016</td>\n",
       "      <td>NaN</td>\n",
       "      <td>NaT</td>\n",
       "      <td>NaN</td>\n",
       "      <td>NaT</td>\n",
       "      <td>...</td>\n",
       "      <td>NaN</td>\n",
       "      <td>2000.0</td>\n",
       "      <td>0.0</td>\n",
       "      <td>£2,000 in a successful auction bid at a fundra...</td>\n",
       "      <td>NaN</td>\n",
       "      <td>NaN</td>\n",
       "      <td>NaN</td>\n",
       "      <td>NaN</td>\n",
       "      <td>NaN</td>\n",
       "      <td>Dugher, Michael (Barnsley East)</td>\n",
       "    </tr>\n",
       "    <tr>\n",
       "      <th>4</th>\n",
       "      <td>private</td>\n",
       "      <td>1900.0</td>\n",
       "      <td>£1,900 in a successful auction bid at a fundra...</td>\n",
       "      <td>NaN</td>\n",
       "      <td>GBP</td>\n",
       "      <td>22 September 2016</td>\n",
       "      <td>NaN</td>\n",
       "      <td>NaT</td>\n",
       "      <td>NaN</td>\n",
       "      <td>NaT</td>\n",
       "      <td>...</td>\n",
       "      <td>NaN</td>\n",
       "      <td>1900.0</td>\n",
       "      <td>0.0</td>\n",
       "      <td>£1,900 in a successful auction bid at a fundra...</td>\n",
       "      <td>NaN</td>\n",
       "      <td>NaN</td>\n",
       "      <td>NaN</td>\n",
       "      <td>NaN</td>\n",
       "      <td>NaN</td>\n",
       "      <td>Dugher, Michael (Barnsley East)</td>\n",
       "    </tr>\n",
       "    <tr>\n",
       "      <th>5</th>\n",
       "      <td>Balmoral Park, Aberdeen AB12 3GY</td>\n",
       "      <td>2000.0</td>\n",
       "      <td>£2,000 to support my Primary School Christmas ...</td>\n",
       "      <td>300656</td>\n",
       "      <td>GBP</td>\n",
       "      <td>09 December 2016</td>\n",
       "      <td>8 December 2016</td>\n",
       "      <td>2016-12-08</td>\n",
       "      <td>8 December 2016</td>\n",
       "      <td>2016-12-08</td>\n",
       "      <td>...</td>\n",
       "      <td>company</td>\n",
       "      <td>2000.0</td>\n",
       "      <td>0.0</td>\n",
       "      <td>£2,000 to support my Primary School Christmas ...</td>\n",
       "      <td>NaN</td>\n",
       "      <td>NaN</td>\n",
       "      <td>NaN</td>\n",
       "      <td>NaN</td>\n",
       "      <td>NaN</td>\n",
       "      <td>Dugher, Michael (Barnsley East)</td>\n",
       "    </tr>\n",
       "    <tr>\n",
       "      <th>6</th>\n",
       "      <td>4th Floor, 49 Whitehall, London SW1A 2BX</td>\n",
       "      <td>444.0</td>\n",
       "      <td>ticket and hospitality at the Ivor Novello Awa...</td>\n",
       "      <td>no 3245288</td>\n",
       "      <td>GBP</td>\n",
       "      <td>27 May 2016</td>\n",
       "      <td>19 May 2016</td>\n",
       "      <td>2016-05-19</td>\n",
       "      <td>19 May 2016</td>\n",
       "      <td>2016-05-19</td>\n",
       "      <td>...</td>\n",
       "      <td>company</td>\n",
       "      <td>444.0</td>\n",
       "      <td>0.0</td>\n",
       "      <td>ticket and hospitality at the Ivor Novello Awa...</td>\n",
       "      <td>NaN</td>\n",
       "      <td>NaN</td>\n",
       "      <td>NaN</td>\n",
       "      <td>NaN</td>\n",
       "      <td>NaN</td>\n",
       "      <td>Dugher, Michael (Barnsley East)</td>\n",
       "    </tr>\n",
       "    <tr>\n",
       "      <th>7</th>\n",
       "      <td>Headingley Cricket Ground, Leeds LS6 3DP</td>\n",
       "      <td>200.0::400.0</td>\n",
       "      <td>two tickets and hospitality at Yorkshire Count...</td>\n",
       "      <td>IP28929R</td>\n",
       "      <td>GBP::GBP</td>\n",
       "      <td>07 June 2016</td>\n",
       "      <td>21 May 2016</td>\n",
       "      <td>2016-05-21</td>\n",
       "      <td>21 May 2016</td>\n",
       "      <td>2016-05-21</td>\n",
       "      <td>...</td>\n",
       "      <td>company</td>\n",
       "      <td>600.0</td>\n",
       "      <td>0.0</td>\n",
       "      <td>two tickets and hospitality at Yorkshire Count...</td>\n",
       "      <td>NaN</td>\n",
       "      <td>NaN</td>\n",
       "      <td>NaN</td>\n",
       "      <td>NaN</td>\n",
       "      <td>NaN</td>\n",
       "      <td>Dugher, Michael (Barnsley East)</td>\n",
       "    </tr>\n",
       "    <tr>\n",
       "      <th>8</th>\n",
       "      <td>30 Gloucester Place, London W1U 8PL</td>\n",
       "      <td>259.0</td>\n",
       "      <td>Ticket and hospitality for a concert at Wemble...</td>\n",
       "      <td>no 2719699</td>\n",
       "      <td>GBP</td>\n",
       "      <td>13 June 2016</td>\n",
       "      <td>5 June 2016</td>\n",
       "      <td>2016-06-05</td>\n",
       "      <td>5 June 2016</td>\n",
       "      <td>2016-06-05</td>\n",
       "      <td>...</td>\n",
       "      <td>company</td>\n",
       "      <td>259.0</td>\n",
       "      <td>0.0</td>\n",
       "      <td>Ticket and hospitality for a concert at Wemble...</td>\n",
       "      <td>NaN</td>\n",
       "      <td>NaN</td>\n",
       "      <td>NaN</td>\n",
       "      <td>NaN</td>\n",
       "      <td>NaN</td>\n",
       "      <td>Dugher, Michael (Barnsley East)</td>\n",
       "    </tr>\n",
       "    <tr>\n",
       "      <th>9</th>\n",
       "      <td>Botley Road, West End, Southampton SO30 3XH</td>\n",
       "      <td>499.0::1197.6</td>\n",
       "      <td>two tickets, and accompanying hospitality, to ...</td>\n",
       "      <td>no 4343355</td>\n",
       "      <td>GBP::GBP</td>\n",
       "      <td>08 July 2016; updated 13 July 2016</td>\n",
       "      <td>5 July 2016</td>\n",
       "      <td>2016-07-05</td>\n",
       "      <td>5 July 2016</td>\n",
       "      <td>2016-07-05</td>\n",
       "      <td>...</td>\n",
       "      <td>company</td>\n",
       "      <td>1696.6</td>\n",
       "      <td>0.0</td>\n",
       "      <td>two tickets, and accompanying hospitality, to ...</td>\n",
       "      <td>NaN</td>\n",
       "      <td>NaN</td>\n",
       "      <td>NaN</td>\n",
       "      <td>NaN</td>\n",
       "      <td>NaN</td>\n",
       "      <td>Dugher, Michael (Barnsley East)</td>\n",
       "    </tr>\n",
       "    <tr>\n",
       "      <th>10</th>\n",
       "      <td>4th Floor, 49 Whitehall, London SW1A 2BX</td>\n",
       "      <td>380.0</td>\n",
       "      <td>four tickets to attend a music concert at Wemb...</td>\n",
       "      <td>3245288</td>\n",
       "      <td>GBP</td>\n",
       "      <td>20 September 2016</td>\n",
       "      <td>10 September 2016</td>\n",
       "      <td>2016-09-10</td>\n",
       "      <td>10 September 2016</td>\n",
       "      <td>2016-09-10</td>\n",
       "      <td>...</td>\n",
       "      <td>company</td>\n",
       "      <td>380.0</td>\n",
       "      <td>0.0</td>\n",
       "      <td>four tickets to attend a music concert at Wemb...</td>\n",
       "      <td>NaN</td>\n",
       "      <td>NaN</td>\n",
       "      <td>NaN</td>\n",
       "      <td>NaN</td>\n",
       "      <td>NaN</td>\n",
       "      <td>Dugher, Michael (Barnsley East)</td>\n",
       "    </tr>\n",
       "    <tr>\n",
       "      <th>11</th>\n",
       "      <td>30 Gloucester Place, London W1U 8PL</td>\n",
       "      <td>268.0</td>\n",
       "      <td>a ticket and hospitality to watch a football m...</td>\n",
       "      <td>2719699</td>\n",
       "      <td>GBP</td>\n",
       "      <td>19 December 2016</td>\n",
       "      <td>6 December 2016</td>\n",
       "      <td>2016-12-06</td>\n",
       "      <td>6 December 2016</td>\n",
       "      <td>2016-12-06</td>\n",
       "      <td>...</td>\n",
       "      <td>company</td>\n",
       "      <td>268.0</td>\n",
       "      <td>0.0</td>\n",
       "      <td>a ticket and hospitality to watch a football m...</td>\n",
       "      <td>NaN</td>\n",
       "      <td>NaN</td>\n",
       "      <td>NaN</td>\n",
       "      <td>NaN</td>\n",
       "      <td>NaN</td>\n",
       "      <td>Dugher, Michael (Barnsley East)</td>\n",
       "    </tr>\n",
       "    <tr>\n",
       "      <th>12</th>\n",
       "      <td>Greenside House, 50 Station Road, Wood Green, ...</td>\n",
       "      <td>750.0</td>\n",
       "      <td>three tickets to attend the World Darts Final,...</td>\n",
       "      <td>4212563</td>\n",
       "      <td>GBP</td>\n",
       "      <td>26 January 2017</td>\n",
       "      <td>2 January 2017</td>\n",
       "      <td>2017-01-02</td>\n",
       "      <td>2 January 2017</td>\n",
       "      <td>2017-01-02</td>\n",
       "      <td>...</td>\n",
       "      <td>company</td>\n",
       "      <td>750.0</td>\n",
       "      <td>0.0</td>\n",
       "      <td>three tickets to attend the World Darts Final,...</td>\n",
       "      <td>NaN</td>\n",
       "      <td>NaN</td>\n",
       "      <td>NaN</td>\n",
       "      <td>NaN</td>\n",
       "      <td>NaN</td>\n",
       "      <td>Dugher, Michael (Barnsley East)</td>\n",
       "    </tr>\n",
       "    <tr>\n",
       "      <th>13</th>\n",
       "      <td>NaN</td>\n",
       "      <td>718.8</td>\n",
       "      <td>NaN</td>\n",
       "      <td>NaN</td>\n",
       "      <td>GBP</td>\n",
       "      <td>NaN</td>\n",
       "      <td>NaN</td>\n",
       "      <td>NaT</td>\n",
       "      <td>NaN</td>\n",
       "      <td>NaT</td>\n",
       "      <td>...</td>\n",
       "      <td>NaN</td>\n",
       "      <td>718.8</td>\n",
       "      <td>0.0</td>\n",
       "      <td>Name of donor: William Hill plc\\nAddress of do...</td>\n",
       "      <td>NaN</td>\n",
       "      <td>NaN</td>\n",
       "      <td>NaN</td>\n",
       "      <td>NaN</td>\n",
       "      <td>NaN</td>\n",
       "      <td>Dugher, Michael (Barnsley East)</td>\n",
       "    </tr>\n",
       "    <tr>\n",
       "      <th>14</th>\n",
       "      <td>NaN</td>\n",
       "      <td>350.0</td>\n",
       "      <td>NaN</td>\n",
       "      <td>NaN</td>\n",
       "      <td>GBP</td>\n",
       "      <td>NaN</td>\n",
       "      <td>NaN</td>\n",
       "      <td>NaT</td>\n",
       "      <td>NaN</td>\n",
       "      <td>NaT</td>\n",
       "      <td>...</td>\n",
       "      <td>NaN</td>\n",
       "      <td>350.0</td>\n",
       "      <td>0.0</td>\n",
       "      <td>Name of donor: Ladbrokes Coral Group plc\\nAddr...</td>\n",
       "      <td>NaN</td>\n",
       "      <td>NaN</td>\n",
       "      <td>NaN</td>\n",
       "      <td>NaN</td>\n",
       "      <td>NaN</td>\n",
       "      <td>Dugher, Michael (Barnsley East)</td>\n",
       "    </tr>\n",
       "    <tr>\n",
       "      <th>15</th>\n",
       "      <td>Gibraltar House, 150 Strand, London WC2R 1JA</td>\n",
       "      <td>1296.0::870.0::2166.0</td>\n",
       "      <td>NaN</td>\n",
       "      <td>NaN</td>\n",
       "      <td>GBP::GBP::GBP</td>\n",
       "      <td>03 October 2016; updated 04 October 2016</td>\n",
       "      <td>NaN</td>\n",
       "      <td>NaT</td>\n",
       "      <td>NaN</td>\n",
       "      <td>NaT</td>\n",
       "      <td>...</td>\n",
       "      <td>NaN</td>\n",
       "      <td>4332.0</td>\n",
       "      <td>2166.0</td>\n",
       "      <td>NaN</td>\n",
       "      <td>NaN</td>\n",
       "      <td>Gibraltar</td>\n",
       "      <td>8-10 September 2016</td>\n",
       "      <td>airfares and accommodation for a member of sta...</td>\n",
       "      <td>As part of the Gibraltar APPG, invited by HM G...</td>\n",
       "      <td>Dugher, Michael (Barnsley East)</td>\n",
       "    </tr>\n",
       "    <tr>\n",
       "      <th>16</th>\n",
       "      <td>(1) BM LFI, London WC1N 3XX (2) 9 Yitzhak Rabi...</td>\n",
       "      <td>1250.0::125.0</td>\n",
       "      <td>NaN</td>\n",
       "      <td>NaN</td>\n",
       "      <td>GBP::GBP</td>\n",
       "      <td>09 December 2016</td>\n",
       "      <td>NaN</td>\n",
       "      <td>NaT</td>\n",
       "      <td>NaN</td>\n",
       "      <td>NaT</td>\n",
       "      <td>...</td>\n",
       "      <td>NaN</td>\n",
       "      <td>1375.0</td>\n",
       "      <td>0.0</td>\n",
       "      <td>NaN</td>\n",
       "      <td>NaN</td>\n",
       "      <td>Israel and the Palestinian Territories</td>\n",
       "      <td>14-16 November 2016</td>\n",
       "      <td>(1) Flights, accommodation and subsistence wit...</td>\n",
       "      <td>Fact finding visit. Meeting with Israeli and P...</td>\n",
       "      <td>Dugher, Michael (Barnsley East)</td>\n",
       "    </tr>\n",
       "    <tr>\n",
       "      <th>17</th>\n",
       "      <td>NaN</td>\n",
       "      <td>NaN</td>\n",
       "      <td>NaN</td>\n",
       "      <td>NaN</td>\n",
       "      <td>NaN</td>\n",
       "      <td>NaN</td>\n",
       "      <td>NaN</td>\n",
       "      <td>NaT</td>\n",
       "      <td>NaN</td>\n",
       "      <td>NaT</td>\n",
       "      <td>...</td>\n",
       "      <td>NaN</td>\n",
       "      <td>NaN</td>\n",
       "      <td>NaN</td>\n",
       "      <td>Received on 22 March 2017, payment from Associ...</td>\n",
       "      <td>NaN</td>\n",
       "      <td>NaN</td>\n",
       "      <td>NaN</td>\n",
       "      <td>NaN</td>\n",
       "      <td>NaN</td>\n",
       "      <td>Dugher, Michael (Barnsley East)</td>\n",
       "    </tr>\n",
       "    <tr>\n",
       "      <th>18</th>\n",
       "      <td>NaN</td>\n",
       "      <td>NaN</td>\n",
       "      <td>NaN</td>\n",
       "      <td>NaN</td>\n",
       "      <td>NaN</td>\n",
       "      <td>NaN</td>\n",
       "      <td>NaN</td>\n",
       "      <td>NaT</td>\n",
       "      <td>NaN</td>\n",
       "      <td>NaT</td>\n",
       "      <td>...</td>\n",
       "      <td>NaN</td>\n",
       "      <td>NaN</td>\n",
       "      <td>NaN</td>\n",
       "      <td>I employ my wife, Joanna Dugher, as part-time ...</td>\n",
       "      <td>NaN</td>\n",
       "      <td>NaN</td>\n",
       "      <td>NaN</td>\n",
       "      <td>NaN</td>\n",
       "      <td>NaN</td>\n",
       "      <td>Dugher, Michael (Barnsley East)</td>\n",
       "    </tr>\n",
       "  </tbody>\n",
       "</table>\n",
       "<p>19 rows × 34 columns</p>\n",
       "</div>"
      ],
      "text/plain": [
       "                                                 addr                amounts  \\\n",
       "0                                                 NaN                 2500.0   \n",
       "1        Cardinal House, Bury Street, Ruislip HA4 7GD                 1800.0   \n",
       "2                                             private                  755.0   \n",
       "3                                             private                 2000.0   \n",
       "4                                             private                 1900.0   \n",
       "5                    Balmoral Park, Aberdeen AB12 3GY                 2000.0   \n",
       "6            4th Floor, 49 Whitehall, London SW1A 2BX                  444.0   \n",
       "7            Headingley Cricket Ground, Leeds LS6 3DP           200.0::400.0   \n",
       "8                 30 Gloucester Place, London W1U 8PL                  259.0   \n",
       "9         Botley Road, West End, Southampton SO30 3XH          499.0::1197.6   \n",
       "10           4th Floor, 49 Whitehall, London SW1A 2BX                  380.0   \n",
       "11                30 Gloucester Place, London W1U 8PL                  268.0   \n",
       "12  Greenside House, 50 Station Road, Wood Green, ...                  750.0   \n",
       "13                                                NaN                  718.8   \n",
       "14                                                NaN                  350.0   \n",
       "15       Gibraltar House, 150 Strand, London WC2R 1JA  1296.0::870.0::2166.0   \n",
       "16  (1) BM LFI, London WC1N 3XX (2) 9 Yitzhak Rabi...          1250.0::125.0   \n",
       "17                                                NaN                    NaN   \n",
       "18                                                NaN                    NaN   \n",
       "\n",
       "                                           cleanertxt          cn  \\\n",
       "0                                                 NaN         NaN   \n",
       "1   £1,800 in a successful auction bid at a fundra...     5741473   \n",
       "2   £755 in purchasing tickets for a fundraising d...         NaN   \n",
       "3   £2,000 in a successful auction bid at a fundra...         NaN   \n",
       "4   £1,900 in a successful auction bid at a fundra...         NaN   \n",
       "5   £2,000 to support my Primary School Christmas ...      300656   \n",
       "6   ticket and hospitality at the Ivor Novello Awa...  no 3245288   \n",
       "7   two tickets and hospitality at Yorkshire Count...    IP28929R   \n",
       "8   Ticket and hospitality for a concert at Wemble...  no 2719699   \n",
       "9   two tickets, and accompanying hospitality, to ...  no 4343355   \n",
       "10  four tickets to attend a music concert at Wemb...     3245288   \n",
       "11  a ticket and hospitality to watch a football m...     2719699   \n",
       "12  three tickets to attend the World Darts Final,...     4212563   \n",
       "13                                                NaN         NaN   \n",
       "14                                                NaN         NaN   \n",
       "15                                                NaN         NaN   \n",
       "16                                                NaN         NaN   \n",
       "17                                                NaN         NaN   \n",
       "18                                                NaN         NaN   \n",
       "\n",
       "       currencies                                      date  \\\n",
       "0             GBP                          19 December 2016   \n",
       "1             GBP                               04 May 2016   \n",
       "2             GBP                               23 May 2016   \n",
       "3             GBP                               23 May 2016   \n",
       "4             GBP                         22 September 2016   \n",
       "5             GBP                          09 December 2016   \n",
       "6             GBP                               27 May 2016   \n",
       "7        GBP::GBP                              07 June 2016   \n",
       "8             GBP                              13 June 2016   \n",
       "9        GBP::GBP        08 July 2016; updated 13 July 2016   \n",
       "10            GBP                         20 September 2016   \n",
       "11            GBP                          19 December 2016   \n",
       "12            GBP                           26 January 2017   \n",
       "13            GBP                                       NaN   \n",
       "14            GBP                                       NaN   \n",
       "15  GBP::GBP::GBP  03 October 2016; updated 04 October 2016   \n",
       "16       GBP::GBP                          09 December 2016   \n",
       "17            NaN                                       NaN   \n",
       "18            NaN                                       NaN   \n",
       "\n",
       "             dateAccd dateAccd_f            dateRxd  dateRxd_f  \\\n",
       "0                 NaN        NaT                NaN        NaT   \n",
       "1                 NaN        NaT                NaN        NaT   \n",
       "2                 NaN        NaT                NaN        NaT   \n",
       "3                 NaN        NaT                NaN        NaT   \n",
       "4                 NaN        NaT                NaN        NaT   \n",
       "5     8 December 2016 2016-12-08    8 December 2016 2016-12-08   \n",
       "6         19 May 2016 2016-05-19        19 May 2016 2016-05-19   \n",
       "7         21 May 2016 2016-05-21        21 May 2016 2016-05-21   \n",
       "8         5 June 2016 2016-06-05        5 June 2016 2016-06-05   \n",
       "9         5 July 2016 2016-07-05        5 July 2016 2016-07-05   \n",
       "10  10 September 2016 2016-09-10  10 September 2016 2016-09-10   \n",
       "11    6 December 2016 2016-12-06    6 December 2016 2016-12-06   \n",
       "12     2 January 2017 2017-01-02     2 January 2017 2017-01-02   \n",
       "13                NaN        NaT                NaN        NaT   \n",
       "14                NaN        NaT                NaN        NaT   \n",
       "15                NaN        NaT                NaN        NaT   \n",
       "16                NaN        NaT                NaN        NaT   \n",
       "17                NaN        NaT                NaN        NaT   \n",
       "18                NaN        NaT                NaN        NaT   \n",
       "\n",
       "                 ...                 status2 sumamountsGBP sumlessmaxGBP  \\\n",
       "0                ...                     NaN        2500.0           0.0   \n",
       "1                ...                 company        1800.0           0.0   \n",
       "2                ...                     NaN         755.0           0.0   \n",
       "3                ...                     NaN        2000.0           0.0   \n",
       "4                ...                     NaN        1900.0           0.0   \n",
       "5                ...                 company        2000.0           0.0   \n",
       "6                ...                 company         444.0           0.0   \n",
       "7                ...                 company         600.0           0.0   \n",
       "8                ...                 company         259.0           0.0   \n",
       "9                ...                 company        1696.6           0.0   \n",
       "10               ...                 company         380.0           0.0   \n",
       "11               ...                 company         268.0           0.0   \n",
       "12               ...                 company         750.0           0.0   \n",
       "13               ...                     NaN         718.8           0.0   \n",
       "14               ...                     NaN         350.0           0.0   \n",
       "15               ...                     NaN        4332.0        2166.0   \n",
       "16               ...                     NaN        1375.0           0.0   \n",
       "17               ...                     NaN           NaN           NaN   \n",
       "18               ...                     NaN           NaN           NaN   \n",
       "\n",
       "                                                  txt  \\\n",
       "0                                                 NaN   \n",
       "1   £1,800 in a successful auction bid at a fundra...   \n",
       "2   £755 in purchasing tickets for a fundraising d...   \n",
       "3   £2,000 in a successful auction bid at a fundra...   \n",
       "4   £1,900 in a successful auction bid at a fundra...   \n",
       "5   £2,000 to support my Primary School Christmas ...   \n",
       "6   ticket and hospitality at the Ivor Novello Awa...   \n",
       "7   two tickets and hospitality at Yorkshire Count...   \n",
       "8   Ticket and hospitality for a concert at Wemble...   \n",
       "9   two tickets, and accompanying hospitality, to ...   \n",
       "10  four tickets to attend a music concert at Wemb...   \n",
       "11  a ticket and hospitality to watch a football m...   \n",
       "12  three tickets to attend the World Darts Final,...   \n",
       "13  Name of donor: William Hill plc\\nAddress of do...   \n",
       "14  Name of donor: Ladbrokes Coral Group plc\\nAddr...   \n",
       "15                                                NaN   \n",
       "16                                                NaN   \n",
       "17  Received on 22 March 2017, payment from Associ...   \n",
       "18  I employ my wife, Joanna Dugher, as part-time ...   \n",
       "\n",
       "                                                 txt2  \\\n",
       "0    received £2,500 from Hampshire Cricket, The A...   \n",
       "1                                                 NaN   \n",
       "2                                                 NaN   \n",
       "3                                                 NaN   \n",
       "4                                                 NaN   \n",
       "5                                                 NaN   \n",
       "6                                                 NaN   \n",
       "7                                                 NaN   \n",
       "8                                                 NaN   \n",
       "9                                                 NaN   \n",
       "10                                                NaN   \n",
       "11                                                NaN   \n",
       "12                                                NaN   \n",
       "13                                                NaN   \n",
       "14                                                NaN   \n",
       "15                                                NaN   \n",
       "16                                                NaN   \n",
       "17                                                NaN   \n",
       "18                                                NaN   \n",
       "\n",
       "                                 visitDest           visitdates  \\\n",
       "0                                      NaN                  NaN   \n",
       "1                                      NaN                  NaN   \n",
       "2                                      NaN                  NaN   \n",
       "3                                      NaN                  NaN   \n",
       "4                                      NaN                  NaN   \n",
       "5                                      NaN                  NaN   \n",
       "6                                      NaN                  NaN   \n",
       "7                                      NaN                  NaN   \n",
       "8                                      NaN                  NaN   \n",
       "9                                      NaN                  NaN   \n",
       "10                                     NaN                  NaN   \n",
       "11                                     NaN                  NaN   \n",
       "12                                     NaN                  NaN   \n",
       "13                                     NaN                  NaN   \n",
       "14                                     NaN                  NaN   \n",
       "15                               Gibraltar  8-10 September 2016   \n",
       "16  Israel and the Palestinian Territories  14-16 November 2016   \n",
       "17                                     NaN                  NaN   \n",
       "18                                     NaN                  NaN   \n",
       "\n",
       "                                        visitestimate  \\\n",
       "0                                                 NaN   \n",
       "1                                                 NaN   \n",
       "2                                                 NaN   \n",
       "3                                                 NaN   \n",
       "4                                                 NaN   \n",
       "5                                                 NaN   \n",
       "6                                                 NaN   \n",
       "7                                                 NaN   \n",
       "8                                                 NaN   \n",
       "9                                                 NaN   \n",
       "10                                                NaN   \n",
       "11                                                NaN   \n",
       "12                                                NaN   \n",
       "13                                                NaN   \n",
       "14                                                NaN   \n",
       "15  airfares and accommodation for a member of sta...   \n",
       "16  (1) Flights, accommodation and subsistence wit...   \n",
       "17                                                NaN   \n",
       "18                                                NaN   \n",
       "\n",
       "                                         visitpurpose  \\\n",
       "0                                                 NaN   \n",
       "1                                                 NaN   \n",
       "2                                                 NaN   \n",
       "3                                                 NaN   \n",
       "4                                                 NaN   \n",
       "5                                                 NaN   \n",
       "6                                                 NaN   \n",
       "7                                                 NaN   \n",
       "8                                                 NaN   \n",
       "9                                                 NaN   \n",
       "10                                                NaN   \n",
       "11                                                NaN   \n",
       "12                                                NaN   \n",
       "13                                                NaN   \n",
       "14                                                NaN   \n",
       "15  As part of the Gibraltar APPG, invited by HM G...   \n",
       "16  Fact finding visit. Meeting with Israeli and P...   \n",
       "17                                                NaN   \n",
       "18                                                NaN   \n",
       "\n",
       "                             mpname  \n",
       "0   Dugher, Michael (Barnsley East)  \n",
       "1   Dugher, Michael (Barnsley East)  \n",
       "2   Dugher, Michael (Barnsley East)  \n",
       "3   Dugher, Michael (Barnsley East)  \n",
       "4   Dugher, Michael (Barnsley East)  \n",
       "5   Dugher, Michael (Barnsley East)  \n",
       "6   Dugher, Michael (Barnsley East)  \n",
       "7   Dugher, Michael (Barnsley East)  \n",
       "8   Dugher, Michael (Barnsley East)  \n",
       "9   Dugher, Michael (Barnsley East)  \n",
       "10  Dugher, Michael (Barnsley East)  \n",
       "11  Dugher, Michael (Barnsley East)  \n",
       "12  Dugher, Michael (Barnsley East)  \n",
       "13  Dugher, Michael (Barnsley East)  \n",
       "14  Dugher, Michael (Barnsley East)  \n",
       "15  Dugher, Michael (Barnsley East)  \n",
       "16  Dugher, Michael (Barnsley East)  \n",
       "17  Dugher, Michael (Barnsley East)  \n",
       "18  Dugher, Michael (Barnsley East)  \n",
       "\n",
       "[19 rows x 34 columns]"
      ]
     },
     "execution_count": 138,
     "metadata": {},
     "output_type": "execute_result"
    }
   ],
   "source": [
    "#Let's if it works...\n",
    "scrapeData(ptags)"
   ]
  },
  {
   "cell_type": "markdown",
   "metadata": {},
   "source": [
    "If everything has gone to plan, we should be able to scrape the data from another page..."
   ]
  },
  {
   "cell_type": "code",
   "execution_count": 139,
   "metadata": {
    "scrolled": false
   },
   "outputs": [
    {
     "data": {
      "text/html": [
       "<div>\n",
       "<style scoped>\n",
       "    .dataframe tbody tr th:only-of-type {\n",
       "        vertical-align: middle;\n",
       "    }\n",
       "\n",
       "    .dataframe tbody tr th {\n",
       "        vertical-align: top;\n",
       "    }\n",
       "\n",
       "    .dataframe thead th {\n",
       "        text-align: right;\n",
       "    }\n",
       "</style>\n",
       "<table border=\"1\" class=\"dataframe\">\n",
       "  <thead>\n",
       "    <tr style=\"text-align: right;\">\n",
       "      <th></th>\n",
       "      <th>addr</th>\n",
       "      <th>amounts</th>\n",
       "      <th>cleanertxt</th>\n",
       "      <th>cn</th>\n",
       "      <th>currencies</th>\n",
       "      <th>date</th>\n",
       "      <th>dateAccd</th>\n",
       "      <th>dateAccd_f</th>\n",
       "      <th>dateRxd</th>\n",
       "      <th>dateRxd_f</th>\n",
       "      <th>...</th>\n",
       "      <th>status2</th>\n",
       "      <th>sumamountsGBP</th>\n",
       "      <th>sumlessmaxGBP</th>\n",
       "      <th>txt</th>\n",
       "      <th>txt2</th>\n",
       "      <th>visitDest</th>\n",
       "      <th>visitdates</th>\n",
       "      <th>visitestimate</th>\n",
       "      <th>visitpurpose</th>\n",
       "      <th>mpname</th>\n",
       "    </tr>\n",
       "  </thead>\n",
       "  <tbody>\n",
       "    <tr>\n",
       "      <th>0</th>\n",
       "      <td>NaN</td>\n",
       "      <td>NaN</td>\n",
       "      <td>NaN</td>\n",
       "      <td>NaN</td>\n",
       "      <td>NaN</td>\n",
       "      <td>NaN</td>\n",
       "      <td>NaN</td>\n",
       "      <td>NaT</td>\n",
       "      <td>NaN</td>\n",
       "      <td>NaT</td>\n",
       "      <td>...</td>\n",
       "      <td>NaN</td>\n",
       "      <td>NaN</td>\n",
       "      <td>NaN</td>\n",
       "      <td>Payments from ComRes, 4 Millbank, London SW1P ...</td>\n",
       "      <td>NaN</td>\n",
       "      <td>NaN</td>\n",
       "      <td>NaN</td>\n",
       "      <td>NaN</td>\n",
       "      <td>NaN</td>\n",
       "      <td>Gray, James (North Wiltshire)</td>\n",
       "    </tr>\n",
       "    <tr>\n",
       "      <th>1</th>\n",
       "      <td>NaN</td>\n",
       "      <td>75.0</td>\n",
       "      <td>NaN</td>\n",
       "      <td>NaN</td>\n",
       "      <td>GBP</td>\n",
       "      <td>03 August 2016</td>\n",
       "      <td>NaN</td>\n",
       "      <td>NaT</td>\n",
       "      <td>NaN</td>\n",
       "      <td>NaT</td>\n",
       "      <td>...</td>\n",
       "      <td>NaN</td>\n",
       "      <td>75.0</td>\n",
       "      <td>0.00</td>\n",
       "      <td>NaN</td>\n",
       "      <td>£75 for participating in Parliamentary Panel ...</td>\n",
       "      <td>NaN</td>\n",
       "      <td>NaN</td>\n",
       "      <td>NaN</td>\n",
       "      <td>NaN</td>\n",
       "      <td>Gray, James (North Wiltshire)</td>\n",
       "    </tr>\n",
       "    <tr>\n",
       "      <th>2</th>\n",
       "      <td>NaN</td>\n",
       "      <td>75.0</td>\n",
       "      <td>NaN</td>\n",
       "      <td>NaN</td>\n",
       "      <td>GBP</td>\n",
       "      <td>03 August 2016</td>\n",
       "      <td>NaN</td>\n",
       "      <td>NaT</td>\n",
       "      <td>NaN</td>\n",
       "      <td>NaT</td>\n",
       "      <td>...</td>\n",
       "      <td>NaN</td>\n",
       "      <td>75.0</td>\n",
       "      <td>0.00</td>\n",
       "      <td>NaN</td>\n",
       "      <td>£75 for participating in Parliamentary Panel ...</td>\n",
       "      <td>NaN</td>\n",
       "      <td>NaN</td>\n",
       "      <td>NaN</td>\n",
       "      <td>NaN</td>\n",
       "      <td>Gray, James (North Wiltshire)</td>\n",
       "    </tr>\n",
       "    <tr>\n",
       "      <th>3</th>\n",
       "      <td>NaN</td>\n",
       "      <td>100.0</td>\n",
       "      <td>NaN</td>\n",
       "      <td>NaN</td>\n",
       "      <td>GBP</td>\n",
       "      <td>03 August 2016</td>\n",
       "      <td>NaN</td>\n",
       "      <td>NaT</td>\n",
       "      <td>NaN</td>\n",
       "      <td>NaT</td>\n",
       "      <td>...</td>\n",
       "      <td>NaN</td>\n",
       "      <td>100.0</td>\n",
       "      <td>0.00</td>\n",
       "      <td>NaN</td>\n",
       "      <td>£100 for participating in Parliamentary Panel...</td>\n",
       "      <td>NaN</td>\n",
       "      <td>NaN</td>\n",
       "      <td>NaN</td>\n",
       "      <td>NaN</td>\n",
       "      <td>Gray, James (North Wiltshire)</td>\n",
       "    </tr>\n",
       "    <tr>\n",
       "      <th>4</th>\n",
       "      <td>NaN</td>\n",
       "      <td>75.0</td>\n",
       "      <td>NaN</td>\n",
       "      <td>NaN</td>\n",
       "      <td>GBP</td>\n",
       "      <td>03 August 2016</td>\n",
       "      <td>NaN</td>\n",
       "      <td>NaT</td>\n",
       "      <td>NaN</td>\n",
       "      <td>NaT</td>\n",
       "      <td>...</td>\n",
       "      <td>NaN</td>\n",
       "      <td>75.0</td>\n",
       "      <td>0.00</td>\n",
       "      <td>NaN</td>\n",
       "      <td>£75 for participating in Parliamentary Panel ...</td>\n",
       "      <td>NaN</td>\n",
       "      <td>NaN</td>\n",
       "      <td>NaN</td>\n",
       "      <td>NaN</td>\n",
       "      <td>Gray, James (North Wiltshire)</td>\n",
       "    </tr>\n",
       "    <tr>\n",
       "      <th>5</th>\n",
       "      <td>NaN</td>\n",
       "      <td>75.0</td>\n",
       "      <td>NaN</td>\n",
       "      <td>NaN</td>\n",
       "      <td>GBP</td>\n",
       "      <td>31 October 2016</td>\n",
       "      <td>NaN</td>\n",
       "      <td>NaT</td>\n",
       "      <td>NaN</td>\n",
       "      <td>NaT</td>\n",
       "      <td>...</td>\n",
       "      <td>NaN</td>\n",
       "      <td>75.0</td>\n",
       "      <td>0.00</td>\n",
       "      <td>NaN</td>\n",
       "      <td>£75 for participating in Parliamentary Panel ...</td>\n",
       "      <td>NaN</td>\n",
       "      <td>NaN</td>\n",
       "      <td>NaN</td>\n",
       "      <td>NaN</td>\n",
       "      <td>Gray, James (North Wiltshire)</td>\n",
       "    </tr>\n",
       "    <tr>\n",
       "      <th>6</th>\n",
       "      <td>NaN</td>\n",
       "      <td>75.0</td>\n",
       "      <td>NaN</td>\n",
       "      <td>NaN</td>\n",
       "      <td>GBP</td>\n",
       "      <td>16 December 2016</td>\n",
       "      <td>NaN</td>\n",
       "      <td>NaT</td>\n",
       "      <td>NaN</td>\n",
       "      <td>NaT</td>\n",
       "      <td>...</td>\n",
       "      <td>NaN</td>\n",
       "      <td>75.0</td>\n",
       "      <td>0.00</td>\n",
       "      <td>NaN</td>\n",
       "      <td>payment of £75 for taking part in an online s...</td>\n",
       "      <td>NaN</td>\n",
       "      <td>NaN</td>\n",
       "      <td>NaN</td>\n",
       "      <td>NaN</td>\n",
       "      <td>Gray, James (North Wiltshire)</td>\n",
       "    </tr>\n",
       "    <tr>\n",
       "      <th>7</th>\n",
       "      <td>NaN</td>\n",
       "      <td>NaN</td>\n",
       "      <td>NaN</td>\n",
       "      <td>NaN</td>\n",
       "      <td>NaN</td>\n",
       "      <td>NaN</td>\n",
       "      <td>NaN</td>\n",
       "      <td>NaT</td>\n",
       "      <td>NaN</td>\n",
       "      <td>NaT</td>\n",
       "      <td>...</td>\n",
       "      <td>NaN</td>\n",
       "      <td>NaN</td>\n",
       "      <td>NaN</td>\n",
       "      <td>Payments from YouGov, 50 Featherstone St, Lond...</td>\n",
       "      <td>NaN</td>\n",
       "      <td>NaN</td>\n",
       "      <td>NaN</td>\n",
       "      <td>NaN</td>\n",
       "      <td>NaN</td>\n",
       "      <td>Gray, James (North Wiltshire)</td>\n",
       "    </tr>\n",
       "    <tr>\n",
       "      <th>8</th>\n",
       "      <td>NaN</td>\n",
       "      <td>50.0</td>\n",
       "      <td>NaN</td>\n",
       "      <td>NaN</td>\n",
       "      <td>GBP</td>\n",
       "      <td>05 December 2016</td>\n",
       "      <td>NaN</td>\n",
       "      <td>NaT</td>\n",
       "      <td>NaN</td>\n",
       "      <td>NaT</td>\n",
       "      <td>...</td>\n",
       "      <td>NaN</td>\n",
       "      <td>50.0</td>\n",
       "      <td>0.00</td>\n",
       "      <td>NaN</td>\n",
       "      <td>£50 for participating in an online survey.</td>\n",
       "      <td>NaN</td>\n",
       "      <td>NaN</td>\n",
       "      <td>NaN</td>\n",
       "      <td>NaN</td>\n",
       "      <td>Gray, James (North Wiltshire)</td>\n",
       "    </tr>\n",
       "    <tr>\n",
       "      <th>9</th>\n",
       "      <td>NaN</td>\n",
       "      <td>30.0</td>\n",
       "      <td>NaN</td>\n",
       "      <td>NaN</td>\n",
       "      <td>GBP</td>\n",
       "      <td>05 December 2016</td>\n",
       "      <td>NaN</td>\n",
       "      <td>NaT</td>\n",
       "      <td>NaN</td>\n",
       "      <td>NaT</td>\n",
       "      <td>...</td>\n",
       "      <td>NaN</td>\n",
       "      <td>30.0</td>\n",
       "      <td>0.00</td>\n",
       "      <td>NaN</td>\n",
       "      <td>£30 for participating in an online survey.</td>\n",
       "      <td>NaN</td>\n",
       "      <td>NaN</td>\n",
       "      <td>NaN</td>\n",
       "      <td>NaN</td>\n",
       "      <td>Gray, James (North Wiltshire)</td>\n",
       "    </tr>\n",
       "    <tr>\n",
       "      <th>10</th>\n",
       "      <td>NaN</td>\n",
       "      <td>20.0</td>\n",
       "      <td>NaN</td>\n",
       "      <td>NaN</td>\n",
       "      <td>GBP</td>\n",
       "      <td>05 December 2016</td>\n",
       "      <td>NaN</td>\n",
       "      <td>NaT</td>\n",
       "      <td>NaN</td>\n",
       "      <td>NaT</td>\n",
       "      <td>...</td>\n",
       "      <td>NaN</td>\n",
       "      <td>20.0</td>\n",
       "      <td>0.00</td>\n",
       "      <td>NaN</td>\n",
       "      <td>£20 for participating in an online survey.</td>\n",
       "      <td>NaN</td>\n",
       "      <td>NaN</td>\n",
       "      <td>NaN</td>\n",
       "      <td>NaN</td>\n",
       "      <td>Gray, James (North Wiltshire)</td>\n",
       "    </tr>\n",
       "    <tr>\n",
       "      <th>11</th>\n",
       "      <td>NaN</td>\n",
       "      <td>80.0</td>\n",
       "      <td>NaN</td>\n",
       "      <td>NaN</td>\n",
       "      <td>GBP</td>\n",
       "      <td>05 December 2016</td>\n",
       "      <td>NaN</td>\n",
       "      <td>NaT</td>\n",
       "      <td>NaN</td>\n",
       "      <td>NaT</td>\n",
       "      <td>...</td>\n",
       "      <td>NaN</td>\n",
       "      <td>80.0</td>\n",
       "      <td>0.00</td>\n",
       "      <td>NaN</td>\n",
       "      <td>£80 for participating in an online survey.</td>\n",
       "      <td>NaN</td>\n",
       "      <td>NaN</td>\n",
       "      <td>NaN</td>\n",
       "      <td>NaN</td>\n",
       "      <td>Gray, James (North Wiltshire)</td>\n",
       "    </tr>\n",
       "    <tr>\n",
       "      <th>12</th>\n",
       "      <td>NaN</td>\n",
       "      <td>40.0</td>\n",
       "      <td>NaN</td>\n",
       "      <td>NaN</td>\n",
       "      <td>GBP</td>\n",
       "      <td>05 December 2016</td>\n",
       "      <td>NaN</td>\n",
       "      <td>NaT</td>\n",
       "      <td>NaN</td>\n",
       "      <td>NaT</td>\n",
       "      <td>...</td>\n",
       "      <td>NaN</td>\n",
       "      <td>40.0</td>\n",
       "      <td>0.00</td>\n",
       "      <td>NaN</td>\n",
       "      <td>£40 for participating in an online survey.</td>\n",
       "      <td>NaN</td>\n",
       "      <td>NaN</td>\n",
       "      <td>NaN</td>\n",
       "      <td>NaN</td>\n",
       "      <td>Gray, James (North Wiltshire)</td>\n",
       "    </tr>\n",
       "    <tr>\n",
       "      <th>13</th>\n",
       "      <td>NaN</td>\n",
       "      <td>80.0</td>\n",
       "      <td>NaN</td>\n",
       "      <td>NaN</td>\n",
       "      <td>GBP</td>\n",
       "      <td>05 December 2016</td>\n",
       "      <td>NaN</td>\n",
       "      <td>NaT</td>\n",
       "      <td>NaN</td>\n",
       "      <td>NaT</td>\n",
       "      <td>...</td>\n",
       "      <td>NaN</td>\n",
       "      <td>80.0</td>\n",
       "      <td>0.00</td>\n",
       "      <td>NaN</td>\n",
       "      <td>£80 for participating in an online survey.</td>\n",
       "      <td>NaN</td>\n",
       "      <td>NaN</td>\n",
       "      <td>NaN</td>\n",
       "      <td>NaN</td>\n",
       "      <td>Gray, James (North Wiltshire)</td>\n",
       "    </tr>\n",
       "    <tr>\n",
       "      <th>14</th>\n",
       "      <td>NaN</td>\n",
       "      <td>25.0</td>\n",
       "      <td>NaN</td>\n",
       "      <td>NaN</td>\n",
       "      <td>GBP</td>\n",
       "      <td>05 December 2016</td>\n",
       "      <td>NaN</td>\n",
       "      <td>NaT</td>\n",
       "      <td>NaN</td>\n",
       "      <td>NaT</td>\n",
       "      <td>...</td>\n",
       "      <td>NaN</td>\n",
       "      <td>25.0</td>\n",
       "      <td>0.00</td>\n",
       "      <td>NaN</td>\n",
       "      <td>£25 for participating in an online survey.</td>\n",
       "      <td>NaN</td>\n",
       "      <td>NaN</td>\n",
       "      <td>NaN</td>\n",
       "      <td>NaN</td>\n",
       "      <td>Gray, James (North Wiltshire)</td>\n",
       "    </tr>\n",
       "    <tr>\n",
       "      <th>15</th>\n",
       "      <td>NaN</td>\n",
       "      <td>60.0</td>\n",
       "      <td>NaN</td>\n",
       "      <td>NaN</td>\n",
       "      <td>GBP</td>\n",
       "      <td>05 December 2016</td>\n",
       "      <td>NaN</td>\n",
       "      <td>NaT</td>\n",
       "      <td>NaN</td>\n",
       "      <td>NaT</td>\n",
       "      <td>...</td>\n",
       "      <td>NaN</td>\n",
       "      <td>60.0</td>\n",
       "      <td>0.00</td>\n",
       "      <td>NaN</td>\n",
       "      <td>£60 for participating in an online survey.</td>\n",
       "      <td>NaN</td>\n",
       "      <td>NaN</td>\n",
       "      <td>NaN</td>\n",
       "      <td>NaN</td>\n",
       "      <td>Gray, James (North Wiltshire)</td>\n",
       "    </tr>\n",
       "    <tr>\n",
       "      <th>16</th>\n",
       "      <td>NaN</td>\n",
       "      <td>60.0</td>\n",
       "      <td>NaN</td>\n",
       "      <td>NaN</td>\n",
       "      <td>GBP</td>\n",
       "      <td>NaN</td>\n",
       "      <td>NaN</td>\n",
       "      <td>NaT</td>\n",
       "      <td>NaN</td>\n",
       "      <td>NaT</td>\n",
       "      <td>...</td>\n",
       "      <td>NaN</td>\n",
       "      <td>60.0</td>\n",
       "      <td>0.00</td>\n",
       "      <td>16 December 2016, £60 for taking part in an on...</td>\n",
       "      <td>NaN</td>\n",
       "      <td>NaN</td>\n",
       "      <td>NaN</td>\n",
       "      <td>NaN</td>\n",
       "      <td>NaN</td>\n",
       "      <td>Gray, James (North Wiltshire)</td>\n",
       "    </tr>\n",
       "    <tr>\n",
       "      <th>17</th>\n",
       "      <td>NaN</td>\n",
       "      <td>NaN</td>\n",
       "      <td>NaN</td>\n",
       "      <td>NaN</td>\n",
       "      <td>NaN</td>\n",
       "      <td>NaN</td>\n",
       "      <td>NaN</td>\n",
       "      <td>NaT</td>\n",
       "      <td>NaN</td>\n",
       "      <td>NaT</td>\n",
       "      <td>...</td>\n",
       "      <td>NaN</td>\n",
       "      <td>NaN</td>\n",
       "      <td>NaN</td>\n",
       "      <td>Payments from Ipsos MORI, 79-81 Borough Road, ...</td>\n",
       "      <td>NaN</td>\n",
       "      <td>NaN</td>\n",
       "      <td>NaN</td>\n",
       "      <td>NaN</td>\n",
       "      <td>NaN</td>\n",
       "      <td>Gray, James (North Wiltshire)</td>\n",
       "    </tr>\n",
       "    <tr>\n",
       "      <th>18</th>\n",
       "      <td>NaN</td>\n",
       "      <td>200.0</td>\n",
       "      <td>NaN</td>\n",
       "      <td>NaN</td>\n",
       "      <td>GBP</td>\n",
       "      <td>02 August 2016</td>\n",
       "      <td>NaN</td>\n",
       "      <td>NaT</td>\n",
       "      <td>NaN</td>\n",
       "      <td>NaT</td>\n",
       "      <td>...</td>\n",
       "      <td>NaN</td>\n",
       "      <td>200.0</td>\n",
       "      <td>0.00</td>\n",
       "      <td>NaN</td>\n",
       "      <td>payment of £200 for participating in Ipsos MO...</td>\n",
       "      <td>NaN</td>\n",
       "      <td>NaN</td>\n",
       "      <td>NaN</td>\n",
       "      <td>NaN</td>\n",
       "      <td>Gray, James (North Wiltshire)</td>\n",
       "    </tr>\n",
       "    <tr>\n",
       "      <th>19</th>\n",
       "      <td>NaN</td>\n",
       "      <td>200.0</td>\n",
       "      <td>NaN</td>\n",
       "      <td>NaN</td>\n",
       "      <td>GBP</td>\n",
       "      <td>20 March 2017</td>\n",
       "      <td>NaN</td>\n",
       "      <td>NaT</td>\n",
       "      <td>NaN</td>\n",
       "      <td>NaT</td>\n",
       "      <td>...</td>\n",
       "      <td>NaN</td>\n",
       "      <td>200.0</td>\n",
       "      <td>0.00</td>\n",
       "      <td>NaN</td>\n",
       "      <td>payment of £200 for participating in Ipsos MO...</td>\n",
       "      <td>NaN</td>\n",
       "      <td>NaN</td>\n",
       "      <td>NaN</td>\n",
       "      <td>NaN</td>\n",
       "      <td>Gray, James (North Wiltshire)</td>\n",
       "    </tr>\n",
       "    <tr>\n",
       "      <th>20</th>\n",
       "      <td>NaN</td>\n",
       "      <td>NaN</td>\n",
       "      <td>NaN</td>\n",
       "      <td>NaN</td>\n",
       "      <td>NaN</td>\n",
       "      <td>NaN</td>\n",
       "      <td>NaN</td>\n",
       "      <td>NaT</td>\n",
       "      <td>NaN</td>\n",
       "      <td>NaT</td>\n",
       "      <td>...</td>\n",
       "      <td>NaN</td>\n",
       "      <td>NaN</td>\n",
       "      <td>NaN</td>\n",
       "      <td>Payments from Populus, 10 Northburgh Street, L...</td>\n",
       "      <td>NaN</td>\n",
       "      <td>NaN</td>\n",
       "      <td>NaN</td>\n",
       "      <td>NaN</td>\n",
       "      <td>NaN</td>\n",
       "      <td>Gray, James (North Wiltshire)</td>\n",
       "    </tr>\n",
       "    <tr>\n",
       "      <th>21</th>\n",
       "      <td>NaN</td>\n",
       "      <td>50.0</td>\n",
       "      <td>NaN</td>\n",
       "      <td>NaN</td>\n",
       "      <td>GBP</td>\n",
       "      <td>03 August 2016</td>\n",
       "      <td>NaN</td>\n",
       "      <td>NaT</td>\n",
       "      <td>NaN</td>\n",
       "      <td>NaT</td>\n",
       "      <td>...</td>\n",
       "      <td>NaN</td>\n",
       "      <td>50.0</td>\n",
       "      <td>0.00</td>\n",
       "      <td>NaN</td>\n",
       "      <td>£50 for participating in a research project.</td>\n",
       "      <td>NaN</td>\n",
       "      <td>NaN</td>\n",
       "      <td>NaN</td>\n",
       "      <td>NaN</td>\n",
       "      <td>Gray, James (North Wiltshire)</td>\n",
       "    </tr>\n",
       "    <tr>\n",
       "      <th>22</th>\n",
       "      <td>NaN</td>\n",
       "      <td>50.0</td>\n",
       "      <td>NaN</td>\n",
       "      <td>NaN</td>\n",
       "      <td>GBP</td>\n",
       "      <td>03 August 2016</td>\n",
       "      <td>NaN</td>\n",
       "      <td>NaT</td>\n",
       "      <td>NaN</td>\n",
       "      <td>NaT</td>\n",
       "      <td>...</td>\n",
       "      <td>NaN</td>\n",
       "      <td>50.0</td>\n",
       "      <td>0.00</td>\n",
       "      <td>NaN</td>\n",
       "      <td>£50 for participating in a research project.</td>\n",
       "      <td>NaN</td>\n",
       "      <td>NaN</td>\n",
       "      <td>NaN</td>\n",
       "      <td>NaN</td>\n",
       "      <td>Gray, James (North Wiltshire)</td>\n",
       "    </tr>\n",
       "    <tr>\n",
       "      <th>23</th>\n",
       "      <td>NaN</td>\n",
       "      <td>50.0</td>\n",
       "      <td>NaN</td>\n",
       "      <td>NaN</td>\n",
       "      <td>GBP</td>\n",
       "      <td>03 August 2016</td>\n",
       "      <td>NaN</td>\n",
       "      <td>NaT</td>\n",
       "      <td>NaN</td>\n",
       "      <td>NaT</td>\n",
       "      <td>...</td>\n",
       "      <td>NaN</td>\n",
       "      <td>50.0</td>\n",
       "      <td>0.00</td>\n",
       "      <td>NaN</td>\n",
       "      <td>£50 for participating in a research project.</td>\n",
       "      <td>NaN</td>\n",
       "      <td>NaN</td>\n",
       "      <td>NaN</td>\n",
       "      <td>NaN</td>\n",
       "      <td>Gray, James (North Wiltshire)</td>\n",
       "    </tr>\n",
       "    <tr>\n",
       "      <th>24</th>\n",
       "      <td>NaN</td>\n",
       "      <td>75.0</td>\n",
       "      <td>NaN</td>\n",
       "      <td>NaN</td>\n",
       "      <td>GBP</td>\n",
       "      <td>03 August 2016</td>\n",
       "      <td>NaN</td>\n",
       "      <td>NaT</td>\n",
       "      <td>NaN</td>\n",
       "      <td>NaT</td>\n",
       "      <td>...</td>\n",
       "      <td>NaN</td>\n",
       "      <td>75.0</td>\n",
       "      <td>0.00</td>\n",
       "      <td>NaN</td>\n",
       "      <td>£75 for participating in a research project.</td>\n",
       "      <td>NaN</td>\n",
       "      <td>NaN</td>\n",
       "      <td>NaN</td>\n",
       "      <td>NaN</td>\n",
       "      <td>Gray, James (North Wiltshire)</td>\n",
       "    </tr>\n",
       "    <tr>\n",
       "      <th>25</th>\n",
       "      <td>NaN</td>\n",
       "      <td>50.0</td>\n",
       "      <td>NaN</td>\n",
       "      <td>NaN</td>\n",
       "      <td>GBP</td>\n",
       "      <td>03 August 2016</td>\n",
       "      <td>NaN</td>\n",
       "      <td>NaT</td>\n",
       "      <td>NaN</td>\n",
       "      <td>NaT</td>\n",
       "      <td>...</td>\n",
       "      <td>NaN</td>\n",
       "      <td>50.0</td>\n",
       "      <td>0.00</td>\n",
       "      <td>NaN</td>\n",
       "      <td>£50 for participating in a research project.</td>\n",
       "      <td>NaN</td>\n",
       "      <td>NaN</td>\n",
       "      <td>NaN</td>\n",
       "      <td>NaN</td>\n",
       "      <td>Gray, James (North Wiltshire)</td>\n",
       "    </tr>\n",
       "    <tr>\n",
       "      <th>26</th>\n",
       "      <td>NaN</td>\n",
       "      <td>50.0</td>\n",
       "      <td>NaN</td>\n",
       "      <td>NaN</td>\n",
       "      <td>GBP</td>\n",
       "      <td>03 August 2016</td>\n",
       "      <td>NaN</td>\n",
       "      <td>NaT</td>\n",
       "      <td>NaN</td>\n",
       "      <td>NaT</td>\n",
       "      <td>...</td>\n",
       "      <td>NaN</td>\n",
       "      <td>50.0</td>\n",
       "      <td>0.00</td>\n",
       "      <td>NaN</td>\n",
       "      <td>£50 for participating in a research project.</td>\n",
       "      <td>NaN</td>\n",
       "      <td>NaN</td>\n",
       "      <td>NaN</td>\n",
       "      <td>NaN</td>\n",
       "      <td>Gray, James (North Wiltshire)</td>\n",
       "    </tr>\n",
       "    <tr>\n",
       "      <th>27</th>\n",
       "      <td>NaN</td>\n",
       "      <td>50.0</td>\n",
       "      <td>NaN</td>\n",
       "      <td>NaN</td>\n",
       "      <td>GBP</td>\n",
       "      <td>28 November 2016</td>\n",
       "      <td>NaN</td>\n",
       "      <td>NaT</td>\n",
       "      <td>NaN</td>\n",
       "      <td>NaT</td>\n",
       "      <td>...</td>\n",
       "      <td>NaN</td>\n",
       "      <td>50.0</td>\n",
       "      <td>0.00</td>\n",
       "      <td>NaN</td>\n",
       "      <td>payment of £50 for participating in a researc...</td>\n",
       "      <td>NaN</td>\n",
       "      <td>NaN</td>\n",
       "      <td>NaN</td>\n",
       "      <td>NaN</td>\n",
       "      <td>Gray, James (North Wiltshire)</td>\n",
       "    </tr>\n",
       "    <tr>\n",
       "      <th>28</th>\n",
       "      <td>private</td>\n",
       "      <td>2500.0</td>\n",
       "      <td>£2,500 for local EU Referendum campaigning</td>\n",
       "      <td>NaN</td>\n",
       "      <td>GBP</td>\n",
       "      <td>21 July 2016</td>\n",
       "      <td>14 June 2016</td>\n",
       "      <td>2016-06-14 00:00:00</td>\n",
       "      <td>14 June 2016</td>\n",
       "      <td>2016-06-14 00:00:00</td>\n",
       "      <td>...</td>\n",
       "      <td>NaN</td>\n",
       "      <td>2500.0</td>\n",
       "      <td>0.00</td>\n",
       "      <td>£2,500 for local EU Referendum campaigning\\nDa...</td>\n",
       "      <td>NaN</td>\n",
       "      <td>NaN</td>\n",
       "      <td>NaN</td>\n",
       "      <td>NaN</td>\n",
       "      <td>NaN</td>\n",
       "      <td>Gray, James (North Wiltshire)</td>\n",
       "    </tr>\n",
       "    <tr>\n",
       "      <th>29</th>\n",
       "      <td>House of Commons, London SW1A 0AA</td>\n",
       "      <td>40.0::14.25::425.25</td>\n",
       "      <td>six dinners value £40 each; thirteen breakfast...</td>\n",
       "      <td>NaN</td>\n",
       "      <td>GBP::GBP::GBP</td>\n",
       "      <td>24 October 2016; updated 05 December 2016</td>\n",
       "      <td>1 January 2016 to 2 December 2016</td>\n",
       "      <td>None</td>\n",
       "      <td>1 January 2016 to 2 December 2016</td>\n",
       "      <td>None</td>\n",
       "      <td>...</td>\n",
       "      <td>NaN</td>\n",
       "      <td>479.5</td>\n",
       "      <td>54.25</td>\n",
       "      <td>six dinners value £40 each; thirteen breakfast...</td>\n",
       "      <td>NaN</td>\n",
       "      <td>NaN</td>\n",
       "      <td>NaN</td>\n",
       "      <td>NaN</td>\n",
       "      <td>NaN</td>\n",
       "      <td>Gray, James (North Wiltshire)</td>\n",
       "    </tr>\n",
       "    <tr>\n",
       "      <th>30</th>\n",
       "      <td>PO Box 1010, Uxbridge UB8 9NT</td>\n",
       "      <td>944.0</td>\n",
       "      <td>12 month season ticket for car parking at Chip...</td>\n",
       "      <td>2572947</td>\n",
       "      <td>GBP</td>\n",
       "      <td>07 November 2016</td>\n",
       "      <td>7 November 2016</td>\n",
       "      <td>2016-11-07 00:00:00</td>\n",
       "      <td>7 November 2016</td>\n",
       "      <td>2016-11-07 00:00:00</td>\n",
       "      <td>...</td>\n",
       "      <td>company</td>\n",
       "      <td>944.0</td>\n",
       "      <td>0.00</td>\n",
       "      <td>12 month season ticket for car parking at Chip...</td>\n",
       "      <td>NaN</td>\n",
       "      <td>NaN</td>\n",
       "      <td>NaN</td>\n",
       "      <td>NaN</td>\n",
       "      <td>NaN</td>\n",
       "      <td>Gray, James (North Wiltshire)</td>\n",
       "    </tr>\n",
       "    <tr>\n",
       "      <th>31</th>\n",
       "      <td>c/o Rothschild Trust Guernsey Ltd, PO Box 472,...</td>\n",
       "      <td>1500.0</td>\n",
       "      <td>NaN</td>\n",
       "      <td>NaN</td>\n",
       "      <td>GBP</td>\n",
       "      <td>20 April 2017</td>\n",
       "      <td>NaN</td>\n",
       "      <td>NaN</td>\n",
       "      <td>NaN</td>\n",
       "      <td>NaN</td>\n",
       "      <td>...</td>\n",
       "      <td>NaN</td>\n",
       "      <td>1500.0</td>\n",
       "      <td>0.00</td>\n",
       "      <td>NaN</td>\n",
       "      <td>NaN</td>\n",
       "      <td>Arkhangelsk</td>\n",
       "      <td>28 – 31 March 2017</td>\n",
       "      <td>transport, accommodation, food and drink at an...</td>\n",
       "      <td>To attend the ‘Arctic: Territory of Dialogue’ ...</td>\n",
       "      <td>Gray, James (North Wiltshire)</td>\n",
       "    </tr>\n",
       "    <tr>\n",
       "      <th>32</th>\n",
       "      <td>NaN</td>\n",
       "      <td>NaN</td>\n",
       "      <td>NaN</td>\n",
       "      <td>NaN</td>\n",
       "      <td>NaN</td>\n",
       "      <td>NaN</td>\n",
       "      <td>NaN</td>\n",
       "      <td>NaN</td>\n",
       "      <td>NaN</td>\n",
       "      <td>NaN</td>\n",
       "      <td>...</td>\n",
       "      <td>NaN</td>\n",
       "      <td>NaN</td>\n",
       "      <td>NaN</td>\n",
       "      <td>Two residential properties in Wiltshire, acqui...</td>\n",
       "      <td>NaN</td>\n",
       "      <td>NaN</td>\n",
       "      <td>NaN</td>\n",
       "      <td>NaN</td>\n",
       "      <td>NaN</td>\n",
       "      <td>Gray, James (North Wiltshire)</td>\n",
       "    </tr>\n",
       "    <tr>\n",
       "      <th>33</th>\n",
       "      <td>NaN</td>\n",
       "      <td>NaN</td>\n",
       "      <td>NaN</td>\n",
       "      <td>NaN</td>\n",
       "      <td>NaN</td>\n",
       "      <td>NaN</td>\n",
       "      <td>NaN</td>\n",
       "      <td>NaN</td>\n",
       "      <td>NaN</td>\n",
       "      <td>NaN</td>\n",
       "      <td>...</td>\n",
       "      <td>NaN</td>\n",
       "      <td>NaN</td>\n",
       "      <td>NaN</td>\n",
       "      <td>One residential property in Reading, acquired ...</td>\n",
       "      <td>NaN</td>\n",
       "      <td>NaN</td>\n",
       "      <td>NaN</td>\n",
       "      <td>NaN</td>\n",
       "      <td>NaN</td>\n",
       "      <td>Gray, James (North Wiltshire)</td>\n",
       "    </tr>\n",
       "    <tr>\n",
       "      <th>34</th>\n",
       "      <td>NaN</td>\n",
       "      <td>NaN</td>\n",
       "      <td>NaN</td>\n",
       "      <td>NaN</td>\n",
       "      <td>NaN</td>\n",
       "      <td>NaN</td>\n",
       "      <td>NaN</td>\n",
       "      <td>NaN</td>\n",
       "      <td>NaN</td>\n",
       "      <td>NaN</td>\n",
       "      <td>...</td>\n",
       "      <td>NaN</td>\n",
       "      <td>NaN</td>\n",
       "      <td>NaN</td>\n",
       "      <td>I employ my wife, Philippa Gray, as Executive ...</td>\n",
       "      <td>NaN</td>\n",
       "      <td>NaN</td>\n",
       "      <td>NaN</td>\n",
       "      <td>NaN</td>\n",
       "      <td>NaN</td>\n",
       "      <td>Gray, James (North Wiltshire)</td>\n",
       "    </tr>\n",
       "  </tbody>\n",
       "</table>\n",
       "<p>35 rows × 33 columns</p>\n",
       "</div>"
      ],
      "text/plain": [
       "                                                 addr              amounts  \\\n",
       "0                                                 NaN                  NaN   \n",
       "1                                                 NaN                 75.0   \n",
       "2                                                 NaN                 75.0   \n",
       "3                                                 NaN                100.0   \n",
       "4                                                 NaN                 75.0   \n",
       "5                                                 NaN                 75.0   \n",
       "6                                                 NaN                 75.0   \n",
       "7                                                 NaN                  NaN   \n",
       "8                                                 NaN                 50.0   \n",
       "9                                                 NaN                 30.0   \n",
       "10                                                NaN                 20.0   \n",
       "11                                                NaN                 80.0   \n",
       "12                                                NaN                 40.0   \n",
       "13                                                NaN                 80.0   \n",
       "14                                                NaN                 25.0   \n",
       "15                                                NaN                 60.0   \n",
       "16                                                NaN                 60.0   \n",
       "17                                                NaN                  NaN   \n",
       "18                                                NaN                200.0   \n",
       "19                                                NaN                200.0   \n",
       "20                                                NaN                  NaN   \n",
       "21                                                NaN                 50.0   \n",
       "22                                                NaN                 50.0   \n",
       "23                                                NaN                 50.0   \n",
       "24                                                NaN                 75.0   \n",
       "25                                                NaN                 50.0   \n",
       "26                                                NaN                 50.0   \n",
       "27                                                NaN                 50.0   \n",
       "28                                            private               2500.0   \n",
       "29                  House of Commons, London SW1A 0AA  40.0::14.25::425.25   \n",
       "30                      PO Box 1010, Uxbridge UB8 9NT                944.0   \n",
       "31  c/o Rothschild Trust Guernsey Ltd, PO Box 472,...               1500.0   \n",
       "32                                                NaN                  NaN   \n",
       "33                                                NaN                  NaN   \n",
       "34                                                NaN                  NaN   \n",
       "\n",
       "                                           cleanertxt       cn     currencies  \\\n",
       "0                                                 NaN      NaN            NaN   \n",
       "1                                                 NaN      NaN            GBP   \n",
       "2                                                 NaN      NaN            GBP   \n",
       "3                                                 NaN      NaN            GBP   \n",
       "4                                                 NaN      NaN            GBP   \n",
       "5                                                 NaN      NaN            GBP   \n",
       "6                                                 NaN      NaN            GBP   \n",
       "7                                                 NaN      NaN            NaN   \n",
       "8                                                 NaN      NaN            GBP   \n",
       "9                                                 NaN      NaN            GBP   \n",
       "10                                                NaN      NaN            GBP   \n",
       "11                                                NaN      NaN            GBP   \n",
       "12                                                NaN      NaN            GBP   \n",
       "13                                                NaN      NaN            GBP   \n",
       "14                                                NaN      NaN            GBP   \n",
       "15                                                NaN      NaN            GBP   \n",
       "16                                                NaN      NaN            GBP   \n",
       "17                                                NaN      NaN            NaN   \n",
       "18                                                NaN      NaN            GBP   \n",
       "19                                                NaN      NaN            GBP   \n",
       "20                                                NaN      NaN            NaN   \n",
       "21                                                NaN      NaN            GBP   \n",
       "22                                                NaN      NaN            GBP   \n",
       "23                                                NaN      NaN            GBP   \n",
       "24                                                NaN      NaN            GBP   \n",
       "25                                                NaN      NaN            GBP   \n",
       "26                                                NaN      NaN            GBP   \n",
       "27                                                NaN      NaN            GBP   \n",
       "28         £2,500 for local EU Referendum campaigning      NaN            GBP   \n",
       "29  six dinners value £40 each; thirteen breakfast...      NaN  GBP::GBP::GBP   \n",
       "30  12 month season ticket for car parking at Chip...  2572947            GBP   \n",
       "31                                                NaN      NaN            GBP   \n",
       "32                                                NaN      NaN            NaN   \n",
       "33                                                NaN      NaN            NaN   \n",
       "34                                                NaN      NaN            NaN   \n",
       "\n",
       "                                         date  \\\n",
       "0                                         NaN   \n",
       "1                              03 August 2016   \n",
       "2                              03 August 2016   \n",
       "3                              03 August 2016   \n",
       "4                              03 August 2016   \n",
       "5                             31 October 2016   \n",
       "6                            16 December 2016   \n",
       "7                                         NaN   \n",
       "8                            05 December 2016   \n",
       "9                            05 December 2016   \n",
       "10                           05 December 2016   \n",
       "11                           05 December 2016   \n",
       "12                           05 December 2016   \n",
       "13                           05 December 2016   \n",
       "14                           05 December 2016   \n",
       "15                           05 December 2016   \n",
       "16                                        NaN   \n",
       "17                                        NaN   \n",
       "18                             02 August 2016   \n",
       "19                              20 March 2017   \n",
       "20                                        NaN   \n",
       "21                             03 August 2016   \n",
       "22                             03 August 2016   \n",
       "23                             03 August 2016   \n",
       "24                             03 August 2016   \n",
       "25                             03 August 2016   \n",
       "26                             03 August 2016   \n",
       "27                           28 November 2016   \n",
       "28                               21 July 2016   \n",
       "29  24 October 2016; updated 05 December 2016   \n",
       "30                           07 November 2016   \n",
       "31                              20 April 2017   \n",
       "32                                        NaN   \n",
       "33                                        NaN   \n",
       "34                                        NaN   \n",
       "\n",
       "                             dateAccd           dateAccd_f  \\\n",
       "0                                 NaN                  NaT   \n",
       "1                                 NaN                  NaT   \n",
       "2                                 NaN                  NaT   \n",
       "3                                 NaN                  NaT   \n",
       "4                                 NaN                  NaT   \n",
       "5                                 NaN                  NaT   \n",
       "6                                 NaN                  NaT   \n",
       "7                                 NaN                  NaT   \n",
       "8                                 NaN                  NaT   \n",
       "9                                 NaN                  NaT   \n",
       "10                                NaN                  NaT   \n",
       "11                                NaN                  NaT   \n",
       "12                                NaN                  NaT   \n",
       "13                                NaN                  NaT   \n",
       "14                                NaN                  NaT   \n",
       "15                                NaN                  NaT   \n",
       "16                                NaN                  NaT   \n",
       "17                                NaN                  NaT   \n",
       "18                                NaN                  NaT   \n",
       "19                                NaN                  NaT   \n",
       "20                                NaN                  NaT   \n",
       "21                                NaN                  NaT   \n",
       "22                                NaN                  NaT   \n",
       "23                                NaN                  NaT   \n",
       "24                                NaN                  NaT   \n",
       "25                                NaN                  NaT   \n",
       "26                                NaN                  NaT   \n",
       "27                                NaN                  NaT   \n",
       "28                       14 June 2016  2016-06-14 00:00:00   \n",
       "29  1 January 2016 to 2 December 2016                 None   \n",
       "30                    7 November 2016  2016-11-07 00:00:00   \n",
       "31                                NaN                  NaN   \n",
       "32                                NaN                  NaN   \n",
       "33                                NaN                  NaN   \n",
       "34                                NaN                  NaN   \n",
       "\n",
       "                              dateRxd            dateRxd_f  \\\n",
       "0                                 NaN                  NaT   \n",
       "1                                 NaN                  NaT   \n",
       "2                                 NaN                  NaT   \n",
       "3                                 NaN                  NaT   \n",
       "4                                 NaN                  NaT   \n",
       "5                                 NaN                  NaT   \n",
       "6                                 NaN                  NaT   \n",
       "7                                 NaN                  NaT   \n",
       "8                                 NaN                  NaT   \n",
       "9                                 NaN                  NaT   \n",
       "10                                NaN                  NaT   \n",
       "11                                NaN                  NaT   \n",
       "12                                NaN                  NaT   \n",
       "13                                NaN                  NaT   \n",
       "14                                NaN                  NaT   \n",
       "15                                NaN                  NaT   \n",
       "16                                NaN                  NaT   \n",
       "17                                NaN                  NaT   \n",
       "18                                NaN                  NaT   \n",
       "19                                NaN                  NaT   \n",
       "20                                NaN                  NaT   \n",
       "21                                NaN                  NaT   \n",
       "22                                NaN                  NaT   \n",
       "23                                NaN                  NaT   \n",
       "24                                NaN                  NaT   \n",
       "25                                NaN                  NaT   \n",
       "26                                NaN                  NaT   \n",
       "27                                NaN                  NaT   \n",
       "28                       14 June 2016  2016-06-14 00:00:00   \n",
       "29  1 January 2016 to 2 December 2016                 None   \n",
       "30                    7 November 2016  2016-11-07 00:00:00   \n",
       "31                                NaN                  NaN   \n",
       "32                                NaN                  NaN   \n",
       "33                                NaN                  NaN   \n",
       "34                                NaN                  NaN   \n",
       "\n",
       "                ...                status2 sumamountsGBP sumlessmaxGBP  \\\n",
       "0               ...                    NaN           NaN           NaN   \n",
       "1               ...                    NaN          75.0          0.00   \n",
       "2               ...                    NaN          75.0          0.00   \n",
       "3               ...                    NaN         100.0          0.00   \n",
       "4               ...                    NaN          75.0          0.00   \n",
       "5               ...                    NaN          75.0          0.00   \n",
       "6               ...                    NaN          75.0          0.00   \n",
       "7               ...                    NaN           NaN           NaN   \n",
       "8               ...                    NaN          50.0          0.00   \n",
       "9               ...                    NaN          30.0          0.00   \n",
       "10              ...                    NaN          20.0          0.00   \n",
       "11              ...                    NaN          80.0          0.00   \n",
       "12              ...                    NaN          40.0          0.00   \n",
       "13              ...                    NaN          80.0          0.00   \n",
       "14              ...                    NaN          25.0          0.00   \n",
       "15              ...                    NaN          60.0          0.00   \n",
       "16              ...                    NaN          60.0          0.00   \n",
       "17              ...                    NaN           NaN           NaN   \n",
       "18              ...                    NaN         200.0          0.00   \n",
       "19              ...                    NaN         200.0          0.00   \n",
       "20              ...                    NaN           NaN           NaN   \n",
       "21              ...                    NaN          50.0          0.00   \n",
       "22              ...                    NaN          50.0          0.00   \n",
       "23              ...                    NaN          50.0          0.00   \n",
       "24              ...                    NaN          75.0          0.00   \n",
       "25              ...                    NaN          50.0          0.00   \n",
       "26              ...                    NaN          50.0          0.00   \n",
       "27              ...                    NaN          50.0          0.00   \n",
       "28              ...                    NaN        2500.0          0.00   \n",
       "29              ...                    NaN         479.5         54.25   \n",
       "30              ...                company         944.0          0.00   \n",
       "31              ...                    NaN        1500.0          0.00   \n",
       "32              ...                    NaN           NaN           NaN   \n",
       "33              ...                    NaN           NaN           NaN   \n",
       "34              ...                    NaN           NaN           NaN   \n",
       "\n",
       "                                                  txt  \\\n",
       "0   Payments from ComRes, 4 Millbank, London SW1P ...   \n",
       "1                                                 NaN   \n",
       "2                                                 NaN   \n",
       "3                                                 NaN   \n",
       "4                                                 NaN   \n",
       "5                                                 NaN   \n",
       "6                                                 NaN   \n",
       "7   Payments from YouGov, 50 Featherstone St, Lond...   \n",
       "8                                                 NaN   \n",
       "9                                                 NaN   \n",
       "10                                                NaN   \n",
       "11                                                NaN   \n",
       "12                                                NaN   \n",
       "13                                                NaN   \n",
       "14                                                NaN   \n",
       "15                                                NaN   \n",
       "16  16 December 2016, £60 for taking part in an on...   \n",
       "17  Payments from Ipsos MORI, 79-81 Borough Road, ...   \n",
       "18                                                NaN   \n",
       "19                                                NaN   \n",
       "20  Payments from Populus, 10 Northburgh Street, L...   \n",
       "21                                                NaN   \n",
       "22                                                NaN   \n",
       "23                                                NaN   \n",
       "24                                                NaN   \n",
       "25                                                NaN   \n",
       "26                                                NaN   \n",
       "27                                                NaN   \n",
       "28  £2,500 for local EU Referendum campaigning\\nDa...   \n",
       "29  six dinners value £40 each; thirteen breakfast...   \n",
       "30  12 month season ticket for car parking at Chip...   \n",
       "31                                                NaN   \n",
       "32  Two residential properties in Wiltshire, acqui...   \n",
       "33  One residential property in Reading, acquired ...   \n",
       "34  I employ my wife, Philippa Gray, as Executive ...   \n",
       "\n",
       "                                                 txt2    visitDest  \\\n",
       "0                                                 NaN          NaN   \n",
       "1    £75 for participating in Parliamentary Panel ...          NaN   \n",
       "2    £75 for participating in Parliamentary Panel ...          NaN   \n",
       "3    £100 for participating in Parliamentary Panel...          NaN   \n",
       "4    £75 for participating in Parliamentary Panel ...          NaN   \n",
       "5    £75 for participating in Parliamentary Panel ...          NaN   \n",
       "6    payment of £75 for taking part in an online s...          NaN   \n",
       "7                                                 NaN          NaN   \n",
       "8          £50 for participating in an online survey.          NaN   \n",
       "9          £30 for participating in an online survey.          NaN   \n",
       "10         £20 for participating in an online survey.          NaN   \n",
       "11         £80 for participating in an online survey.          NaN   \n",
       "12         £40 for participating in an online survey.          NaN   \n",
       "13         £80 for participating in an online survey.          NaN   \n",
       "14         £25 for participating in an online survey.          NaN   \n",
       "15         £60 for participating in an online survey.          NaN   \n",
       "16                                                NaN          NaN   \n",
       "17                                                NaN          NaN   \n",
       "18   payment of £200 for participating in Ipsos MO...          NaN   \n",
       "19   payment of £200 for participating in Ipsos MO...          NaN   \n",
       "20                                                NaN          NaN   \n",
       "21       £50 for participating in a research project.          NaN   \n",
       "22       £50 for participating in a research project.          NaN   \n",
       "23       £50 for participating in a research project.          NaN   \n",
       "24       £75 for participating in a research project.          NaN   \n",
       "25       £50 for participating in a research project.          NaN   \n",
       "26       £50 for participating in a research project.          NaN   \n",
       "27   payment of £50 for participating in a researc...          NaN   \n",
       "28                                                NaN          NaN   \n",
       "29                                                NaN          NaN   \n",
       "30                                                NaN          NaN   \n",
       "31                                                NaN  Arkhangelsk   \n",
       "32                                                NaN          NaN   \n",
       "33                                                NaN          NaN   \n",
       "34                                                NaN          NaN   \n",
       "\n",
       "            visitdates                                      visitestimate  \\\n",
       "0                  NaN                                                NaN   \n",
       "1                  NaN                                                NaN   \n",
       "2                  NaN                                                NaN   \n",
       "3                  NaN                                                NaN   \n",
       "4                  NaN                                                NaN   \n",
       "5                  NaN                                                NaN   \n",
       "6                  NaN                                                NaN   \n",
       "7                  NaN                                                NaN   \n",
       "8                  NaN                                                NaN   \n",
       "9                  NaN                                                NaN   \n",
       "10                 NaN                                                NaN   \n",
       "11                 NaN                                                NaN   \n",
       "12                 NaN                                                NaN   \n",
       "13                 NaN                                                NaN   \n",
       "14                 NaN                                                NaN   \n",
       "15                 NaN                                                NaN   \n",
       "16                 NaN                                                NaN   \n",
       "17                 NaN                                                NaN   \n",
       "18                 NaN                                                NaN   \n",
       "19                 NaN                                                NaN   \n",
       "20                 NaN                                                NaN   \n",
       "21                 NaN                                                NaN   \n",
       "22                 NaN                                                NaN   \n",
       "23                 NaN                                                NaN   \n",
       "24                 NaN                                                NaN   \n",
       "25                 NaN                                                NaN   \n",
       "26                 NaN                                                NaN   \n",
       "27                 NaN                                                NaN   \n",
       "28                 NaN                                                NaN   \n",
       "29                 NaN                                                NaN   \n",
       "30                 NaN                                                NaN   \n",
       "31  28 – 31 March 2017  transport, accommodation, food and drink at an...   \n",
       "32                 NaN                                                NaN   \n",
       "33                 NaN                                                NaN   \n",
       "34                 NaN                                                NaN   \n",
       "\n",
       "                                         visitpurpose  \\\n",
       "0                                                 NaN   \n",
       "1                                                 NaN   \n",
       "2                                                 NaN   \n",
       "3                                                 NaN   \n",
       "4                                                 NaN   \n",
       "5                                                 NaN   \n",
       "6                                                 NaN   \n",
       "7                                                 NaN   \n",
       "8                                                 NaN   \n",
       "9                                                 NaN   \n",
       "10                                                NaN   \n",
       "11                                                NaN   \n",
       "12                                                NaN   \n",
       "13                                                NaN   \n",
       "14                                                NaN   \n",
       "15                                                NaN   \n",
       "16                                                NaN   \n",
       "17                                                NaN   \n",
       "18                                                NaN   \n",
       "19                                                NaN   \n",
       "20                                                NaN   \n",
       "21                                                NaN   \n",
       "22                                                NaN   \n",
       "23                                                NaN   \n",
       "24                                                NaN   \n",
       "25                                                NaN   \n",
       "26                                                NaN   \n",
       "27                                                NaN   \n",
       "28                                                NaN   \n",
       "29                                                NaN   \n",
       "30                                                NaN   \n",
       "31  To attend the ‘Arctic: Territory of Dialogue’ ...   \n",
       "32                                                NaN   \n",
       "33                                                NaN   \n",
       "34                                                NaN   \n",
       "\n",
       "                           mpname  \n",
       "0   Gray, James (North Wiltshire)  \n",
       "1   Gray, James (North Wiltshire)  \n",
       "2   Gray, James (North Wiltshire)  \n",
       "3   Gray, James (North Wiltshire)  \n",
       "4   Gray, James (North Wiltshire)  \n",
       "5   Gray, James (North Wiltshire)  \n",
       "6   Gray, James (North Wiltshire)  \n",
       "7   Gray, James (North Wiltshire)  \n",
       "8   Gray, James (North Wiltshire)  \n",
       "9   Gray, James (North Wiltshire)  \n",
       "10  Gray, James (North Wiltshire)  \n",
       "11  Gray, James (North Wiltshire)  \n",
       "12  Gray, James (North Wiltshire)  \n",
       "13  Gray, James (North Wiltshire)  \n",
       "14  Gray, James (North Wiltshire)  \n",
       "15  Gray, James (North Wiltshire)  \n",
       "16  Gray, James (North Wiltshire)  \n",
       "17  Gray, James (North Wiltshire)  \n",
       "18  Gray, James (North Wiltshire)  \n",
       "19  Gray, James (North Wiltshire)  \n",
       "20  Gray, James (North Wiltshire)  \n",
       "21  Gray, James (North Wiltshire)  \n",
       "22  Gray, James (North Wiltshire)  \n",
       "23  Gray, James (North Wiltshire)  \n",
       "24  Gray, James (North Wiltshire)  \n",
       "25  Gray, James (North Wiltshire)  \n",
       "26  Gray, James (North Wiltshire)  \n",
       "27  Gray, James (North Wiltshire)  \n",
       "28  Gray, James (North Wiltshire)  \n",
       "29  Gray, James (North Wiltshire)  \n",
       "30  Gray, James (North Wiltshire)  \n",
       "31  Gray, James (North Wiltshire)  \n",
       "32  Gray, James (North Wiltshire)  \n",
       "33  Gray, James (North Wiltshire)  \n",
       "34  Gray, James (North Wiltshire)  \n",
       "\n",
       "[35 rows x 33 columns]"
      ]
     },
     "execution_count": 139,
     "metadata": {},
     "output_type": "execute_result"
    }
   ],
   "source": [
    "scrapeData(ptags2)"
   ]
  },
  {
   "cell_type": "markdown",
   "metadata": {},
   "source": [
    "In this case, we see how we can use the table as a whole to extract more information, as for example in the case of the employmnet details that were extracted as a nested list. "
   ]
  },
  {
   "cell_type": "code",
   "execution_count": 140,
   "metadata": {
    "scrolled": false
   },
   "outputs": [
    {
     "data": {
      "text/html": [
       "<div>\n",
       "<style scoped>\n",
       "    .dataframe tbody tr th:only-of-type {\n",
       "        vertical-align: middle;\n",
       "    }\n",
       "\n",
       "    .dataframe tbody tr th {\n",
       "        vertical-align: top;\n",
       "    }\n",
       "\n",
       "    .dataframe thead th {\n",
       "        text-align: right;\n",
       "    }\n",
       "</style>\n",
       "<table border=\"1\" class=\"dataframe\">\n",
       "  <thead>\n",
       "    <tr style=\"text-align: right;\">\n",
       "      <th></th>\n",
       "      <th>txt4</th>\n",
       "      <th>txt2</th>\n",
       "      <th>txt</th>\n",
       "      <th>empaddr</th>\n",
       "      <th>empfromsub</th>\n",
       "    </tr>\n",
       "  </thead>\n",
       "  <tbody>\n",
       "    <tr>\n",
       "      <th>0</th>\n",
       "      <td>Payments from ComRes, 4 Millbank, London SW1P ...</td>\n",
       "      <td>NaN</td>\n",
       "      <td>Payments from ComRes, 4 Millbank, London SW1P ...</td>\n",
       "      <td>4 Millbank, London SW1P 3JA:</td>\n",
       "      <td>ComRes</td>\n",
       "    </tr>\n",
       "    <tr>\n",
       "      <th>1</th>\n",
       "      <td>Payments from ComRes, 4 Millbank, London SW1P ...</td>\n",
       "      <td>£75 for participating in Parliamentary Panel ...</td>\n",
       "      <td>NaN</td>\n",
       "      <td>4 Millbank, London SW1P 3JA:</td>\n",
       "      <td>ComRes</td>\n",
       "    </tr>\n",
       "    <tr>\n",
       "      <th>2</th>\n",
       "      <td>Payments from ComRes, 4 Millbank, London SW1P ...</td>\n",
       "      <td>£75 for participating in Parliamentary Panel ...</td>\n",
       "      <td>NaN</td>\n",
       "      <td>4 Millbank, London SW1P 3JA:</td>\n",
       "      <td>ComRes</td>\n",
       "    </tr>\n",
       "    <tr>\n",
       "      <th>3</th>\n",
       "      <td>Payments from ComRes, 4 Millbank, London SW1P ...</td>\n",
       "      <td>£100 for participating in Parliamentary Panel...</td>\n",
       "      <td>NaN</td>\n",
       "      <td>4 Millbank, London SW1P 3JA:</td>\n",
       "      <td>ComRes</td>\n",
       "    </tr>\n",
       "    <tr>\n",
       "      <th>4</th>\n",
       "      <td>Payments from ComRes, 4 Millbank, London SW1P ...</td>\n",
       "      <td>£75 for participating in Parliamentary Panel ...</td>\n",
       "      <td>NaN</td>\n",
       "      <td>4 Millbank, London SW1P 3JA:</td>\n",
       "      <td>ComRes</td>\n",
       "    </tr>\n",
       "  </tbody>\n",
       "</table>\n",
       "</div>"
      ],
      "text/plain": [
       "                                                txt4  \\\n",
       "0  Payments from ComRes, 4 Millbank, London SW1P ...   \n",
       "1  Payments from ComRes, 4 Millbank, London SW1P ...   \n",
       "2  Payments from ComRes, 4 Millbank, London SW1P ...   \n",
       "3  Payments from ComRes, 4 Millbank, London SW1P ...   \n",
       "4  Payments from ComRes, 4 Millbank, London SW1P ...   \n",
       "\n",
       "                                                txt2  \\\n",
       "0                                                NaN   \n",
       "1   £75 for participating in Parliamentary Panel ...   \n",
       "2   £75 for participating in Parliamentary Panel ...   \n",
       "3   £100 for participating in Parliamentary Panel...   \n",
       "4   £75 for participating in Parliamentary Panel ...   \n",
       "\n",
       "                                                 txt  \\\n",
       "0  Payments from ComRes, 4 Millbank, London SW1P ...   \n",
       "1                                                NaN   \n",
       "2                                                NaN   \n",
       "3                                                NaN   \n",
       "4                                                NaN   \n",
       "\n",
       "                        empaddr empfromsub  \n",
       "0  4 Millbank, London SW1P 3JA:     ComRes  \n",
       "1  4 Millbank, London SW1P 3JA:     ComRes  \n",
       "2  4 Millbank, London SW1P 3JA:     ComRes  \n",
       "3  4 Millbank, London SW1P 3JA:     ComRes  \n",
       "4  4 Millbank, London SW1P 3JA:     ComRes  "
      ]
     },
     "execution_count": 140,
     "metadata": {},
     "output_type": "execute_result"
    }
   ],
   "source": [
    "# It might be tidier to run this on the dataframe as we build it up\n",
    "#That is, as soon as we have processed the employment section, section 1.\n",
    "\n",
    "def scrapeData2(ptags, omitFirstRow=True):\n",
    "    df = scrapeData(ptags, omitFirstRow)\n",
    "    \n",
    "    #Postprocessor - add in the payment info\n",
    "    if not df.empty and 'txt' in df.columns:\n",
    "        df['txt4'] = df['txt']\n",
    "        #Fill down\n",
    "        df['txt4'] = df.loc[df['section'].str.startswith('1.')]['txt4'].fillna(method='ffill')\n",
    "        tmp= df['txt4'].apply(getemppaymentsubdetails).apply(pd.Series)\n",
    "        #This is getting Frankeseteinian now.... :-(\n",
    "        if 'empfromsub' in df:\n",
    "            tmp['empfromsubfilldown'] = tmp['empfromsub'].fillna(method='ffill')\n",
    "        #The parsing can be a bit flaky so we need to trap in cases where we don't extract anything\n",
    "        if not tmp.empty:\n",
    "            df = df.join(tmp)\n",
    "    \n",
    "    return df\n",
    "\n",
    "scrapeData2(ptags2)[['txt4', 'txt2', 'txt','empaddr','empfromsub']].head()"
   ]
  },
  {
   "cell_type": "markdown",
   "metadata": {},
   "source": [
    "## Further Work on the Single Page Scrape\n",
    "\n",
    "\n",
    "As we scrape more pages, we may be able to identify more common structures in different sections of the register and construct additional structured parsers for them.\n",
    "\n",
    "It would probably have made sense to have looked at the regulations before building the scraper to see if they describe required fields: [House of Commons Guide to the Rules relating to the Conduct of Members](https://publications.parliament.uk/pa/cm201516/cmcode/1076/107601.htm). An FOI request about structured items might also be useful?"
   ]
  },
  {
   "cell_type": "markdown",
   "metadata": {},
   "source": [
    "## Doing a Big Scrape\n",
    "\n",
    "Now let's move on to stage 2 - getting a list of URLs for all the MPs so we can do a scrape of the whole register.\n",
    "\n",
    "We can find the list of links to individual MPs on a register page such as [https://publications.parliament.uk/pa/cm/cmregmem/170502/contents.htm](https://publications.parliament.uk/pa/cm/cmregmem/170502/contents.htm).\n",
    "\n",
    "Inspecting the page using developer tools again suggests that the `mainTextBlock` is a good place to start. However, there is also a parse function that lets us just grab all the links on the page: `r.html.absolute_links`.\n",
    "\n",
    "The URLs to the corresponding member pages have a similar path, such as:\n",
    "\n",
    "```\n",
    "Full register URL: https://publications.parliament.uk/pa/cm/cmregmem/170502/contents.htm \n",
    "MP register URL: https://publications.parliament.uk/pa/cm/cmregmem/170502/dugher_michael.htm\n",
    "```\n",
    "\n",
    "This means that we can filter all the links on the page to just the ones that start with path to that register."
   ]
  },
  {
   "cell_type": "code",
   "execution_count": 152,
   "metadata": {},
   "outputs": [],
   "source": [
    "registerListurl = 'https://publications.parliament.uk/pa/cm/cmregmem/170502/contents.htm'\n",
    "registerListurl = 'https://publications.parliament.uk/pa/cm/cmregmem/180305/contents.htm'"
   ]
  },
  {
   "cell_type": "code",
   "execution_count": 153,
   "metadata": {},
   "outputs": [
    {
     "data": {
      "text/plain": [
       "'https://publications.parliament.uk/pa/cm/cmregmem/170502'"
      ]
     },
     "execution_count": 153,
     "metadata": {},
     "output_type": "execute_result"
    }
   ],
   "source": [
    "registerPath = '/'.join(registerListurl.split('/')[:-1])\n",
    "registerPath"
   ]
  },
  {
   "cell_type": "code",
   "execution_count": 155,
   "metadata": {},
   "outputs": [
    {
     "data": {
      "text/plain": [
       "['https://publications.parliament.uk/pa/cm/cmregmem/170502/johnson_joseph.htm',\n",
       " 'https://publications.parliament.uk/pa/cm/cmregmem/170502/ryan_joan.htm',\n",
       " 'https://publications.parliament.uk/pa/cm/cmregmem/170502/mahmood_khalid.htm']"
      ]
     },
     "execution_count": 155,
     "metadata": {},
     "output_type": "execute_result"
    }
   ],
   "source": [
    "r3 = session.get(registerListurl)\n",
    "links = r3.html.absolute_links\n",
    "\n",
    "\n",
    "mplinks = [link for link in links if link.startswith(registerPath)]\n",
    "mplinks[:3]"
   ]
  },
  {
   "cell_type": "markdown",
   "metadata": {},
   "source": [
    "Now we can use this set of links to scrape the whole register. We do this by concatenating sepatrate dataframes scraped for each member, from their page, into a single dataframe.\n",
    "\n",
    "In case the big scrape throws up errors in the single page scraper, we can cache (that is, keep hold of a local copy of) the individual pages so that we don't have to keep hitting the Parliament website. It's also generally consider good practice to put in a small delay betweem page requests. Making this delay random means that the servere we are hitting is perhaps less likely to detect we're scraping it."
   ]
  },
  {
   "cell_type": "markdown",
   "metadata": {},
   "source": [
    "#### Cacheing Page Requests\n",
    "\n",
    "We can use the [`requests-cache`](https://requests-cache.readthedocs.io/en/latest/user_guide.html#usage) package to cache page loads for a specified time, either in memory, or persistently to a sqlite database."
   ]
  },
  {
   "cell_type": "code",
   "execution_count": 144,
   "metadata": {},
   "outputs": [],
   "source": [
    "#!~/anaconda3/bin/pip install requests-cache\n",
    "import requests_cache\n",
    "requests_cache.install_cache()"
   ]
  },
  {
   "cell_type": "markdown",
   "metadata": {},
   "source": [
    "The `time` library lets us introduce a delay, in seconds. The `random` library can generate this time for us. "
   ]
  },
  {
   "cell_type": "code",
   "execution_count": 145,
   "metadata": {},
   "outputs": [
    {
     "name": "stdout",
     "output_type": "stream",
     "text": [
      "Wait for 4.129116003492804s...\n",
      "...done\n"
     ]
    }
   ],
   "source": [
    "import random\n",
    "import time\n",
    "\n",
    "delay = random.uniform(4.1,4.5)\n",
    "\n",
    "print('Wait for {}s...'.format(delay))\n",
    "time.sleep(delay) \n",
    "print('...done')"
   ]
  },
  {
   "cell_type": "markdown",
   "metadata": {},
   "source": [
    "### Doing the Scrape\n",
    "\n",
    "Okay - let's go for it..."
   ]
  },
  {
   "cell_type": "code",
   "execution_count": 156,
   "metadata": {},
   "outputs": [],
   "source": [
    "df_full = pd.DataFrame()\n",
    "\n",
    "for mpurl in mplinks:\n",
    "    rr = session.get(mpurl)\n",
    "    mptags = rr.html.find('#mainTextBlock > p')\n",
    "    #print(mpurl)\n",
    "    df_mp = scrapeData2(mptags)\n",
    "    df_full = pd.concat([df_full,df_mp])\n",
    "    \n",
    "    #Be nice - although there should be no need to do this if the cache is working, after first run?\n",
    "    #time.sleep(random.uniform(0.1,0.5))"
   ]
  },
  {
   "cell_type": "markdown",
   "metadata": {},
   "source": [
    "## Save the Data to a Persistent SQLIte3 Database\n",
    "\n",
    "We can now save the data to a persistent sqlite database."
   ]
  },
  {
   "cell_type": "code",
   "execution_count": 1,
   "metadata": {},
   "outputs": [],
   "source": [
    "dbname = 'mpregister.sqlite'\n",
    "dbname = 'mpregisterLatest.sqlite'"
   ]
  },
  {
   "cell_type": "code",
   "execution_count": 158,
   "metadata": {},
   "outputs": [],
   "source": [
    "!rm {dbname}"
   ]
  },
  {
   "cell_type": "code",
   "execution_count": 2,
   "metadata": {},
   "outputs": [],
   "source": [
    "import sqlite3\n",
    "from pandas.io import sql\n",
    "\n",
    "# Create a connection to the database\n",
    "conn = sqlite3.connect(dbname)"
   ]
  },
  {
   "cell_type": "code",
   "execution_count": 160,
   "metadata": {},
   "outputs": [],
   "source": [
    "#Save the df to the database\n",
    "\n",
    "#To do this, we need to set date types to a standard text format\n",
    "tablename = 'mpregfinint'\n",
    "\n",
    "for c in df_full.columns:\n",
    "    if c.endswith('_f'): df_full[c] = df_full[c].dt.strftime('%Y-%m-%d')\n",
    "\n",
    "df_full.to_sql(tablename, conn, index = False, if_exists='replace')"
   ]
  },
  {
   "cell_type": "markdown",
   "metadata": {},
   "source": [
    "## Query the database\n",
    "\n"
   ]
  },
  {
   "cell_type": "code",
   "execution_count": null,
   "metadata": {},
   "outputs": [],
   "source": [
    "dbname = 'mpregister.sqlite'\n",
    "dbname = 'mpregisterLatest.sqlite'"
   ]
  },
  {
   "cell_type": "code",
   "execution_count": 5,
   "metadata": {},
   "outputs": [],
   "source": [
    "import sqlite3\n",
    "from pandas import read_sql_query\n",
    "\n",
    "# Create a connection to the database\n",
    "conn = sqlite3.connect(dbname)"
   ]
  },
  {
   "cell_type": "code",
   "execution_count": 132,
   "metadata": {},
   "outputs": [
    {
     "data": {
      "text/html": [
       "<div>\n",
       "<style scoped>\n",
       "    .dataframe tbody tr th:only-of-type {\n",
       "        vertical-align: middle;\n",
       "    }\n",
       "\n",
       "    .dataframe tbody tr th {\n",
       "        vertical-align: top;\n",
       "    }\n",
       "\n",
       "    .dataframe thead th {\n",
       "        text-align: right;\n",
       "    }\n",
       "</style>\n",
       "<table border=\"1\" class=\"dataframe\">\n",
       "  <thead>\n",
       "    <tr style=\"text-align: right;\">\n",
       "      <th></th>\n",
       "      <th>name</th>\n",
       "    </tr>\n",
       "  </thead>\n",
       "  <tbody>\n",
       "    <tr>\n",
       "      <th>0</th>\n",
       "      <td>mpregfinint</td>\n",
       "    </tr>\n",
       "  </tbody>\n",
       "</table>\n",
       "</div>"
      ],
      "text/plain": [
       "          name\n",
       "0  mpregfinint"
      ]
     },
     "execution_count": 132,
     "metadata": {},
     "output_type": "execute_result"
    }
   ],
   "source": [
    "pd.read_sql_query(\"SELECT name FROM sqlite_master WHERE type='table';\", conn)"
   ]
  },
  {
   "cell_type": "code",
   "execution_count": 6,
   "metadata": {},
   "outputs": [
    {
     "data": {
      "text/html": [
       "<div>\n",
       "<style scoped>\n",
       "    .dataframe tbody tr th:only-of-type {\n",
       "        vertical-align: middle;\n",
       "    }\n",
       "\n",
       "    .dataframe tbody tr th {\n",
       "        vertical-align: top;\n",
       "    }\n",
       "\n",
       "    .dataframe thead th {\n",
       "        text-align: right;\n",
       "    }\n",
       "</style>\n",
       "<table border=\"1\" class=\"dataframe\">\n",
       "  <thead>\n",
       "    <tr style=\"text-align: right;\">\n",
       "      <th></th>\n",
       "      <th>COUNT(*)</th>\n",
       "    </tr>\n",
       "  </thead>\n",
       "  <tbody>\n",
       "    <tr>\n",
       "      <th>0</th>\n",
       "      <td>4795</td>\n",
       "    </tr>\n",
       "  </tbody>\n",
       "</table>\n",
       "</div>"
      ],
      "text/plain": [
       "   COUNT(*)\n",
       "0      4795"
      ]
     },
     "execution_count": 6,
     "metadata": {},
     "output_type": "execute_result"
    }
   ],
   "source": [
    "read_sql_query('SELECT COUNT(*) FROM mpregfinint',conn)"
   ]
  },
  {
   "cell_type": "code",
   "execution_count": 7,
   "metadata": {},
   "outputs": [
    {
     "data": {
      "text/html": [
       "<div>\n",
       "<style scoped>\n",
       "    .dataframe tbody tr th:only-of-type {\n",
       "        vertical-align: middle;\n",
       "    }\n",
       "\n",
       "    .dataframe tbody tr th {\n",
       "        vertical-align: top;\n",
       "    }\n",
       "\n",
       "    .dataframe thead th {\n",
       "        text-align: right;\n",
       "    }\n",
       "</style>\n",
       "<table border=\"1\" class=\"dataframe\">\n",
       "  <thead>\n",
       "    <tr style=\"text-align: right;\">\n",
       "      <th></th>\n",
       "      <th>addr</th>\n",
       "      <th>amounts</th>\n",
       "      <th>cleanertxt</th>\n",
       "      <th>cn</th>\n",
       "      <th>currencies</th>\n",
       "      <th>date</th>\n",
       "      <th>dateAccd</th>\n",
       "      <th>dateAccd_f</th>\n",
       "      <th>dateRxd</th>\n",
       "      <th>dateRxd_f</th>\n",
       "      <th>...</th>\n",
       "      <th>status2</th>\n",
       "      <th>sumamountsGBP</th>\n",
       "      <th>sumlessmaxGBP</th>\n",
       "      <th>txt</th>\n",
       "      <th>txt2</th>\n",
       "      <th>txt4</th>\n",
       "      <th>visitDest</th>\n",
       "      <th>visitdates</th>\n",
       "      <th>visitestimate</th>\n",
       "      <th>visitpurpose</th>\n",
       "    </tr>\n",
       "  </thead>\n",
       "  <tbody>\n",
       "    <tr>\n",
       "      <th>0</th>\n",
       "      <td>465c Caledonian Road, London N7 9GX</td>\n",
       "      <td>3000.0</td>\n",
       "      <td>£3,000</td>\n",
       "      <td>None</td>\n",
       "      <td>GBP</td>\n",
       "      <td>16 June 2017</td>\n",
       "      <td>24 April 2017</td>\n",
       "      <td>2017-04-24</td>\n",
       "      <td>24 April 2017</td>\n",
       "      <td>2017-04-24</td>\n",
       "      <td>...</td>\n",
       "      <td>None</td>\n",
       "      <td>3000.0</td>\n",
       "      <td>0.0</td>\n",
       "      <td>£3,000\\nDate received: 24 April 2017\\nDate acc...</td>\n",
       "      <td>None</td>\n",
       "      <td>None</td>\n",
       "      <td>None</td>\n",
       "      <td>None</td>\n",
       "      <td>None</td>\n",
       "      <td>None</td>\n",
       "    </tr>\n",
       "    <tr>\n",
       "      <th>1</th>\n",
       "      <td>23 Kingsway, London WC2B 6UJ</td>\n",
       "      <td>5000.0</td>\n",
       "      <td>£5,000</td>\n",
       "      <td>05635995</td>\n",
       "      <td>GBP</td>\n",
       "      <td>16 June 2017</td>\n",
       "      <td>28 April 2017</td>\n",
       "      <td>2017-04-28</td>\n",
       "      <td>28 April 2017</td>\n",
       "      <td>2017-04-28</td>\n",
       "      <td>...</td>\n",
       "      <td>company</td>\n",
       "      <td>5000.0</td>\n",
       "      <td>0.0</td>\n",
       "      <td>£5,000\\nDate received: 28 April 2017\\nDate acc...</td>\n",
       "      <td>None</td>\n",
       "      <td>None</td>\n",
       "      <td>None</td>\n",
       "      <td>None</td>\n",
       "      <td>None</td>\n",
       "      <td>None</td>\n",
       "    </tr>\n",
       "    <tr>\n",
       "      <th>2</th>\n",
       "      <td>33 Great Peter Street, London SW1P 2DB</td>\n",
       "      <td>2000.0</td>\n",
       "      <td>£2,000</td>\n",
       "      <td>10285790</td>\n",
       "      <td>GBP</td>\n",
       "      <td>16 June 2017</td>\n",
       "      <td>4 May 2017</td>\n",
       "      <td>2017-05-04</td>\n",
       "      <td>4 May 2017</td>\n",
       "      <td>2017-05-04</td>\n",
       "      <td>...</td>\n",
       "      <td>company</td>\n",
       "      <td>2000.0</td>\n",
       "      <td>0.0</td>\n",
       "      <td>£2,000\\nDate received: 4 May 2017\\nDate accept...</td>\n",
       "      <td>None</td>\n",
       "      <td>None</td>\n",
       "      <td>None</td>\n",
       "      <td>None</td>\n",
       "      <td>None</td>\n",
       "      <td>None</td>\n",
       "    </tr>\n",
       "  </tbody>\n",
       "</table>\n",
       "<p>3 rows × 37 columns</p>\n",
       "</div>"
      ],
      "text/plain": [
       "                                     addr amounts cleanertxt        cn  \\\n",
       "0     465c Caledonian Road, London N7 9GX  3000.0     £3,000      None   \n",
       "1            23 Kingsway, London WC2B 6UJ  5000.0     £5,000  05635995   \n",
       "2  33 Great Peter Street, London SW1P 2DB  2000.0     £2,000  10285790   \n",
       "\n",
       "  currencies          date       dateAccd  dateAccd_f        dateRxd  \\\n",
       "0        GBP  16 June 2017  24 April 2017  2017-04-24  24 April 2017   \n",
       "1        GBP  16 June 2017  28 April 2017  2017-04-28  28 April 2017   \n",
       "2        GBP  16 June 2017     4 May 2017  2017-05-04     4 May 2017   \n",
       "\n",
       "    dateRxd_f      ...       status2 sumamountsGBP sumlessmaxGBP  \\\n",
       "0  2017-04-24      ...          None        3000.0           0.0   \n",
       "1  2017-04-28      ...       company        5000.0           0.0   \n",
       "2  2017-05-04      ...       company        2000.0           0.0   \n",
       "\n",
       "                                                 txt  txt2  txt4 visitDest  \\\n",
       "0  £3,000\\nDate received: 24 April 2017\\nDate acc...  None  None      None   \n",
       "1  £5,000\\nDate received: 28 April 2017\\nDate acc...  None  None      None   \n",
       "2  £2,000\\nDate received: 4 May 2017\\nDate accept...  None  None      None   \n",
       "\n",
       "  visitdates visitestimate  visitpurpose  \n",
       "0       None          None          None  \n",
       "1       None          None          None  \n",
       "2       None          None          None  \n",
       "\n",
       "[3 rows x 37 columns]"
      ]
     },
     "execution_count": 7,
     "metadata": {},
     "output_type": "execute_result"
    }
   ],
   "source": [
    "q='''\n",
    "SELECT *FROM mpregfinint WHERE mpname LIKE '%Kinnock%' LIMIT 3\n",
    "'''\n",
    "\n",
    "read_sql_query(q,conn)"
   ]
  },
  {
   "cell_type": "code",
   "execution_count": 8,
   "metadata": {},
   "outputs": [
    {
     "data": {
      "text/html": [
       "<div>\n",
       "<style scoped>\n",
       "    .dataframe tbody tr th:only-of-type {\n",
       "        vertical-align: middle;\n",
       "    }\n",
       "\n",
       "    .dataframe tbody tr th {\n",
       "        vertical-align: top;\n",
       "    }\n",
       "\n",
       "    .dataframe thead th {\n",
       "        text-align: right;\n",
       "    }\n",
       "</style>\n",
       "<table border=\"1\" class=\"dataframe\">\n",
       "  <thead>\n",
       "    <tr style=\"text-align: right;\">\n",
       "      <th></th>\n",
       "      <th>cn</th>\n",
       "      <th>COUNT(*)</th>\n",
       "    </tr>\n",
       "  </thead>\n",
       "  <tbody>\n",
       "    <tr>\n",
       "      <th>0</th>\n",
       "      <td>10285790</td>\n",
       "      <td>23</td>\n",
       "    </tr>\n",
       "    <tr>\n",
       "      <th>1</th>\n",
       "      <td>05635995</td>\n",
       "      <td>19</td>\n",
       "    </tr>\n",
       "    <tr>\n",
       "      <th>2</th>\n",
       "      <td>00561597</td>\n",
       "      <td>13</td>\n",
       "    </tr>\n",
       "    <tr>\n",
       "      <th>3</th>\n",
       "      <td>4967001</td>\n",
       "      <td>8</td>\n",
       "    </tr>\n",
       "    <tr>\n",
       "      <th>4</th>\n",
       "      <td>10436078</td>\n",
       "      <td>7</td>\n",
       "    </tr>\n",
       "    <tr>\n",
       "      <th>5</th>\n",
       "      <td>2890577</td>\n",
       "      <td>7</td>\n",
       "    </tr>\n",
       "    <tr>\n",
       "      <th>6</th>\n",
       "      <td>4517529</td>\n",
       "      <td>6</td>\n",
       "    </tr>\n",
       "    <tr>\n",
       "      <th>7</th>\n",
       "      <td>03408967</td>\n",
       "      <td>5</td>\n",
       "    </tr>\n",
       "    <tr>\n",
       "      <th>8</th>\n",
       "      <td>4987694</td>\n",
       "      <td>5</td>\n",
       "    </tr>\n",
       "    <tr>\n",
       "      <th>9</th>\n",
       "      <td>00109244</td>\n",
       "      <td>4</td>\n",
       "    </tr>\n",
       "  </tbody>\n",
       "</table>\n",
       "</div>"
      ],
      "text/plain": [
       "         cn  COUNT(*)\n",
       "0  10285790        23\n",
       "1  05635995        19\n",
       "2  00561597        13\n",
       "3   4967001         8\n",
       "4  10436078         7\n",
       "5   2890577         7\n",
       "6   4517529         6\n",
       "7  03408967         5\n",
       "8   4987694         5\n",
       "9  00109244         4"
      ]
     },
     "execution_count": 8,
     "metadata": {},
     "output_type": "execute_result"
    }
   ],
   "source": [
    "q='''\n",
    "SELECT cn, COUNT(*) FROM mpregfinint WHERE status2='company' GROUP BY cn ORDER BY COUNT(*) DESC LIMIT 10;\n",
    "'''\n",
    "\n",
    "read_sql_query(q,conn)"
   ]
  },
  {
   "cell_type": "code",
   "execution_count": 9,
   "metadata": {},
   "outputs": [
    {
     "data": {
      "text/html": [
       "<div>\n",
       "<style scoped>\n",
       "    .dataframe tbody tr th:only-of-type {\n",
       "        vertical-align: middle;\n",
       "    }\n",
       "\n",
       "    .dataframe tbody tr th {\n",
       "        vertical-align: top;\n",
       "    }\n",
       "\n",
       "    .dataframe thead th {\n",
       "        text-align: right;\n",
       "    }\n",
       "</style>\n",
       "<table border=\"1\" class=\"dataframe\">\n",
       "  <thead>\n",
       "    <tr style=\"text-align: right;\">\n",
       "      <th></th>\n",
       "      <th>section</th>\n",
       "    </tr>\n",
       "  </thead>\n",
       "  <tbody>\n",
       "    <tr>\n",
       "      <th>0</th>\n",
       "      <td>2. (b) Any other support not included in Categ...</td>\n",
       "    </tr>\n",
       "    <tr>\n",
       "      <th>1</th>\n",
       "      <td>2. (b) Any other support not included in Categ...</td>\n",
       "    </tr>\n",
       "    <tr>\n",
       "      <th>2</th>\n",
       "      <td>2. (b) Any other support not included in Categ...</td>\n",
       "    </tr>\n",
       "  </tbody>\n",
       "</table>\n",
       "</div>"
      ],
      "text/plain": [
       "                                             section\n",
       "0  2. (b) Any other support not included in Categ...\n",
       "1  2. (b) Any other support not included in Categ...\n",
       "2  2. (b) Any other support not included in Categ..."
      ]
     },
     "execution_count": 9,
     "metadata": {},
     "output_type": "execute_result"
    }
   ],
   "source": [
    "q='''\n",
    "SELECT section FROM mpregfinint WHERE section LIKE '2. (b)%' LIMIT 3\n",
    "'''\n",
    "\n",
    "read_sql_query(q,conn)"
   ]
  },
  {
   "cell_type": "code",
   "execution_count": 10,
   "metadata": {},
   "outputs": [
    {
     "data": {
      "text/html": [
       "<div>\n",
       "<style scoped>\n",
       "    .dataframe tbody tr th:only-of-type {\n",
       "        vertical-align: middle;\n",
       "    }\n",
       "\n",
       "    .dataframe tbody tr th {\n",
       "        vertical-align: top;\n",
       "    }\n",
       "\n",
       "    .dataframe thead th {\n",
       "        text-align: right;\n",
       "    }\n",
       "</style>\n",
       "<table border=\"1\" class=\"dataframe\">\n",
       "  <thead>\n",
       "    <tr style=\"text-align: right;\">\n",
       "      <th></th>\n",
       "      <th>cn</th>\n",
       "      <th>COUNT(*)</th>\n",
       "    </tr>\n",
       "  </thead>\n",
       "  <tbody>\n",
       "    <tr>\n",
       "      <th>0</th>\n",
       "      <td>00064585</td>\n",
       "      <td>1</td>\n",
       "    </tr>\n",
       "    <tr>\n",
       "      <th>1</th>\n",
       "      <td>00116945</td>\n",
       "      <td>1</td>\n",
       "    </tr>\n",
       "    <tr>\n",
       "      <th>2</th>\n",
       "      <td>00154044.</td>\n",
       "      <td>1</td>\n",
       "    </tr>\n",
       "  </tbody>\n",
       "</table>\n",
       "</div>"
      ],
      "text/plain": [
       "          cn  COUNT(*)\n",
       "0   00064585         1\n",
       "1   00116945         1\n",
       "2  00154044.         1"
      ]
     },
     "execution_count": 10,
     "metadata": {},
     "output_type": "execute_result"
    }
   ],
   "source": [
    "q='''\n",
    "SELECT cn, COUNT(*) FROM mpregfinint WHERE status2 = 'company' GROUP BY cn ORDER BY COUNT(*) ASC LIMIT 3\n",
    "'''\n",
    "\n",
    "read_sql_query(q,conn)"
   ]
  },
  {
   "cell_type": "code",
   "execution_count": 14,
   "metadata": {},
   "outputs": [
    {
     "data": {
      "text/html": [
       "<div>\n",
       "<style scoped>\n",
       "    .dataframe tbody tr th:only-of-type {\n",
       "        vertical-align: middle;\n",
       "    }\n",
       "\n",
       "    .dataframe tbody tr th {\n",
       "        vertical-align: top;\n",
       "    }\n",
       "\n",
       "    .dataframe thead th {\n",
       "        text-align: right;\n",
       "    }\n",
       "</style>\n",
       "<table border=\"1\" class=\"dataframe\">\n",
       "  <thead>\n",
       "    <tr style=\"text-align: right;\">\n",
       "      <th></th>\n",
       "      <th>addr</th>\n",
       "      <th>amounts</th>\n",
       "      <th>cleanertxt</th>\n",
       "      <th>cn</th>\n",
       "      <th>currencies</th>\n",
       "      <th>date</th>\n",
       "      <th>dateAccd</th>\n",
       "      <th>dateAccd_f</th>\n",
       "      <th>dateRxd</th>\n",
       "      <th>dateRxd_f</th>\n",
       "      <th>...</th>\n",
       "      <th>status2</th>\n",
       "      <th>sumamountsGBP</th>\n",
       "      <th>sumlessmaxGBP</th>\n",
       "      <th>txt</th>\n",
       "      <th>txt2</th>\n",
       "      <th>txt4</th>\n",
       "      <th>visitDest</th>\n",
       "      <th>visitdates</th>\n",
       "      <th>visitestimate</th>\n",
       "      <th>visitpurpose</th>\n",
       "    </tr>\n",
       "  </thead>\n",
       "  <tbody>\n",
       "    <tr>\n",
       "      <th>0</th>\n",
       "      <td>None</td>\n",
       "      <td>None</td>\n",
       "      <td>None</td>\n",
       "      <td>None</td>\n",
       "      <td>None</td>\n",
       "      <td>None</td>\n",
       "      <td>None</td>\n",
       "      <td>NaT</td>\n",
       "      <td>None</td>\n",
       "      <td>NaT</td>\n",
       "      <td>...</td>\n",
       "      <td>None</td>\n",
       "      <td>NaN</td>\n",
       "      <td>NaN</td>\n",
       "      <td>Payments from ComRes, 4 Millbank, London SW1P ...</td>\n",
       "      <td>None</td>\n",
       "      <td>Payments from ComRes, 4 Millbank, London SW1P ...</td>\n",
       "      <td>None</td>\n",
       "      <td>None</td>\n",
       "      <td>None</td>\n",
       "      <td>None</td>\n",
       "    </tr>\n",
       "    <tr>\n",
       "      <th>1</th>\n",
       "      <td>None</td>\n",
       "      <td>100.0</td>\n",
       "      <td>None</td>\n",
       "      <td>None</td>\n",
       "      <td>GBP</td>\n",
       "      <td>17 October 2017</td>\n",
       "      <td>None</td>\n",
       "      <td>NaT</td>\n",
       "      <td>None</td>\n",
       "      <td>NaT</td>\n",
       "      <td>...</td>\n",
       "      <td>None</td>\n",
       "      <td>100.0</td>\n",
       "      <td>0.0</td>\n",
       "      <td>None</td>\n",
       "      <td>payment of £100.</td>\n",
       "      <td>Payments from ComRes, 4 Millbank, London SW1P ...</td>\n",
       "      <td>None</td>\n",
       "      <td>None</td>\n",
       "      <td>None</td>\n",
       "      <td>None</td>\n",
       "    </tr>\n",
       "    <tr>\n",
       "      <th>2</th>\n",
       "      <td>None</td>\n",
       "      <td>75.0</td>\n",
       "      <td>None</td>\n",
       "      <td>None</td>\n",
       "      <td>GBP</td>\n",
       "      <td>17 October 2017</td>\n",
       "      <td>None</td>\n",
       "      <td>NaT</td>\n",
       "      <td>None</td>\n",
       "      <td>NaT</td>\n",
       "      <td>...</td>\n",
       "      <td>None</td>\n",
       "      <td>75.0</td>\n",
       "      <td>0.0</td>\n",
       "      <td>None</td>\n",
       "      <td>payment of £75.</td>\n",
       "      <td>Payments from ComRes, 4 Millbank, London SW1P ...</td>\n",
       "      <td>None</td>\n",
       "      <td>None</td>\n",
       "      <td>None</td>\n",
       "      <td>None</td>\n",
       "    </tr>\n",
       "    <tr>\n",
       "      <th>3</th>\n",
       "      <td>None</td>\n",
       "      <td>75.0</td>\n",
       "      <td>None</td>\n",
       "      <td>None</td>\n",
       "      <td>GBP</td>\n",
       "      <td>17 October 2017</td>\n",
       "      <td>None</td>\n",
       "      <td>NaT</td>\n",
       "      <td>None</td>\n",
       "      <td>NaT</td>\n",
       "      <td>...</td>\n",
       "      <td>None</td>\n",
       "      <td>75.0</td>\n",
       "      <td>0.0</td>\n",
       "      <td>None</td>\n",
       "      <td>payment of £75.</td>\n",
       "      <td>Payments from ComRes, 4 Millbank, London SW1P ...</td>\n",
       "      <td>None</td>\n",
       "      <td>None</td>\n",
       "      <td>None</td>\n",
       "      <td>None</td>\n",
       "    </tr>\n",
       "    <tr>\n",
       "      <th>4</th>\n",
       "      <td>None</td>\n",
       "      <td>150.0</td>\n",
       "      <td>None</td>\n",
       "      <td>None</td>\n",
       "      <td>GBP</td>\n",
       "      <td>17 October 2017</td>\n",
       "      <td>None</td>\n",
       "      <td>NaT</td>\n",
       "      <td>None</td>\n",
       "      <td>NaT</td>\n",
       "      <td>...</td>\n",
       "      <td>None</td>\n",
       "      <td>150.0</td>\n",
       "      <td>0.0</td>\n",
       "      <td>None</td>\n",
       "      <td>payment of £150.</td>\n",
       "      <td>Payments from ComRes, 4 Millbank, London SW1P ...</td>\n",
       "      <td>None</td>\n",
       "      <td>None</td>\n",
       "      <td>None</td>\n",
       "      <td>None</td>\n",
       "    </tr>\n",
       "    <tr>\n",
       "      <th>5</th>\n",
       "      <td>None</td>\n",
       "      <td>75.0</td>\n",
       "      <td>None</td>\n",
       "      <td>None</td>\n",
       "      <td>GBP</td>\n",
       "      <td>29 November 2017</td>\n",
       "      <td>None</td>\n",
       "      <td>NaT</td>\n",
       "      <td>None</td>\n",
       "      <td>NaT</td>\n",
       "      <td>...</td>\n",
       "      <td>None</td>\n",
       "      <td>75.0</td>\n",
       "      <td>0.0</td>\n",
       "      <td>None</td>\n",
       "      <td>payment of £75.</td>\n",
       "      <td>Payments from ComRes, 4 Millbank, London SW1P ...</td>\n",
       "      <td>None</td>\n",
       "      <td>None</td>\n",
       "      <td>None</td>\n",
       "      <td>None</td>\n",
       "    </tr>\n",
       "    <tr>\n",
       "      <th>6</th>\n",
       "      <td>None</td>\n",
       "      <td>None</td>\n",
       "      <td>None</td>\n",
       "      <td>None</td>\n",
       "      <td>None</td>\n",
       "      <td>None</td>\n",
       "      <td>None</td>\n",
       "      <td>NaT</td>\n",
       "      <td>None</td>\n",
       "      <td>NaT</td>\n",
       "      <td>...</td>\n",
       "      <td>None</td>\n",
       "      <td>NaN</td>\n",
       "      <td>NaN</td>\n",
       "      <td>Payments from ComRes, 4 Millbank, London, SW1P...</td>\n",
       "      <td>None</td>\n",
       "      <td>Payments from ComRes, 4 Millbank, London, SW1P...</td>\n",
       "      <td>None</td>\n",
       "      <td>None</td>\n",
       "      <td>None</td>\n",
       "      <td>None</td>\n",
       "    </tr>\n",
       "    <tr>\n",
       "      <th>7</th>\n",
       "      <td>None</td>\n",
       "      <td>100.0</td>\n",
       "      <td>None</td>\n",
       "      <td>None</td>\n",
       "      <td>GBP</td>\n",
       "      <td>21 September 2017</td>\n",
       "      <td>None</td>\n",
       "      <td>NaT</td>\n",
       "      <td>None</td>\n",
       "      <td>NaT</td>\n",
       "      <td>...</td>\n",
       "      <td>None</td>\n",
       "      <td>100.0</td>\n",
       "      <td>0.0</td>\n",
       "      <td>None</td>\n",
       "      <td>payment of £100.</td>\n",
       "      <td>Payments from ComRes, 4 Millbank, London, SW1P...</td>\n",
       "      <td>None</td>\n",
       "      <td>None</td>\n",
       "      <td>None</td>\n",
       "      <td>None</td>\n",
       "    </tr>\n",
       "    <tr>\n",
       "      <th>8</th>\n",
       "      <td>None</td>\n",
       "      <td>75.0</td>\n",
       "      <td>None</td>\n",
       "      <td>None</td>\n",
       "      <td>GBP</td>\n",
       "      <td>21 September 2017</td>\n",
       "      <td>None</td>\n",
       "      <td>NaT</td>\n",
       "      <td>None</td>\n",
       "      <td>NaT</td>\n",
       "      <td>...</td>\n",
       "      <td>None</td>\n",
       "      <td>75.0</td>\n",
       "      <td>0.0</td>\n",
       "      <td>None</td>\n",
       "      <td>payment of £75.</td>\n",
       "      <td>Payments from ComRes, 4 Millbank, London, SW1P...</td>\n",
       "      <td>None</td>\n",
       "      <td>None</td>\n",
       "      <td>None</td>\n",
       "      <td>None</td>\n",
       "    </tr>\n",
       "    <tr>\n",
       "      <th>9</th>\n",
       "      <td>None</td>\n",
       "      <td>50.0</td>\n",
       "      <td>None</td>\n",
       "      <td>None</td>\n",
       "      <td>GBP</td>\n",
       "      <td>21 September 2017</td>\n",
       "      <td>None</td>\n",
       "      <td>NaT</td>\n",
       "      <td>None</td>\n",
       "      <td>NaT</td>\n",
       "      <td>...</td>\n",
       "      <td>None</td>\n",
       "      <td>50.0</td>\n",
       "      <td>0.0</td>\n",
       "      <td>None</td>\n",
       "      <td>payment of £50.</td>\n",
       "      <td>Payments from ComRes, 4 Millbank, London, SW1P...</td>\n",
       "      <td>None</td>\n",
       "      <td>None</td>\n",
       "      <td>None</td>\n",
       "      <td>None</td>\n",
       "    </tr>\n",
       "  </tbody>\n",
       "</table>\n",
       "<p>10 rows × 37 columns</p>\n",
       "</div>"
      ],
      "text/plain": [
       "   addr amounts cleanertxt    cn currencies               date dateAccd  \\\n",
       "0  None    None       None  None       None               None     None   \n",
       "1  None   100.0       None  None        GBP    17 October 2017     None   \n",
       "2  None    75.0       None  None        GBP    17 October 2017     None   \n",
       "3  None    75.0       None  None        GBP    17 October 2017     None   \n",
       "4  None   150.0       None  None        GBP    17 October 2017     None   \n",
       "5  None    75.0       None  None        GBP   29 November 2017     None   \n",
       "6  None    None       None  None       None               None     None   \n",
       "7  None   100.0       None  None        GBP  21 September 2017     None   \n",
       "8  None    75.0       None  None        GBP  21 September 2017     None   \n",
       "9  None    50.0       None  None        GBP  21 September 2017     None   \n",
       "\n",
       "  dateAccd_f dateRxd dateRxd_f      ...      status2 sumamountsGBP  \\\n",
       "0        NaT    None       NaT      ...         None           NaN   \n",
       "1        NaT    None       NaT      ...         None         100.0   \n",
       "2        NaT    None       NaT      ...         None          75.0   \n",
       "3        NaT    None       NaT      ...         None          75.0   \n",
       "4        NaT    None       NaT      ...         None         150.0   \n",
       "5        NaT    None       NaT      ...         None          75.0   \n",
       "6        NaT    None       NaT      ...         None           NaN   \n",
       "7        NaT    None       NaT      ...         None         100.0   \n",
       "8        NaT    None       NaT      ...         None          75.0   \n",
       "9        NaT    None       NaT      ...         None          50.0   \n",
       "\n",
       "  sumlessmaxGBP                                                txt  \\\n",
       "0           NaN  Payments from ComRes, 4 Millbank, London SW1P ...   \n",
       "1           0.0                                               None   \n",
       "2           0.0                                               None   \n",
       "3           0.0                                               None   \n",
       "4           0.0                                               None   \n",
       "5           0.0                                               None   \n",
       "6           NaN  Payments from ComRes, 4 Millbank, London, SW1P...   \n",
       "7           0.0                                               None   \n",
       "8           0.0                                               None   \n",
       "9           0.0                                               None   \n",
       "\n",
       "                txt2                                               txt4  \\\n",
       "0               None  Payments from ComRes, 4 Millbank, London SW1P ...   \n",
       "1   payment of £100.  Payments from ComRes, 4 Millbank, London SW1P ...   \n",
       "2    payment of £75.  Payments from ComRes, 4 Millbank, London SW1P ...   \n",
       "3    payment of £75.  Payments from ComRes, 4 Millbank, London SW1P ...   \n",
       "4   payment of £150.  Payments from ComRes, 4 Millbank, London SW1P ...   \n",
       "5    payment of £75.  Payments from ComRes, 4 Millbank, London SW1P ...   \n",
       "6               None  Payments from ComRes, 4 Millbank, London, SW1P...   \n",
       "7   payment of £100.  Payments from ComRes, 4 Millbank, London, SW1P...   \n",
       "8    payment of £75.  Payments from ComRes, 4 Millbank, London, SW1P...   \n",
       "9    payment of £50.  Payments from ComRes, 4 Millbank, London, SW1P...   \n",
       "\n",
       "  visitDest visitdates visitestimate  visitpurpose  \n",
       "0      None       None          None          None  \n",
       "1      None       None          None          None  \n",
       "2      None       None          None          None  \n",
       "3      None       None          None          None  \n",
       "4      None       None          None          None  \n",
       "5      None       None          None          None  \n",
       "6      None       None          None          None  \n",
       "7      None       None          None          None  \n",
       "8      None       None          None          None  \n",
       "9      None       None          None          None  \n",
       "\n",
       "[10 rows x 37 columns]"
      ]
     },
     "execution_count": 14,
     "metadata": {},
     "output_type": "execute_result"
    }
   ],
   "source": [
    "q='''\n",
    "SELECT * FROM mpregfinint WHERE empfromsub='ComRes' LIMIT 10\n",
    "'''\n",
    "\n",
    "read_sql_query(q,conn)"
   ]
  },
  {
   "cell_type": "code",
   "execution_count": null,
   "metadata": {},
   "outputs": [],
   "source": []
  },
  {
   "cell_type": "markdown",
   "metadata": {},
   "source": [
    "## Summary\n",
    "\n",
    "This notebook has walked through the creation of a recipe for scraping the contents of the register of financial interests of a single MP.\n",
    "\n",
    "In the next installment, we'll look at how to grab the data for *all* the members listed in a particular register. This will be followed - possibly! - by a look at how to query the data once we have scraped it, as well as how to enrich the dataset and make it \"linkable\" to other datasets using common identifiers, such as MNIS / MP ids and company numbers."
   ]
  }
 ],
 "metadata": {
  "kernelspec": {
   "display_name": "Python 3",
   "language": "python",
   "name": "python3"
  },
  "language_info": {
   "codemirror_mode": {
    "name": "ipython",
    "version": 3
   },
   "file_extension": ".py",
   "mimetype": "text/x-python",
   "name": "python",
   "nbconvert_exporter": "python",
   "pygments_lexer": "ipython3",
   "version": "3.6.4"
  }
 },
 "nbformat": 4,
 "nbformat_minor": 2
}
