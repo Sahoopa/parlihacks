{
 "cells": [
  {
   "cell_type": "markdown",
   "metadata": {},
   "source": [
    "# Scraping Low Hanging Fruit on the UK Register of Members' Financial Interests \n",
    "\n",
    "This notebook describes a recipe for starting to scrape the UK MP register of interests.\n",
    "\n",
    "The register entries for each member contains *semi-structured text data*, which is to say that there are some recognisable patterns in the text that makes up the register entries.\n",
    "\n",
    "![](img/hoc_reg_mp_fin_int.png)\n",
    "\n",
    "The entries are made in different sections, and have a form that repeats, ish...\n",
    "\n",
    "![](img/hoc_reg_mp_fin_int2.png)\n",
    "\n",
    "We can use these repeating structures as the basis of a *scraper* that will extract the information from the page and put it into a form we can work with, such as a spreadsheet or simple database."
   ]
  },
  {
   "cell_type": "markdown",
   "metadata": {},
   "source": [
    "## The Structure of a Single Register Entry Page\n",
    "\n",
    "The page you see in your web browser is a rendering of a structured HTML document. You can look at the \"code\" that defines the page using browser developer tools.\n",
    "\n",
    "In Chrome, you can view the source code of a web page from the *View -> Developer -> View Source* menu.\n",
    "\n",
    "Looking at the raw HTML of a page can be confusing, but many browsers have built in tools to make it easier to inspect the source code of a web page.\n",
    "\n",
    "In Chrome, you can launch the developer tools from he *View -> Developer -> Developer Tools* menu option."
   ]
  },
  {
   "cell_type": "markdown",
   "metadata": {},
   "source": [
    "### Exploring the page\n",
    "\n",
    "In Chrome developer tools, if you click on the arrow / pointer icon in the top left corner of the tools panel, you can use it to highlight areas of the rendered web page; the HTML used to define that block is then highlighted.\n",
    "\n",
    "![](img/hoc_reg_devtools1.png)\n",
    "\n",
    "One of the tricks to scraping is to try to identify structural elements or patterns in the HTML that identify the things we are interestd in and that we can grab hold of and use as the basis for our scrape.\n",
    "\n",
    "In the MPs' register of interest pages, we notice that the `div` tag with the id `mainTextBlock` contains all the elements that describe the register of entries. In particular, we also notice that each spearate entry is contained within its own `<p>` tag.\n",
    "\n",
    "![](img/hoc_reg_devtools2.png)\n",
    "\n",
    "This gives us one strategy for scraping the page:\n",
    "\n",
    "- grab the parent `div` tag - and its contents - that contains all the separate register entries;\n",
    "- look at each `<p>` tag - and its contents - in turn and try to pull out the member interests."
   ]
  },
  {
   "cell_type": "markdown",
   "metadata": {},
   "source": [
    "### What structured or semi-structured data can we see?\n",
    "\n",
    "Some of the register entries have a largely *unstructured* form. For example, the entry:\n",
    "\n",
    "```\n",
    "13 December 2016, received £2,500 from Hampshire Cricket, The Ageas Bowl, Botley Road, West End, Southampton SO30 3XH, for media and communications training. Hours: 16 hrs including travel and preparation. (Registered 19 December 2016)\n",
    "```\n",
    "\n",
    "is largely free text. We can see some structure in there (a date, followed by an amount, then a name and an address) but we get the feeling that this entry could be made up of arbitrary text.\n",
    "\n",
    "An entry such as:\n",
    "\n",
    "```\n",
    "Name of donor: VGC Group\n",
    "Address of donor: Cardinal House, Bury Street, Ruislip HA4 7GD\n",
    "Amount of donation or nature and value if donation in kind: £1,800 in a successful auction bid at a fundraising dinner for Barnsley East CLP and the office of another MP, the profits from which will be divided equally.\n",
    "Donor status: company, registration 5741473\n",
    "(Registered 04 May 2016)\n",
    "```\n",
    "\n",
    "is semi-structured, in that we have structural items of the form `attribute: value` where the value term may or may not itself be structured.\n",
    "\n",
    "For example, the `Name of donor` attribute is simply that - a name - which explicitly represents the name of the donor. But the text associated with the `Amount of donation or nature and value if donation in kind` is more unstructured. For sure, we can see recognisable thinks in the description, but the way they are presented is leargely as free text. Which is to say, the way it's presented is arbitrary, which makes it harder to extract information from in a reliable way.\n",
    "\n",
    "What this means is that there is some low hanging fruit in this register that we *can* extract reasonably reliably (the name of a donor, for example), but there is also information in that that we may have to parse by hand if we want to do it reliably."
   ]
  },
  {
   "cell_type": "markdown",
   "metadata": {},
   "source": [
    "## Getting Started with the Scrape\n",
    "\n",
    "There are many tools available to help you scrape a web page or set of web pages, but I tend to use code becuase it gives me the most control over the scrape, albeit at the cost of added complexity compared to point and click style applications.\n",
    "\n",
    "A couple of Python packages that crossed my radar recently provide a relatively easy way in to getting started with Python based scrapers, so we'll use those in this recipe."
   ]
  },
  {
   "cell_type": "markdown",
   "metadata": {},
   "source": [
    "### `kennethreitz/requests-html`\n",
    "\n",
    "The first package is Kenneth Reitz' ([requests-html](https://github.com/kennethreitz/requests-html), straplined *\"Pythonic HTML Parsing for Humans™\"*. This package helps us grab an HTML page and extract the text from it."
   ]
  },
  {
   "cell_type": "code",
   "execution_count": 1,
   "metadata": {},
   "outputs": [],
   "source": [
    "#https://github.com/kennethreitz/requests-html\n",
    "#!~/anaconda3/bin/pip install requests_html"
   ]
  },
  {
   "cell_type": "markdown",
   "metadata": {},
   "source": [
    "### `r1chardj0n3s/parse`\n",
    "\n",
    "The second package is Richard Jones' `parse` package ([r1chardj0n3s/parse](https://github.com/r1chardj0n3s/parse)).\n",
    "\n",
    "This package provides a set of tools that make it relatively easy to extract the rendered / visually structured information, such as the attributes/values identified in the MPs' register above."
   ]
  },
  {
   "cell_type": "code",
   "execution_count": 2,
   "metadata": {},
   "outputs": [],
   "source": [
    "#https://github.com/r1chardj0n3s/parse\n",
    "#Install the package\n",
    "#!~/anaconda3/bin/pip install parse"
   ]
  },
  {
   "cell_type": "markdown",
   "metadata": {},
   "source": [
    "### Grabbing a test page\n",
    "\n",
    "We'll start by working with a single test page: [https://publications.parliament.uk/pa/cm/cmregmem/170502/dugher_michael.htm](https://publications.parliament.uk/pa/cm/cmregmem/170502/dugher_michael.htm)\n",
    "\n",
    "\n",
    "This was selected from the [last register of the 2015 Parliament](https://publications.parliament.uk/pa/cm/cmregmem/170502/contents.htm). For now, I'm just hoping that the register for the current 2017 Parliament has the same structural form!\n",
    "\n",
    "*Disclaimer: the page I picked from the register was picked becuase it had a range of content structures, not for any reason relating to the member it relates to or the actual content of an entry. Which is to say: nothing is implied by the selection of the test page, etc etc.*"
   ]
  },
  {
   "cell_type": "code",
   "execution_count": 3,
   "metadata": {},
   "outputs": [],
   "source": [
    "#Set the url of the test page\n",
    "url='https://publications.parliament.uk/pa/cm/cmregmem/170502/dugher_michael.htm'"
   ]
  },
  {
   "cell_type": "markdown",
   "metadata": {},
   "source": [
    "The first thing to do is get hold of the page HTML. The `requests_html` makes this easy:"
   ]
  },
  {
   "cell_type": "code",
   "execution_count": 4,
   "metadata": {},
   "outputs": [],
   "source": [
    "#Import the package - we only need to do this once\n",
    "from requests_html import HTMLSession\n",
    "\n",
    "#Create a session - we conly need to do this once\n",
    "session = HTMLSession()"
   ]
  },
  {
   "cell_type": "code",
   "execution_count": 5,
   "metadata": {},
   "outputs": [],
   "source": [
    "#Grab the page\n",
    "r = session.get(url)"
   ]
  },
  {
   "cell_type": "markdown",
   "metadata": {},
   "source": [
    "To find the `p` tags *within* an HTML block with a given id, such as `mainTextBlock`, we can apply the `.html.find()` method to the page and get a list of items in return."
   ]
  },
  {
   "cell_type": "code",
   "execution_count": 6,
   "metadata": {},
   "outputs": [
    {
     "data": {
      "text/plain": [
       "'Name of donor: VGC Group\\nAddress of donor: Cardinal House, Bury Street, Ruislip HA4 7GD\\nAmount of donation or nature and value if donation in kind: £1,800 in a successful auction bid at a fundraising dinner for Barnsley East CLP and the office of another MP, the profits from which will be divided equally.\\nDonor status: company, registration 5741473\\n(Registered 04 May 2016)'"
      ]
     },
     "execution_count": 6,
     "metadata": {},
     "output_type": "execute_result"
    }
   ],
   "source": [
    "ptags = r.html.find('#mainTextBlock > p')\n",
    "\n",
    "#View the contents of the 7th p tag in the list (the index starts at 0)\n",
    "ptags[6].text"
   ]
  },
  {
   "cell_type": "markdown",
   "metadata": {},
   "source": [
    "Now we can start to extract some information *as data* using the `parse` package."
   ]
  },
  {
   "cell_type": "code",
   "execution_count": 7,
   "metadata": {},
   "outputs": [],
   "source": [
    "#Import everything from the package - this is not best practice!\n",
    "from parse import *"
   ]
  },
  {
   "cell_type": "markdown",
   "metadata": {},
   "source": [
    "The `parse` package encourages you to split a text string into recognisable components. The text we want to extract is wrapped using braces ({}). The contents of the braces may be a name we want to assigned to the extracted text, and / or a pattern that describes the text we want to extract \"into\" that pair of braces.\n",
    "\n",
    "The expression we need to us has the form:\n",
    "\n",
    "```\n",
    "parse(stringExtractionPattern, stringWeWantToParse)\n",
    "```"
   ]
  },
  {
   "cell_type": "code",
   "execution_count": 8,
   "metadata": {},
   "outputs": [
    {
     "data": {
      "text/plain": [
       "<Result () {'name': 'VGC Group', 'addr': 'Cardinal House, Bury Street, Ruislip HA4 7GD', 'txt': '£1,800 in a successful auction bid at a fundraising dinner for Barnsley East CLP and the office of another MP, the profits from which will be divided equally.', 'status': 'company, registration 5741473', 'date': '04 May 2016'}>"
      ]
     },
     "execution_count": 8,
     "metadata": {},
     "output_type": "execute_result"
    }
   ],
   "source": [
    "pattern = '''Name of donor: {name}\\nAddress of donor: {addr}\\nAmount of donation or nature and value if donation in kind: {txt}\\nDonor status: {status}\\n(Registered {date})'''\n",
    "\n",
    "pr = parse(pattern, ptags[6].text)\n",
    "\n",
    "#View the results of parsing the string\n",
    "pr"
   ]
  },
  {
   "cell_type": "markdown",
   "metadata": {},
   "source": [
    "If the the pattern matcher doesn't match the string, nothing is returned."
   ]
  },
  {
   "cell_type": "code",
   "execution_count": 9,
   "metadata": {},
   "outputs": [
    {
     "name": "stdout",
     "output_type": "stream",
     "text": [
      "This returns >> None <<\n"
     ]
    }
   ],
   "source": [
    "pr = parse(pattern,\"Some arbitrary text that is unlikely to match...\")\n",
    "print('This returns >>', pr, '<<')"
   ]
  },
  {
   "cell_type": "markdown",
   "metadata": {},
   "source": [
    "We can pass the \"named\" items we have extracted from the text string into its own python `dict`.\n",
    "\n",
    "The python expression used to do this is known as a \"list comprehension\" (or more specifically in this case, a \"dict comprehension\"). Essentially what it does is take the contents of one `dict` and use them to create another. *Don't worry about it: it's voodoo magic...*"
   ]
  },
  {
   "cell_type": "code",
   "execution_count": 10,
   "metadata": {},
   "outputs": [
    {
     "data": {
      "text/plain": [
       "{'addr': 'Cardinal House, Bury Street, Ruislip HA4 7GD',\n",
       " 'date': '04 May 2016',\n",
       " 'name': 'VGC Group',\n",
       " 'status': 'company, registration 5741473',\n",
       " 'txt': '£1,800 in a successful auction bid at a fundraising dinner for Barnsley East CLP and the office of another MP, the profits from which will be divided equally.'}"
      ]
     },
     "execution_count": 10,
     "metadata": {},
     "output_type": "execute_result"
    }
   ],
   "source": [
    "pr = parse(pattern, ptags[6].text)\n",
    "extractedItems = {k:pr[k] for k in pr.named}\n",
    "\n",
    "#Preview items\n",
    "extractedItems"
   ]
  },
  {
   "cell_type": "markdown",
   "metadata": {},
   "source": [
    "We can mask the complexity of the dict comprehension by creating a function that deploys it for us:"
   ]
  },
  {
   "cell_type": "code",
   "execution_count": 11,
   "metadata": {},
   "outputs": [],
   "source": [
    "def todict(result):\n",
    "    #If there's no match, return an empty dict\n",
    "    if not result: return {}\n",
    "    #If there is a match, add the named results items to the returned dict\n",
    "    return {k:result[k] for k in result.named}"
   ]
  },
  {
   "cell_type": "code",
   "execution_count": 12,
   "metadata": {},
   "outputs": [
    {
     "data": {
      "text/plain": [
       "{'addr': 'Cardinal House, Bury Street, Ruislip HA4 7GD',\n",
       " 'date': '04 May 2016',\n",
       " 'name': 'VGC Group',\n",
       " 'status': 'company, registration 5741473',\n",
       " 'txt': '£1,800 in a successful auction bid at a fundraising dinner for Barnsley East CLP and the office of another MP, the profits from which will be divided equally.'}"
      ]
     },
     "execution_count": 12,
     "metadata": {},
     "output_type": "execute_result"
    }
   ],
   "source": [
    "todict(pr)"
   ]
  },
  {
   "cell_type": "markdown",
   "metadata": {},
   "source": [
    "If the parse expression does not match the string, then it won't return anything."
   ]
  },
  {
   "cell_type": "markdown",
   "metadata": {},
   "source": [
    "Looking at the extracted text, we can see that there are some other elements in there that we might be able to extract.\n",
    "\n",
    "For example, if the `status` is a company, it looks like we might be able to extract out the company number:"
   ]
  },
  {
   "cell_type": "code",
   "execution_count": 13,
   "metadata": {},
   "outputs": [
    {
     "data": {
      "text/plain": [
       "'company, registration 5741473'"
      ]
     },
     "execution_count": 13,
     "metadata": {},
     "output_type": "execute_result"
    }
   ],
   "source": [
    "#View status\n",
    "extractedItems['status']"
   ]
  },
  {
   "cell_type": "markdown",
   "metadata": {},
   "source": [
    "We can try to extract the fact the entity is a company, along with the company number:"
   ]
  },
  {
   "cell_type": "code",
   "execution_count": 14,
   "metadata": {},
   "outputs": [
    {
     "data": {
      "text/plain": [
       "<Result () {'status2': 'company', 'cn': '5741473'}>"
      ]
     },
     "execution_count": 14,
     "metadata": {},
     "output_type": "execute_result"
    }
   ],
   "source": [
    "parse('{status2}, registration {cn}', extractedItems['status'])"
   ]
  },
  {
   "cell_type": "markdown",
   "metadata": {},
   "source": [
    "We could directly create a `dict` from that:"
   ]
  },
  {
   "cell_type": "code",
   "execution_count": 15,
   "metadata": {},
   "outputs": [
    {
     "data": {
      "text/plain": [
       "{'cn': '5741473', 'status2': 'company'}"
      ]
     },
     "execution_count": 15,
     "metadata": {},
     "output_type": "execute_result"
    }
   ],
   "source": [
    "todict( parse('{status2}, registration {cn}', extractedItems['status']) )"
   ]
  },
  {
   "cell_type": "markdown",
   "metadata": {},
   "source": [
    "Or we could write a new function that adds any newly extracted items to the `extractedItems` dict, *and* does the parsing:"
   ]
  },
  {
   "cell_type": "code",
   "execution_count": 16,
   "metadata": {},
   "outputs": [],
   "source": [
    "def todict2(pattern, string, extracted=None):\n",
    "    if extracted is None: extracted = {}\n",
    "    newextract = todict( parse(pattern, string) )\n",
    "    \n",
    "    #Add the contents of newextract to the original dict and return\n",
    "    #Note that this updates any dict passed in via the extracted argument and doesn't strictly need to return it \n",
    "    extracted.update(newextract)\n",
    "    return extracted"
   ]
  },
  {
   "cell_type": "code",
   "execution_count": 17,
   "metadata": {},
   "outputs": [
    {
     "data": {
      "text/plain": [
       "{'addr': 'Cardinal House, Bury Street, Ruislip HA4 7GD',\n",
       " 'cn': '5741473',\n",
       " 'date': '04 May 2016',\n",
       " 'name': 'VGC Group',\n",
       " 'status': 'company, registration 5741473',\n",
       " 'status2': 'company',\n",
       " 'txt': '£1,800 in a successful auction bid at a fundraising dinner for Barnsley East CLP and the office of another MP, the profits from which will be divided equally.'}"
      ]
     },
     "execution_count": 17,
     "metadata": {},
     "output_type": "execute_result"
    }
   ],
   "source": [
    "todict2('{status2}, registration {cn}', extractedItems['status'], extractedItems)\n",
    "extractedItems"
   ]
  },
  {
   "cell_type": "markdown",
   "metadata": {},
   "source": [
    "Alternatively, we might write a function to handle the company number extraction and return the company number (and extracted status) as a `dict`."
   ]
  },
  {
   "cell_type": "code",
   "execution_count": 55,
   "metadata": {},
   "outputs": [],
   "source": [
    "def companynumber(string):\n",
    "    return todict( parse('{status2}, registration {cn}', string) )"
   ]
  },
  {
   "cell_type": "code",
   "execution_count": 57,
   "metadata": {},
   "outputs": [
    {
     "name": "stdout",
     "output_type": "stream",
     "text": [
      "{'status2': 'company', 'cn': '5741473'}\n",
      "{}\n",
      "{'status2': 'company', 'cn': '05741473'}\n"
     ]
    }
   ],
   "source": [
    "print( companynumber(extractedItems['status']) )\n",
    "print( companynumber('Arbitrary text.') )\n",
    "#Check to see if it works with a company number that starts with a leading 0\n",
    "print( companynumber('company, registration 05741473') )"
   ]
  },
  {
   "cell_type": "markdown",
   "metadata": {},
   "source": [
    "Let's look at another entry - if we also print it, the end of line (`\\n`) characters will be rendered make things easier to read:"
   ]
  },
  {
   "cell_type": "code",
   "execution_count": 20,
   "metadata": {},
   "outputs": [
    {
     "name": "stdout",
     "output_type": "stream",
     "text": [
      "Name of donor: Balmoral Tanks Ltd\n",
      "Address of donor: Balmoral Park, Aberdeen AB12 3GY\n",
      "Amount of donation or nature and value if donation in kind: £2,000 to support my Primary School Christmas Card Competition\n",
      "Date received: 8 December 2016\n",
      "Date accepted: 8 December 2016\n",
      "Donor status: company, registration 300656\n",
      "(Registered 09 December 2016)\n"
     ]
    },
    {
     "data": {
      "text/plain": [
       "'Name of donor: Balmoral Tanks Ltd\\nAddress of donor: Balmoral Park, Aberdeen AB12 3GY\\nAmount of donation or nature and value if donation in kind: £2,000 to support my Primary School Christmas Card Competition\\nDate received: 8 December 2016\\nDate accepted: 8 December 2016\\nDonor status: company, registration 300656\\n(Registered 09 December 2016)'"
      ]
     },
     "execution_count": 20,
     "metadata": {},
     "output_type": "execute_result"
    }
   ],
   "source": [
    "print(ptags[11].text)\n",
    "\n",
    "ptags[11].text"
   ]
  },
  {
   "cell_type": "markdown",
   "metadata": {},
   "source": [
    "This entry has `Date received` and `Date accepted` fields that were not in the entry we scraped first. After parsing, they form part of the `txt` item:"
   ]
  },
  {
   "cell_type": "code",
   "execution_count": 21,
   "metadata": {},
   "outputs": [
    {
     "data": {
      "text/plain": [
       "{'addr': 'Balmoral Park, Aberdeen AB12 3GY',\n",
       " 'date': '09 December 2016',\n",
       " 'name': 'Balmoral Tanks Ltd',\n",
       " 'status': 'company, registration 300656',\n",
       " 'txt': '£2,000 to support my Primary School Christmas Card Competition\\nDate received: 8 December 2016\\nDate accepted: 8 December 2016'}"
      ]
     },
     "execution_count": 21,
     "metadata": {},
     "output_type": "execute_result"
    }
   ],
   "source": [
    "#If we don't pass a dict in to todict2(), one will be created for us\n",
    "extracteditems = todict2(pattern, ptags[11].text)\n",
    "\n",
    "extracteditems"
   ]
  },
  {
   "cell_type": "markdown",
   "metadata": {},
   "source": [
    "So let's parse that item and grab the dates.\n",
    "\n",
    "(The reason we don't add them to the pattern we used earlier is becuase that pattern would then *not* match the entries that do not contain the received and accepted dates.)"
   ]
  },
  {
   "cell_type": "code",
   "execution_count": 22,
   "metadata": {},
   "outputs": [
    {
     "data": {
      "text/plain": [
       "'£2,000 to support my Primary School Christmas Card Competition\\nDate received: 8 December 2016\\nDate accepted: 8 December 2016'"
      ]
     },
     "execution_count": 22,
     "metadata": {},
     "output_type": "execute_result"
    }
   ],
   "source": [
    "#Here's what we're going to parse\n",
    "extracteditems['txt']"
   ]
  },
  {
   "cell_type": "code",
   "execution_count": 23,
   "metadata": {},
   "outputs": [
    {
     "data": {
      "text/plain": [
       "{'addr': 'Balmoral Park, Aberdeen AB12 3GY',\n",
       " 'date': '09 December 2016',\n",
       " 'dateAccd': '8 December 2016',\n",
       " 'dateRxd': '8 December 2016',\n",
       " 'name': 'Balmoral Tanks Ltd',\n",
       " 'status': 'company, registration 300656',\n",
       " 'txt': '£2,000 to support my Primary School Christmas Card Competition\\nDate received: 8 December 2016\\nDate accepted: 8 December 2016'}"
      ]
     },
     "execution_count": 23,
     "metadata": {},
     "output_type": "execute_result"
    }
   ],
   "source": [
    "datepattern = '{}\\nDate received: {dateRxd}\\nDate accepted: {dateAccd}'\n",
    "\n",
    "#This updates extracteditems\n",
    "todict2(datepattern, extracteditems['txt'], extracteditems)\n",
    "extracteditems"
   ]
  },
  {
   "cell_type": "markdown",
   "metadata": {},
   "source": [
    "We could also clean the text field a bit by splitting the string on `\\nDate` fragments and just retaining the first part:"
   ]
  },
  {
   "cell_type": "code",
   "execution_count": 24,
   "metadata": {},
   "outputs": [
    {
     "data": {
      "text/plain": [
       "['£2,000 to support my Primary School Christmas Card Competition',\n",
       " ' received: 8 December 2016',\n",
       " ' accepted: 8 December 2016']"
      ]
     },
     "execution_count": 24,
     "metadata": {},
     "output_type": "execute_result"
    }
   ],
   "source": [
    "extracteditems['txt'].split('\\nDate')"
   ]
  },
  {
   "cell_type": "code",
   "execution_count": 25,
   "metadata": {},
   "outputs": [
    {
     "data": {
      "text/plain": [
       "{'addr': 'Balmoral Park, Aberdeen AB12 3GY',\n",
       " 'cleanertxt': '£2,000 to support my Primary School Christmas Card Competition',\n",
       " 'date': '09 December 2016',\n",
       " 'dateAccd': '8 December 2016',\n",
       " 'dateRxd': '8 December 2016',\n",
       " 'name': 'Balmoral Tanks Ltd',\n",
       " 'status': 'company, registration 300656',\n",
       " 'txt': '£2,000 to support my Primary School Christmas Card Competition\\nDate received: 8 December 2016\\nDate accepted: 8 December 2016'}"
      ]
     },
     "execution_count": 25,
     "metadata": {},
     "output_type": "execute_result"
    }
   ],
   "source": [
    "#The split returns a list of items - just grab the first one with index 0\n",
    "extracteditems['cleanertxt'] = extracteditems['txt'].split('\\nDate')[0]\n",
    "extracteditems"
   ]
  },
  {
   "cell_type": "markdown",
   "metadata": {},
   "source": [
    "One thing we might notice at this part is that we have some dates. These are represented as text strings, but we can also part them into a \"date-timey\" computational thing that identifies the date *as a date* and let's us do datey things to it."
   ]
  },
  {
   "cell_type": "code",
   "execution_count": 26,
   "metadata": {},
   "outputs": [],
   "source": [
    "#The dateutil package extends the standard Python datetime  module and helps us parse dates\n",
    "#~/anaconda3/bin/pip install python-dateutil\n",
    "from dateutil import parser as dtparser"
   ]
  },
  {
   "cell_type": "code",
   "execution_count": 27,
   "metadata": {},
   "outputs": [],
   "source": [
    "def parsedate(string):\n",
    "    #This is not best practice - if the parse fails, return None\n",
    "    try:\n",
    "        dt = dtparser.parse(string)\n",
    "    except:\n",
    "        dt = None\n",
    "    return dt"
   ]
  },
  {
   "cell_type": "code",
   "execution_count": 28,
   "metadata": {},
   "outputs": [
    {
     "data": {
      "text/plain": [
       "datetime.datetime(2016, 12, 8, 0, 0)"
      ]
     },
     "execution_count": 28,
     "metadata": {},
     "output_type": "execute_result"
    }
   ],
   "source": [
    "parsedate('8 December 2016')"
   ]
  },
  {
   "cell_type": "markdown",
   "metadata": {},
   "source": [
    "Having things in `datetime` format lets us work with them as such. For example, we can display them in a variety of ways:"
   ]
  },
  {
   "cell_type": "code",
   "execution_count": 29,
   "metadata": {},
   "outputs": [
    {
     "name": "stdout",
     "output_type": "stream",
     "text": [
      "08/12/16\n",
      "December 08, 2016\n",
      "Thursday, December , 2016\n",
      "2016-12-08T00:00:00\n"
     ]
    }
   ],
   "source": [
    "print( parsedate('8 December 2016').strftime(\"%d/%m/%y\") )\n",
    "print( parsedate('8 December 2016').strftime(\"%B %d, %Y\") )\n",
    "print( parsedate('8 December 2016').strftime(\"%A, %B %, %Y\") )\n",
    "print( parsedate('8 December 2016').isoformat() )"
   ]
  },
  {
   "cell_type": "markdown",
   "metadata": {},
   "source": [
    "There is a reference card for `strftime` modifiers / formatters here: [http://strftime.org/](http://strftime.org/)\n",
    "\n",
    "We can use the formatter to format our dates for us:"
   ]
  },
  {
   "cell_type": "code",
   "execution_count": 30,
   "metadata": {},
   "outputs": [
    {
     "data": {
      "text/plain": [
       "{'addr': 'Balmoral Park, Aberdeen AB12 3GY',\n",
       " 'cleanertxt': '£2,000 to support my Primary School Christmas Card Competition',\n",
       " 'date': '09 December 2016',\n",
       " 'dateAccd': '8 December 2016',\n",
       " 'dateRxd': '8 December 2016',\n",
       " 'date_f': datetime.datetime(2016, 12, 9, 0, 0),\n",
       " 'name': 'Balmoral Tanks Ltd',\n",
       " 'status': 'company, registration 300656',\n",
       " 'txt': '£2,000 to support my Primary School Christmas Card Competition\\nDate received: 8 December 2016\\nDate accepted: 8 December 2016'}"
      ]
     },
     "execution_count": 30,
     "metadata": {},
     "output_type": "execute_result"
    }
   ],
   "source": [
    "extracteditems['date_f'] = parsedate(extracteditems['date'])\n",
    "extracteditems"
   ]
  },
  {
   "cell_type": "markdown",
   "metadata": {},
   "source": [
    "We can also automate a bit if date items have 'date' to start their name and haven't already been formatted (identified using the `_f` suffix as part of their name)."
   ]
  },
  {
   "cell_type": "markdown",
   "metadata": {},
   "source": [
    "Part of the automation requires creating dict attributes, named after date attributes but with the additional `_f` suffix as part of the name. We can use a Python string formatter to help us do this:"
   ]
  },
  {
   "cell_type": "code",
   "execution_count": 31,
   "metadata": {},
   "outputs": [
    {
     "data": {
      "text/plain": [
       "'date_f'"
      ]
     },
     "execution_count": 31,
     "metadata": {},
     "output_type": "execute_result"
    }
   ],
   "source": [
    "'{}_f'.format('date')"
   ]
  },
  {
   "cell_type": "code",
   "execution_count": 32,
   "metadata": {},
   "outputs": [],
   "source": [
    "def parsedates(record):\n",
    "    #This looks complicated but what it basically does is look for attributes called date* and not ending _f\n",
    "    for k in [k for k in record.keys() if k.lower().startswith('date') and not k.lower().endswith('_f') ]:\n",
    "        #The record is a dict and is mutable - that is, the dict we passed in is changed by the function\n",
    "        record['{}_f'.format(k)] = parsedate( record[k] )"
   ]
  },
  {
   "cell_type": "code",
   "execution_count": 33,
   "metadata": {},
   "outputs": [
    {
     "data": {
      "text/plain": [
       "{'addr': 'Balmoral Park, Aberdeen AB12 3GY',\n",
       " 'cleanertxt': '£2,000 to support my Primary School Christmas Card Competition',\n",
       " 'date': '09 December 2016',\n",
       " 'dateAccd': '8 December 2016',\n",
       " 'dateAccd_f': datetime.datetime(2016, 12, 8, 0, 0),\n",
       " 'dateRxd': '8 December 2016',\n",
       " 'dateRxd_f': datetime.datetime(2016, 12, 8, 0, 0),\n",
       " 'date_f': datetime.datetime(2016, 12, 9, 0, 0),\n",
       " 'name': 'Balmoral Tanks Ltd',\n",
       " 'status': 'company, registration 300656',\n",
       " 'txt': '£2,000 to support my Primary School Christmas Card Competition\\nDate received: 8 December 2016\\nDate accepted: 8 December 2016'}"
      ]
     },
     "execution_count": 33,
     "metadata": {},
     "output_type": "execute_result"
    }
   ],
   "source": [
    "#Remember - this automatically updates the dict we pass to it\n",
    "parsedates(extracteditems)\n",
    "\n",
    "#Show dict updated with parsed dates\n",
    "extracteditems"
   ]
  },
  {
   "cell_type": "markdown",
   "metadata": {},
   "source": [
    "### Where's the money?\n",
    "\n",
    "We've now grabbed quite a lot of the low hanging fruit from the page, but what about the money?\n",
    "\n",
    "Ideally, there should only be one monetary amount specified in an entry (this is not always the case), but for now we'll just make an attempt at grabbing the first. We're also going to assume amounts are converted to, and given as, £ equivalents. To make life easier for the parser, we remove any commas (which is to say, commas used as thouseands separators) from the parsed string by replacing them with an empty string."
   ]
  },
  {
   "cell_type": "code",
   "execution_count": 34,
   "metadata": {},
   "outputs": [
    {
     "name": "stdout",
     "output_type": "stream",
     "text": [
      "£1250000.00 #loadsamoney\n",
      "£1250000.00 #loadsamoney\n"
     ]
    }
   ],
   "source": [
    "print( '£1,250,000.00 #loadsamoney'.replace(',','') )\n",
    "\n",
    "moneystring='£1,250,000.00 #loadsamoney'\n",
    "print( moneystring.replace(',','') )"
   ]
  },
  {
   "cell_type": "code",
   "execution_count": 35,
   "metadata": {},
   "outputs": [],
   "source": [
    "#Define a simple helper function\n",
    "def commaclean(string):\n",
    "    return string.replace(',','')"
   ]
  },
  {
   "cell_type": "code",
   "execution_count": 36,
   "metadata": {},
   "outputs": [
    {
     "data": {
      "text/plain": [
       "'£1250000.00 #loadsamoney'"
      ]
     },
     "execution_count": 36,
     "metadata": {},
     "output_type": "execute_result"
    }
   ],
   "source": [
    "#Demo the helper function\n",
    "commaclean( moneystring )"
   ]
  },
  {
   "cell_type": "markdown",
   "metadata": {},
   "source": [
    "Let's test a cash amount detecting pattern to see how it works with different strings."
   ]
  },
  {
   "cell_type": "code",
   "execution_count": 37,
   "metadata": {},
   "outputs": [
    {
     "name": "stdout",
     "output_type": "stream",
     "text": [
      "I got £5,000, okay?: {'ukp': 5000.0}\n",
      "£5,000: {'ukp': 500.0}\n",
      "£5001: {'ukp': 500.0}\n",
      "They paid me, in 2015, £5000: {'ukp': 2015.0}\n",
      "£1,250,000.00. #loadsamoney: {'ukp': 1250000.0}\n",
      "The sum of £2.75 for a coffee which cost £2.75: {'ukp': 2.75}\n",
      "I got £1000. In two lots: £200 and £800: {'ukp': 1000.0}\n",
      "Gaming the system: I got £1.25 then £50,000 on top: {'ukp': 1.25}\n"
     ]
    }
   ],
   "source": [
    "ukppattern = '{?}£{ukp:g}{}'\n",
    "\n",
    "def testcashparse(string):\n",
    "    print('{}: {}'.format(string, todict2(ukppattern, commaclean(string)) ))\n",
    "    \n",
    "\n",
    "testcashparse('I got £5,000, okay?')\n",
    "testcashparse('£5,000')\n",
    "testcashparse('£5001')\n",
    "testcashparse('They paid me, in 2015, £5000')\n",
    "testcashparse('£1,250,000.00. #loadsamoney')\n",
    "testcashparse('The sum of £2.75 for a coffee which cost £2.75')\n",
    "\n",
    "testcashparse('I got £1000. In two lots: £200 and £800')\n",
    "testcashparse('Gaming the system: I got £1.25 then £50,000 on top')"
   ]
  },
  {
   "cell_type": "markdown",
   "metadata": {},
   "source": [
    "There are some issues with this:\n",
    "\n",
    "- where the cash item is at the end of the string, it looks like we can lose the last digit because of the final match requirement. We can get round this by adding whitespace at the end (and perhaps also the start) of the string to provide a match opportunity;\n",
    "- things other than financial amounts, which are identified with the preceding £, are returned as numbers. (I'm not sure why?); one of the things the `parse` funciton returns is an index of where the match took place in the parsed string. So if we check the character before a match, if it's a `£` we know we're quids in...\n",
    "- in some cases there may be multiple amounts, so rather than use the `parse()` function let's use the `findall()` function to see if we can find all the sterling amounts."
   ]
  },
  {
   "cell_type": "code",
   "execution_count": 38,
   "metadata": {},
   "outputs": [],
   "source": [
    "def moneyfudge(string):\n",
    "    return ' {} '.format( commaclean(string))"
   ]
  },
  {
   "cell_type": "code",
   "execution_count": 39,
   "metadata": {},
   "outputs": [
    {
     "name": "stdout",
     "output_type": "stream",
     "text": [
      "<Result (' Gaming the system: I got £', ' ') {'ukp': 1.25}> £\n",
      "<Result ('then £', ' ') {'ukp': 50000.0}> £\n",
      "<Result ('on top in', ' ') {'ukp': 2015.0}> n\n"
     ]
    }
   ],
   "source": [
    "moneystring = 'Gaming the system: I got £1.25 then £50,000 on top in 2015'\n",
    "\n",
    "items=findall(ukppattern, moneyfudge(moneystring))\n",
    "for i in items:\n",
    "    print(i, moneyfudge(moneystring)[i.spans['ukp'][0]-1] )"
   ]
  },
  {
   "cell_type": "markdown",
   "metadata": {},
   "source": [
    "Let's create a function to get the financial amounts from a string."
   ]
  },
  {
   "cell_type": "code",
   "execution_count": 40,
   "metadata": {},
   "outputs": [],
   "source": [
    "def getamounts(string, numpattern = '{}{num:g}{}'):\n",
    "    response = {}\n",
    "    response['amounts'] = []\n",
    "    for amount in findall(numpattern, moneyfudge(string) ):\n",
    "        if moneyfudge(string)[amount.spans['num'][0]-1]=='£':\n",
    "            response['amounts'].append(amount['num'])\n",
    "        \n",
    "    return response"
   ]
  },
  {
   "cell_type": "code",
   "execution_count": 41,
   "metadata": {},
   "outputs": [
    {
     "data": {
      "text/plain": [
       "{'amounts': [1.25, 50000.0]}"
      ]
     },
     "execution_count": 41,
     "metadata": {},
     "output_type": "execute_result"
    }
   ],
   "source": [
    "getamounts(moneystring)"
   ]
  },
  {
   "cell_type": "markdown",
   "metadata": {},
   "source": [
    "Right - so we can pull out amounts. Let's start to think about generating some new items for our `extracteditems` record. We'll create function that returns the maximum, summed and itemised amounts that we can use variously if we want to go digging in the data.\n",
    "\n",
    "We can also try to be clever, and where more that two items are listed, calculate the difference between the total sum and the the maximum amount. If these are equal (or if we are being more elaborate, *nearly* equal) then we might want to check the text to see if the larger amount is specifying the sum of the smaller amounts (in which case, the total sum item is meaningless).\n",
    "\n",
    "Where there are mutliple amounts, we can create a serialised version of the list."
   ]
  },
  {
   "cell_type": "code",
   "execution_count": 42,
   "metadata": {},
   "outputs": [
    {
     "data": {
      "text/plain": [
       "'100::250.25::1000'"
      ]
     },
     "execution_count": 42,
     "metadata": {},
     "output_type": "execute_result"
    }
   ],
   "source": [
    "amounts = [100, 250.25, 1000]\n",
    "#serialise the amounts - making sure they are represented as strings first\n",
    "'::'.join([str(amount) for amount in amounts])"
   ]
  },
  {
   "cell_type": "code",
   "execution_count": 43,
   "metadata": {},
   "outputs": [],
   "source": [
    "def getcheckamounts(string, numpattern = '{}{num:g}{?D}'):\n",
    "    response = getamounts(string, numpattern)\n",
    "    \n",
    "    response['maxamount'] = max(response['amounts']) if response['amounts'] else 0\n",
    "    response['numamounts'] = len(response['amounts'])\n",
    "    response['sumamounts'] = sum(response['amounts']) if amounts else 0\n",
    "    response['sumlessmax'] = response['sumamounts'] - response['maxamount'] if len(response['amounts'])>2 else 0\n",
    "    \n",
    "    response['amounts'] = '::'.join([str(amount) for amount in response['amounts']])\n",
    "    return response"
   ]
  },
  {
   "cell_type": "code",
   "execution_count": 44,
   "metadata": {},
   "outputs": [
    {
     "name": "stdout",
     "output_type": "stream",
     "text": [
      "{'amounts': '1.25::50000.0', 'maxamount': 50000.0, 'numamounts': 2, 'sumamounts': 50001.25, 'sumlessmax': 0}\n",
      "{'amounts': '1.25', 'maxamount': 1.25, 'numamounts': 1, 'sumamounts': 1.25, 'sumlessmax': 0}\n",
      "{'amounts': '', 'maxamount': 0, 'numamounts': 0, 'sumamounts': 0, 'sumlessmax': 0}\n",
      "{'amounts': '100.0::200.0::400.0::701.0', 'maxamount': 701.0, 'numamounts': 4, 'sumamounts': 1401.0, 'sumlessmax': 700.0}\n"
     ]
    }
   ],
   "source": [
    "print( getcheckamounts('Gaming the system: I got £1.25 then £50,000 on top in 2015') )\n",
    "print( getcheckamounts('£1.25') )\n",
    "print( getcheckamounts('No money') )\n",
    "print( getcheckamounts('Four payments, £100, £200 and £400 to give £701 total') )"
   ]
  },
  {
   "cell_type": "markdown",
   "metadata": {},
   "source": [
    "Let's have a go at adding that information to the `extracteditems` record. The text we want to parse is in the `txt` field, and perhaps also in simplified form in the `cleanertxt` field."
   ]
  },
  {
   "cell_type": "code",
   "execution_count": 45,
   "metadata": {},
   "outputs": [
    {
     "data": {
      "text/plain": [
       "'£2,000 to support my Primary School Christmas Card Competition\\nDate received: 8 December 2016\\nDate accepted: 8 December 2016'"
      ]
     },
     "execution_count": 45,
     "metadata": {},
     "output_type": "execute_result"
    }
   ],
   "source": [
    "extracteditems['txt']"
   ]
  },
  {
   "cell_type": "code",
   "execution_count": 46,
   "metadata": {},
   "outputs": [
    {
     "data": {
      "text/plain": [
       "{'addr': 'Balmoral Park, Aberdeen AB12 3GY',\n",
       " 'amounts': '2000.0',\n",
       " 'cleanertxt': '£2,000 to support my Primary School Christmas Card Competition',\n",
       " 'date': '09 December 2016',\n",
       " 'dateAccd': '8 December 2016',\n",
       " 'dateAccd_f': datetime.datetime(2016, 12, 8, 0, 0),\n",
       " 'dateRxd': '8 December 2016',\n",
       " 'dateRxd_f': datetime.datetime(2016, 12, 8, 0, 0),\n",
       " 'date_f': datetime.datetime(2016, 12, 9, 0, 0),\n",
       " 'maxamount': 2000.0,\n",
       " 'name': 'Balmoral Tanks Ltd',\n",
       " 'numamounts': 1,\n",
       " 'status': 'company, registration 300656',\n",
       " 'sumamounts': 2000.0,\n",
       " 'sumlessmax': 0,\n",
       " 'txt': '£2,000 to support my Primary School Christmas Card Competition\\nDate received: 8 December 2016\\nDate accepted: 8 December 2016'}"
      ]
     },
     "execution_count": 46,
     "metadata": {},
     "output_type": "execute_result"
    }
   ],
   "source": [
    "# The .update() method updates the contents of the dict directly\n",
    "extracteditems.update( getcheckamounts( extracteditems['txt']) )\n",
    "extracteditems"
   ]
  },
  {
   "cell_type": "markdown",
   "metadata": {},
   "source": [
    "### Finding More Structure From the Original Page\n",
    "\n",
    "Looking back at the original page, we notice that the entries are grouped acorrding to different sorts of interest, such as *2. (a) Support linked to an MP but received by a local party organisation or indirectly via a central party organisation* or *3. Gifts, benefits and hospitality from UK sources*.\n",
    "\n",
    "We can detect when we enter a section by detecting a paragraph that starts with one of these headings:"
   ]
  },
  {
   "cell_type": "code",
   "execution_count": 47,
   "metadata": {},
   "outputs": [
    {
     "name": "stdout",
     "output_type": "stream",
     "text": [
      "1. Employment and earnings\n",
      "2. (a) Support linked to an MP but received by a local party organisation or indirectly via a central party organisation\n",
      "2. (b) Any other support not included in Category 2(a)\n",
      "3. Gifts, benefits and hospitality from UK sources\n",
      "4. Visits outside the UK\n",
      "8. Miscellaneous\n"
     ]
    }
   ],
   "source": [
    "for p in ptags:\n",
    "    #The .startswith() method accepts a tuple (enumeration of things in a pair of brackets) to check against\n",
    "    #If the text startswith any of the strings in the tuple, the condition evaluates true for that text\n",
    "    if p.text and p.text.startswith(('1.','2.','3.','4.','5.','6.','7.','8.')):\n",
    "        print(p.text)"
   ]
  },
  {
   "cell_type": "markdown",
   "metadata": {},
   "source": [
    "## Putting the Bits Together\n",
    "\n",
    "So no we pretty much have all the bits we need in order to scrape a register page for a particular member. Let's put them together and see if we can make a dataset, for that member, from the pieces we've assembled above."
   ]
  },
  {
   "cell_type": "code",
   "execution_count": 48,
   "metadata": {
    "scrolled": false
   },
   "outputs": [
    {
     "name": "stdout",
     "output_type": "stream",
     "text": [
      "{'name': 'VGC Group', 'addr': 'Cardinal House, Bury Street, Ruislip HA4 7GD', 'txt': '£1,800 in a successful auction bid at a fundraising dinner for Barnsley East CLP and the office of another MP, the profits from which will be divided equally.', 'status': 'company, registration 5741473', 'date': '04 May 2016', 'section': '2. (a) Support linked to an MP but received by a local party organisation or indirectly via a central party organisation', 'cleanertxt': '£1,800 in a successful auction bid at a fundraising dinner for Barnsley East CLP and the office of another MP, the profits from which will be divided equally.', 'date_f': datetime.datetime(2016, 5, 4, 0, 0), 'status2': 'company', 'cn': '5741473', 'amounts': '1800.0', 'maxamount': 1800.0, 'numamounts': 1, 'sumamounts': 1800.0, 'sumlessmax': 0}\n",
      "{'name': 'Edward Maurice Watkins', 'addr': 'private', 'txt': '£755 in purchasing tickets for a fundraising dinner for Barnsley East CLP and the office of another MP, the profits from which will be divided equally. (Registered with donation below.)', 'status': 'individual', 'date': '23 May 2016', 'section': '2. (a) Support linked to an MP but received by a local party organisation or indirectly via a central party organisation', 'cleanertxt': '£755 in purchasing tickets for a fundraising dinner for Barnsley East CLP and the office of another MP, the profits from which will be divided equally. (Registered with donation below.)', 'date_f': datetime.datetime(2016, 5, 23, 0, 0), 'status2': 'company', 'cn': '5741473', 'amounts': '755.0', 'maxamount': 755.0, 'numamounts': 1, 'sumamounts': 755.0, 'sumlessmax': 0}\n",
      "{'name': 'Edward Maurice Watkins', 'addr': 'private', 'txt': '£2,000 in a successful auction bid at a fundraising dinner for Barnsley East CLP and the office of another MP, the profits from which will be divided equally. (Registered with donation above.)', 'status': 'individual', 'date': '23 May 2016', 'section': '2. (a) Support linked to an MP but received by a local party organisation or indirectly via a central party organisation', 'cleanertxt': '£2,000 in a successful auction bid at a fundraising dinner for Barnsley East CLP and the office of another MP, the profits from which will be divided equally. (Registered with donation above.)', 'date_f': datetime.datetime(2016, 5, 23, 0, 0), 'status2': 'company', 'cn': '5741473', 'amounts': '2000.0', 'maxamount': 2000.0, 'numamounts': 1, 'sumamounts': 2000.0, 'sumlessmax': 0}\n",
      "{'name': 'Chris Chenn', 'addr': 'private', 'txt': '£1,900 in a successful auction bid at a fundraising dinner for Barnsley East CLP and the office of another MP, the profits from which will be divided equally.', 'status': 'individual', 'date': '22 September 2016', 'section': '2. (a) Support linked to an MP but received by a local party organisation or indirectly via a central party organisation', 'cleanertxt': '£1,900 in a successful auction bid at a fundraising dinner for Barnsley East CLP and the office of another MP, the profits from which will be divided equally.', 'date_f': datetime.datetime(2016, 9, 22, 0, 0), 'status2': 'company', 'cn': '5741473', 'amounts': '1900.0', 'maxamount': 1900.0, 'numamounts': 1, 'sumamounts': 1900.0, 'sumlessmax': 0}\n",
      "{'name': 'Balmoral Tanks Ltd', 'addr': 'Balmoral Park, Aberdeen AB12 3GY', 'txt': '£2,000 to support my Primary School Christmas Card Competition\\nDate received: 8 December 2016\\nDate accepted: 8 December 2016', 'status': 'company, registration 300656', 'date': '09 December 2016', 'section': '2. (b) Any other support not included in Category 2(a)', 'dateRxd': '8 December 2016', 'dateAccd': '8 December 2016', 'cleanertxt': '£2,000 to support my Primary School Christmas Card Competition', 'date_f': datetime.datetime(2016, 12, 9, 0, 0), 'dateRxd_f': datetime.datetime(2016, 12, 8, 0, 0), 'dateAccd_f': datetime.datetime(2016, 12, 8, 0, 0), 'status2': 'company', 'cn': '5741473', 'amounts': '2000.0', 'maxamount': 2000.0, 'numamounts': 1, 'sumamounts': 2000.0, 'sumlessmax': 0}\n",
      "{'name': 'UK Music', 'addr': '4th Floor, 49 Whitehall, London SW1A 2BX', 'txt': 'ticket and hospitality at the Ivor Novello Awards, value £444\\nDate received: 19 May 2016\\nDate accepted: 19 May 2016', 'status': 'company, registration no 3245288', 'date': '27 May 2016', 'section': '3. Gifts, benefits and hospitality from UK sources', 'dateRxd': '19 May 2016', 'dateAccd': '19 May 2016', 'cleanertxt': 'ticket and hospitality at the Ivor Novello Awards, value £444', 'date_f': datetime.datetime(2016, 5, 27, 0, 0), 'dateRxd_f': datetime.datetime(2016, 5, 19, 0, 0), 'dateAccd_f': datetime.datetime(2016, 5, 19, 0, 0), 'status2': 'company', 'cn': '5741473', 'amounts': '444.0', 'maxamount': 444.0, 'numamounts': 1, 'sumamounts': 444.0, 'sumlessmax': 0}\n",
      "{'name': 'The Yorkshire County Cricket Club', 'addr': 'Headingley Cricket Ground, Leeds LS6 3DP', 'txt': 'two tickets and hospitality at Yorkshire County Cricket Club to the value of £200, a total of £400\\nDate received: 21 May 2016\\nDate accepted: 21 May 2016', 'status': 'company, registration IP28929R', 'date': '07 June 2016', 'section': '3. Gifts, benefits and hospitality from UK sources', 'dateRxd': '21 May 2016', 'dateAccd': '21 May 2016', 'cleanertxt': 'two tickets and hospitality at Yorkshire County Cricket Club to the value of £200, a total of £400', 'date_f': datetime.datetime(2016, 6, 7, 0, 0), 'dateRxd_f': datetime.datetime(2016, 5, 21, 0, 0), 'dateAccd_f': datetime.datetime(2016, 5, 21, 0, 0), 'status2': 'company', 'cn': '5741473', 'amounts': '200.0::400.0', 'maxamount': 400.0, 'numamounts': 2, 'sumamounts': 600.0, 'sumlessmax': 0}\n",
      "{'name': 'Football Association Premier League', 'addr': '30 Gloucester Place, London W1U 8PL', 'txt': 'Ticket and hospitality for a concert at Wembley Stadium, value £259\\nDate received: 5 June 2016\\nDate accepted: 5 June 2016', 'status': 'company, registration no 2719699', 'date': '13 June 2016', 'section': '3. Gifts, benefits and hospitality from UK sources', 'dateRxd': '5 June 2016', 'dateAccd': '5 June 2016', 'cleanertxt': 'Ticket and hospitality for a concert at Wembley Stadium, value £259', 'date_f': datetime.datetime(2016, 6, 13, 0, 0), 'dateRxd_f': datetime.datetime(2016, 6, 5, 0, 0), 'dateAccd_f': datetime.datetime(2016, 6, 5, 0, 0), 'status2': 'company', 'cn': '5741473', 'amounts': '259.0', 'maxamount': 259.0, 'numamounts': 1, 'sumamounts': 259.0, 'sumlessmax': 0}\n",
      "{'name': 'Hampshire Cricket Ltd', 'addr': 'Botley Road, West End, Southampton SO30 3XH', 'txt': 'two tickets, and accompanying hospitality, to watch cricket at the Ageas Bowl, value for each person £499 plus VAT; £1,197.60 in total\\nDate received: 5 July 2016\\nDate accepted: 5 July 2016', 'status': 'company, registration no 4343355', 'date': '08 July 2016; updated 13 July 2016', 'section': '3. Gifts, benefits and hospitality from UK sources', 'dateRxd': '5 July 2016', 'dateAccd': '5 July 2016', 'cleanertxt': 'two tickets, and accompanying hospitality, to watch cricket at the Ageas Bowl, value for each person £499 plus VAT; £1,197.60 in total', 'date_f': None, 'dateRxd_f': datetime.datetime(2016, 7, 5, 0, 0), 'dateAccd_f': datetime.datetime(2016, 7, 5, 0, 0), 'status2': 'company', 'cn': '5741473', 'amounts': '499.0::1197.6', 'maxamount': 1197.6, 'numamounts': 2, 'sumamounts': 1696.6, 'sumlessmax': 0}\n",
      "{'name': 'UK Music', 'addr': '4th Floor, 49 Whitehall, London SW1A 2BX', 'txt': 'four tickets to attend a music concert at Wembley Stadium, value £380\\nDate received: 10 September 2016\\nDate accepted: 10 September 2016', 'status': 'company, registration 3245288', 'date': '20 September 2016', 'section': '3. Gifts, benefits and hospitality from UK sources', 'dateRxd': '10 September 2016', 'dateAccd': '10 September 2016', 'cleanertxt': 'four tickets to attend a music concert at Wembley Stadium, value £380', 'date_f': datetime.datetime(2016, 9, 20, 0, 0), 'dateRxd_f': datetime.datetime(2016, 9, 10, 0, 0), 'dateAccd_f': datetime.datetime(2016, 9, 10, 0, 0), 'status2': 'company', 'cn': '5741473', 'amounts': '380.0', 'maxamount': 380.0, 'numamounts': 1, 'sumamounts': 380.0, 'sumlessmax': 0}\n",
      "{'name': 'The Football Association Premier League Ltd', 'addr': '30 Gloucester Place, London W1U 8PL', 'txt': 'a ticket and hospitality to watch a football match at the Etihad Stadium, value £268\\nDate received: 6 December 2016\\nDate accepted: 6 December 2016', 'status': 'company, registration 2719699', 'date': '19 December 2016', 'section': '3. Gifts, benefits and hospitality from UK sources', 'dateRxd': '6 December 2016', 'dateAccd': '6 December 2016', 'cleanertxt': 'a ticket and hospitality to watch a football match at the Etihad Stadium, value £268', 'date_f': datetime.datetime(2016, 12, 19, 0, 0), 'dateRxd_f': datetime.datetime(2016, 12, 6, 0, 0), 'dateAccd_f': datetime.datetime(2016, 12, 6, 0, 0), 'status2': 'company', 'cn': '5741473', 'amounts': '268.0', 'maxamount': 268.0, 'numamounts': 1, 'sumamounts': 268.0, 'sumlessmax': 0}\n",
      "{'name': 'William Hill PLC', 'addr': 'Greenside House, 50 Station Road, Wood Green, London N22 7TP', 'txt': 'three tickets to attend the World Darts Final, total value £750\\nDate received: 2 January 2017\\nDate accepted: 2 January 2017', 'status': 'company, registration 4212563', 'date': '26 January 2017', 'section': '3. Gifts, benefits and hospitality from UK sources', 'dateRxd': '2 January 2017', 'dateAccd': '2 January 2017', 'cleanertxt': 'three tickets to attend the World Darts Final, total value £750', 'date_f': datetime.datetime(2017, 1, 26, 0, 0), 'dateRxd_f': datetime.datetime(2017, 1, 2, 0, 0), 'dateAccd_f': datetime.datetime(2017, 1, 2, 0, 0), 'status2': 'company', 'cn': '5741473', 'amounts': '750.0', 'maxamount': 750.0, 'numamounts': 1, 'sumamounts': 750.0, 'sumlessmax': 0}\n"
     ]
    }
   ],
   "source": [
    "section = ''\n",
    "\n",
    "#iterate through the paragraphs\n",
    "for p in ptags:\n",
    "    #Check to see if we're in a new section. If so, capture the section\n",
    "    if p.text and p.text.startswith(('1.','2.','3.','4.','5.','6.','7.','8.')):\n",
    "        section = p.text\n",
    "        \n",
    "    #Do the preliminary parsing of a paragraph\n",
    "    extracteditems = todict2(pattern, p.text)\n",
    "    \n",
    "    #Identify the section\n",
    "    extracteditems['section'] = section\n",
    "    \n",
    "    #Look for the data - checking first there's a txt tag that's been extracted...\n",
    "    if extracteditems and 'txt' in extracteditems:\n",
    "        #Dates\n",
    "        todict2(datepattern, extracteditems['txt'], extracteditems)\n",
    "        #Get a simmplified version of the text string, without dates, to potentially make life easier in the future\n",
    "        extracteditems['cleanertxt'] = extracteditems['txt'].split('\\nDate')[0]\n",
    "        #Dateify any dates\n",
    "        parsedates(extracteditems)\n",
    "        \n",
    "        #Extract any company numbers that are declared\n",
    "        extracteditems.update( companynumber(extractedItems['status']) )\n",
    "        \n",
    "        #Money\n",
    "        extracteditems.update( getcheckamounts( extracteditems['txt']) )\n",
    "    \n",
    "        print(extracteditems)\n",
    "    "
   ]
  },
  {
   "cell_type": "markdown",
   "metadata": {},
   "source": [
    "## Making a tabular dataset\n",
    "\n",
    "Well it looks like we're scraping something!\n",
    "\n",
    "Let's see if we can now tidy that up a bit and put it into a datastructure designed for working with tabular datasets. A *dataframe* from the *pandas* package.\n",
    "\n",
    "What we're going to do is add each record as a row to a dataframe using the *pandas* `pd.concat()` function."
   ]
  },
  {
   "cell_type": "code",
   "execution_count": 49,
   "metadata": {},
   "outputs": [],
   "source": [
    "#!~/anaconda3/bin/pip install pandas\n",
    "import pandas as pd"
   ]
  },
  {
   "cell_type": "code",
   "execution_count": 50,
   "metadata": {},
   "outputs": [],
   "source": [
    "#To make the code reusable, let's wrap it in a function:\n",
    "\n",
    "def scrapeData(ptags):\n",
    "\n",
    "    #The code is pretty much as it was before...\n",
    "    #...except that at first we create an empty dataframe\n",
    "    df = pd.DataFrame()\n",
    "\n",
    "    section = ''\n",
    "\n",
    "    #iterate through the paragraphs\n",
    "    for p in ptags:\n",
    "        #Check to see if we're in a new section. If so, capture the section\n",
    "        if p.text and p.text.startswith(('1.','2.','3.','4.','5.','6.','7.','8.')):\n",
    "            section = p.text\n",
    "\n",
    "        #Do the preliminary parsing of a paragraph\n",
    "        extracteditems = todict2(pattern, p.text)\n",
    "\n",
    "        #Identify the section\n",
    "        extracteditems['section'] = section\n",
    "\n",
    "        #Look for the data - checking first there's a txt tag that's been extracted...\n",
    "        if extracteditems and 'txt' in extracteditems:\n",
    "            #Dates\n",
    "            todict2(datepattern, extracteditems['txt'], extracteditems)\n",
    "            #Get a simmplified version of the text string, without dates, to potentially make life easier in the future\n",
    "            extracteditems['cleanertxt'] = extracteditems['txt'].split('\\nDate')[0]\n",
    "            #Dateify any dates\n",
    "            parsedates(extracteditems)\n",
    "\n",
    "            #Extract any company numbers that are declared\n",
    "            extracteditems.update( companynumber(extractedItems['status']) )\n",
    "        \n",
    "            #Money\n",
    "            extracteditems.update( getcheckamounts( extracteditems['txt']) )\n",
    "\n",
    "            #...and then we add each record to it\n",
    "            df = pd.concat([df,pd.DataFrame([extracteditems])])\n",
    "\n",
    "    #Return the dataframe... resetting the index for the whole dataframe\n",
    "    #We can ignore (drop) the original index:\n",
    "    #  it contains \"dummy\" values created when the single row dataframe was made from each record\n",
    "    return df.reset_index(drop=True)"
   ]
  },
  {
   "cell_type": "code",
   "execution_count": 51,
   "metadata": {},
   "outputs": [
    {
     "data": {
      "text/html": [
       "<div>\n",
       "<style scoped>\n",
       "    .dataframe tbody tr th:only-of-type {\n",
       "        vertical-align: middle;\n",
       "    }\n",
       "\n",
       "    .dataframe tbody tr th {\n",
       "        vertical-align: top;\n",
       "    }\n",
       "\n",
       "    .dataframe thead th {\n",
       "        text-align: right;\n",
       "    }\n",
       "</style>\n",
       "<table border=\"1\" class=\"dataframe\">\n",
       "  <thead>\n",
       "    <tr style=\"text-align: right;\">\n",
       "      <th></th>\n",
       "      <th>addr</th>\n",
       "      <th>amounts</th>\n",
       "      <th>cleanertxt</th>\n",
       "      <th>cn</th>\n",
       "      <th>date</th>\n",
       "      <th>dateAccd</th>\n",
       "      <th>dateAccd_f</th>\n",
       "      <th>dateRxd</th>\n",
       "      <th>dateRxd_f</th>\n",
       "      <th>date_f</th>\n",
       "      <th>maxamount</th>\n",
       "      <th>name</th>\n",
       "      <th>numamounts</th>\n",
       "      <th>section</th>\n",
       "      <th>status</th>\n",
       "      <th>status2</th>\n",
       "      <th>sumamounts</th>\n",
       "      <th>sumlessmax</th>\n",
       "      <th>txt</th>\n",
       "    </tr>\n",
       "  </thead>\n",
       "  <tbody>\n",
       "    <tr>\n",
       "      <th>0</th>\n",
       "      <td>Cardinal House, Bury Street, Ruislip HA4 7GD</td>\n",
       "      <td>1800.0</td>\n",
       "      <td>£1,800 in a successful auction bid at a fundra...</td>\n",
       "      <td>5741473</td>\n",
       "      <td>04 May 2016</td>\n",
       "      <td>NaN</td>\n",
       "      <td>NaT</td>\n",
       "      <td>NaN</td>\n",
       "      <td>NaT</td>\n",
       "      <td>2016-05-04 00:00:00</td>\n",
       "      <td>1800.0</td>\n",
       "      <td>VGC Group</td>\n",
       "      <td>1</td>\n",
       "      <td>2. (a) Support linked to an MP but received by...</td>\n",
       "      <td>company, registration 5741473</td>\n",
       "      <td>company</td>\n",
       "      <td>1800.0</td>\n",
       "      <td>0</td>\n",
       "      <td>£1,800 in a successful auction bid at a fundra...</td>\n",
       "    </tr>\n",
       "    <tr>\n",
       "      <th>1</th>\n",
       "      <td>private</td>\n",
       "      <td>755.0</td>\n",
       "      <td>£755 in purchasing tickets for a fundraising d...</td>\n",
       "      <td>5741473</td>\n",
       "      <td>23 May 2016</td>\n",
       "      <td>NaN</td>\n",
       "      <td>NaT</td>\n",
       "      <td>NaN</td>\n",
       "      <td>NaT</td>\n",
       "      <td>2016-05-23 00:00:00</td>\n",
       "      <td>755.0</td>\n",
       "      <td>Edward Maurice Watkins</td>\n",
       "      <td>1</td>\n",
       "      <td>2. (a) Support linked to an MP but received by...</td>\n",
       "      <td>individual</td>\n",
       "      <td>company</td>\n",
       "      <td>755.0</td>\n",
       "      <td>0</td>\n",
       "      <td>£755 in purchasing tickets for a fundraising d...</td>\n",
       "    </tr>\n",
       "    <tr>\n",
       "      <th>2</th>\n",
       "      <td>private</td>\n",
       "      <td>2000.0</td>\n",
       "      <td>£2,000 in a successful auction bid at a fundra...</td>\n",
       "      <td>5741473</td>\n",
       "      <td>23 May 2016</td>\n",
       "      <td>NaN</td>\n",
       "      <td>NaT</td>\n",
       "      <td>NaN</td>\n",
       "      <td>NaT</td>\n",
       "      <td>2016-05-23 00:00:00</td>\n",
       "      <td>2000.0</td>\n",
       "      <td>Edward Maurice Watkins</td>\n",
       "      <td>1</td>\n",
       "      <td>2. (a) Support linked to an MP but received by...</td>\n",
       "      <td>individual</td>\n",
       "      <td>company</td>\n",
       "      <td>2000.0</td>\n",
       "      <td>0</td>\n",
       "      <td>£2,000 in a successful auction bid at a fundra...</td>\n",
       "    </tr>\n",
       "    <tr>\n",
       "      <th>3</th>\n",
       "      <td>private</td>\n",
       "      <td>1900.0</td>\n",
       "      <td>£1,900 in a successful auction bid at a fundra...</td>\n",
       "      <td>5741473</td>\n",
       "      <td>22 September 2016</td>\n",
       "      <td>NaN</td>\n",
       "      <td>NaT</td>\n",
       "      <td>NaN</td>\n",
       "      <td>NaT</td>\n",
       "      <td>2016-09-22 00:00:00</td>\n",
       "      <td>1900.0</td>\n",
       "      <td>Chris Chenn</td>\n",
       "      <td>1</td>\n",
       "      <td>2. (a) Support linked to an MP but received by...</td>\n",
       "      <td>individual</td>\n",
       "      <td>company</td>\n",
       "      <td>1900.0</td>\n",
       "      <td>0</td>\n",
       "      <td>£1,900 in a successful auction bid at a fundra...</td>\n",
       "    </tr>\n",
       "    <tr>\n",
       "      <th>4</th>\n",
       "      <td>Balmoral Park, Aberdeen AB12 3GY</td>\n",
       "      <td>2000.0</td>\n",
       "      <td>£2,000 to support my Primary School Christmas ...</td>\n",
       "      <td>5741473</td>\n",
       "      <td>09 December 2016</td>\n",
       "      <td>8 December 2016</td>\n",
       "      <td>2016-12-08</td>\n",
       "      <td>8 December 2016</td>\n",
       "      <td>2016-12-08</td>\n",
       "      <td>2016-12-09 00:00:00</td>\n",
       "      <td>2000.0</td>\n",
       "      <td>Balmoral Tanks Ltd</td>\n",
       "      <td>1</td>\n",
       "      <td>2. (b) Any other support not included in Categ...</td>\n",
       "      <td>company, registration 300656</td>\n",
       "      <td>company</td>\n",
       "      <td>2000.0</td>\n",
       "      <td>0</td>\n",
       "      <td>£2,000 to support my Primary School Christmas ...</td>\n",
       "    </tr>\n",
       "    <tr>\n",
       "      <th>5</th>\n",
       "      <td>4th Floor, 49 Whitehall, London SW1A 2BX</td>\n",
       "      <td>444.0</td>\n",
       "      <td>ticket and hospitality at the Ivor Novello Awa...</td>\n",
       "      <td>5741473</td>\n",
       "      <td>27 May 2016</td>\n",
       "      <td>19 May 2016</td>\n",
       "      <td>2016-05-19</td>\n",
       "      <td>19 May 2016</td>\n",
       "      <td>2016-05-19</td>\n",
       "      <td>2016-05-27 00:00:00</td>\n",
       "      <td>444.0</td>\n",
       "      <td>UK Music</td>\n",
       "      <td>1</td>\n",
       "      <td>3. Gifts, benefits and hospitality from UK sou...</td>\n",
       "      <td>company, registration no 3245288</td>\n",
       "      <td>company</td>\n",
       "      <td>444.0</td>\n",
       "      <td>0</td>\n",
       "      <td>ticket and hospitality at the Ivor Novello Awa...</td>\n",
       "    </tr>\n",
       "    <tr>\n",
       "      <th>6</th>\n",
       "      <td>Headingley Cricket Ground, Leeds LS6 3DP</td>\n",
       "      <td>200.0::400.0</td>\n",
       "      <td>two tickets and hospitality at Yorkshire Count...</td>\n",
       "      <td>5741473</td>\n",
       "      <td>07 June 2016</td>\n",
       "      <td>21 May 2016</td>\n",
       "      <td>2016-05-21</td>\n",
       "      <td>21 May 2016</td>\n",
       "      <td>2016-05-21</td>\n",
       "      <td>2016-06-07 00:00:00</td>\n",
       "      <td>400.0</td>\n",
       "      <td>The Yorkshire County Cricket Club</td>\n",
       "      <td>2</td>\n",
       "      <td>3. Gifts, benefits and hospitality from UK sou...</td>\n",
       "      <td>company, registration IP28929R</td>\n",
       "      <td>company</td>\n",
       "      <td>600.0</td>\n",
       "      <td>0</td>\n",
       "      <td>two tickets and hospitality at Yorkshire Count...</td>\n",
       "    </tr>\n",
       "    <tr>\n",
       "      <th>7</th>\n",
       "      <td>30 Gloucester Place, London W1U 8PL</td>\n",
       "      <td>259.0</td>\n",
       "      <td>Ticket and hospitality for a concert at Wemble...</td>\n",
       "      <td>5741473</td>\n",
       "      <td>13 June 2016</td>\n",
       "      <td>5 June 2016</td>\n",
       "      <td>2016-06-05</td>\n",
       "      <td>5 June 2016</td>\n",
       "      <td>2016-06-05</td>\n",
       "      <td>2016-06-13 00:00:00</td>\n",
       "      <td>259.0</td>\n",
       "      <td>Football Association Premier League</td>\n",
       "      <td>1</td>\n",
       "      <td>3. Gifts, benefits and hospitality from UK sou...</td>\n",
       "      <td>company, registration no 2719699</td>\n",
       "      <td>company</td>\n",
       "      <td>259.0</td>\n",
       "      <td>0</td>\n",
       "      <td>Ticket and hospitality for a concert at Wemble...</td>\n",
       "    </tr>\n",
       "    <tr>\n",
       "      <th>8</th>\n",
       "      <td>Botley Road, West End, Southampton SO30 3XH</td>\n",
       "      <td>499.0::1197.6</td>\n",
       "      <td>two tickets, and accompanying hospitality, to ...</td>\n",
       "      <td>5741473</td>\n",
       "      <td>08 July 2016; updated 13 July 2016</td>\n",
       "      <td>5 July 2016</td>\n",
       "      <td>2016-07-05</td>\n",
       "      <td>5 July 2016</td>\n",
       "      <td>2016-07-05</td>\n",
       "      <td>None</td>\n",
       "      <td>1197.6</td>\n",
       "      <td>Hampshire Cricket Ltd</td>\n",
       "      <td>2</td>\n",
       "      <td>3. Gifts, benefits and hospitality from UK sou...</td>\n",
       "      <td>company, registration no 4343355</td>\n",
       "      <td>company</td>\n",
       "      <td>1696.6</td>\n",
       "      <td>0</td>\n",
       "      <td>two tickets, and accompanying hospitality, to ...</td>\n",
       "    </tr>\n",
       "    <tr>\n",
       "      <th>9</th>\n",
       "      <td>4th Floor, 49 Whitehall, London SW1A 2BX</td>\n",
       "      <td>380.0</td>\n",
       "      <td>four tickets to attend a music concert at Wemb...</td>\n",
       "      <td>5741473</td>\n",
       "      <td>20 September 2016</td>\n",
       "      <td>10 September 2016</td>\n",
       "      <td>2016-09-10</td>\n",
       "      <td>10 September 2016</td>\n",
       "      <td>2016-09-10</td>\n",
       "      <td>2016-09-20 00:00:00</td>\n",
       "      <td>380.0</td>\n",
       "      <td>UK Music</td>\n",
       "      <td>1</td>\n",
       "      <td>3. Gifts, benefits and hospitality from UK sou...</td>\n",
       "      <td>company, registration 3245288</td>\n",
       "      <td>company</td>\n",
       "      <td>380.0</td>\n",
       "      <td>0</td>\n",
       "      <td>four tickets to attend a music concert at Wemb...</td>\n",
       "    </tr>\n",
       "    <tr>\n",
       "      <th>10</th>\n",
       "      <td>30 Gloucester Place, London W1U 8PL</td>\n",
       "      <td>268.0</td>\n",
       "      <td>a ticket and hospitality to watch a football m...</td>\n",
       "      <td>5741473</td>\n",
       "      <td>19 December 2016</td>\n",
       "      <td>6 December 2016</td>\n",
       "      <td>2016-12-06</td>\n",
       "      <td>6 December 2016</td>\n",
       "      <td>2016-12-06</td>\n",
       "      <td>2016-12-19 00:00:00</td>\n",
       "      <td>268.0</td>\n",
       "      <td>The Football Association Premier League Ltd</td>\n",
       "      <td>1</td>\n",
       "      <td>3. Gifts, benefits and hospitality from UK sou...</td>\n",
       "      <td>company, registration 2719699</td>\n",
       "      <td>company</td>\n",
       "      <td>268.0</td>\n",
       "      <td>0</td>\n",
       "      <td>a ticket and hospitality to watch a football m...</td>\n",
       "    </tr>\n",
       "    <tr>\n",
       "      <th>11</th>\n",
       "      <td>Greenside House, 50 Station Road, Wood Green, ...</td>\n",
       "      <td>750.0</td>\n",
       "      <td>three tickets to attend the World Darts Final,...</td>\n",
       "      <td>5741473</td>\n",
       "      <td>26 January 2017</td>\n",
       "      <td>2 January 2017</td>\n",
       "      <td>2017-01-02</td>\n",
       "      <td>2 January 2017</td>\n",
       "      <td>2017-01-02</td>\n",
       "      <td>2017-01-26 00:00:00</td>\n",
       "      <td>750.0</td>\n",
       "      <td>William Hill PLC</td>\n",
       "      <td>1</td>\n",
       "      <td>3. Gifts, benefits and hospitality from UK sou...</td>\n",
       "      <td>company, registration 4212563</td>\n",
       "      <td>company</td>\n",
       "      <td>750.0</td>\n",
       "      <td>0</td>\n",
       "      <td>three tickets to attend the World Darts Final,...</td>\n",
       "    </tr>\n",
       "  </tbody>\n",
       "</table>\n",
       "</div>"
      ],
      "text/plain": [
       "                                                 addr        amounts  \\\n",
       "0        Cardinal House, Bury Street, Ruislip HA4 7GD         1800.0   \n",
       "1                                             private          755.0   \n",
       "2                                             private         2000.0   \n",
       "3                                             private         1900.0   \n",
       "4                    Balmoral Park, Aberdeen AB12 3GY         2000.0   \n",
       "5            4th Floor, 49 Whitehall, London SW1A 2BX          444.0   \n",
       "6            Headingley Cricket Ground, Leeds LS6 3DP   200.0::400.0   \n",
       "7                 30 Gloucester Place, London W1U 8PL          259.0   \n",
       "8         Botley Road, West End, Southampton SO30 3XH  499.0::1197.6   \n",
       "9            4th Floor, 49 Whitehall, London SW1A 2BX          380.0   \n",
       "10                30 Gloucester Place, London W1U 8PL          268.0   \n",
       "11  Greenside House, 50 Station Road, Wood Green, ...          750.0   \n",
       "\n",
       "                                           cleanertxt       cn  \\\n",
       "0   £1,800 in a successful auction bid at a fundra...  5741473   \n",
       "1   £755 in purchasing tickets for a fundraising d...  5741473   \n",
       "2   £2,000 in a successful auction bid at a fundra...  5741473   \n",
       "3   £1,900 in a successful auction bid at a fundra...  5741473   \n",
       "4   £2,000 to support my Primary School Christmas ...  5741473   \n",
       "5   ticket and hospitality at the Ivor Novello Awa...  5741473   \n",
       "6   two tickets and hospitality at Yorkshire Count...  5741473   \n",
       "7   Ticket and hospitality for a concert at Wemble...  5741473   \n",
       "8   two tickets, and accompanying hospitality, to ...  5741473   \n",
       "9   four tickets to attend a music concert at Wemb...  5741473   \n",
       "10  a ticket and hospitality to watch a football m...  5741473   \n",
       "11  three tickets to attend the World Darts Final,...  5741473   \n",
       "\n",
       "                                  date           dateAccd dateAccd_f  \\\n",
       "0                          04 May 2016                NaN        NaT   \n",
       "1                          23 May 2016                NaN        NaT   \n",
       "2                          23 May 2016                NaN        NaT   \n",
       "3                    22 September 2016                NaN        NaT   \n",
       "4                     09 December 2016    8 December 2016 2016-12-08   \n",
       "5                          27 May 2016        19 May 2016 2016-05-19   \n",
       "6                         07 June 2016        21 May 2016 2016-05-21   \n",
       "7                         13 June 2016        5 June 2016 2016-06-05   \n",
       "8   08 July 2016; updated 13 July 2016        5 July 2016 2016-07-05   \n",
       "9                    20 September 2016  10 September 2016 2016-09-10   \n",
       "10                    19 December 2016    6 December 2016 2016-12-06   \n",
       "11                     26 January 2017     2 January 2017 2017-01-02   \n",
       "\n",
       "              dateRxd  dateRxd_f               date_f  maxamount  \\\n",
       "0                 NaN        NaT  2016-05-04 00:00:00     1800.0   \n",
       "1                 NaN        NaT  2016-05-23 00:00:00      755.0   \n",
       "2                 NaN        NaT  2016-05-23 00:00:00     2000.0   \n",
       "3                 NaN        NaT  2016-09-22 00:00:00     1900.0   \n",
       "4     8 December 2016 2016-12-08  2016-12-09 00:00:00     2000.0   \n",
       "5         19 May 2016 2016-05-19  2016-05-27 00:00:00      444.0   \n",
       "6         21 May 2016 2016-05-21  2016-06-07 00:00:00      400.0   \n",
       "7         5 June 2016 2016-06-05  2016-06-13 00:00:00      259.0   \n",
       "8         5 July 2016 2016-07-05                 None     1197.6   \n",
       "9   10 September 2016 2016-09-10  2016-09-20 00:00:00      380.0   \n",
       "10    6 December 2016 2016-12-06  2016-12-19 00:00:00      268.0   \n",
       "11     2 January 2017 2017-01-02  2017-01-26 00:00:00      750.0   \n",
       "\n",
       "                                           name  numamounts  \\\n",
       "0                                     VGC Group           1   \n",
       "1                        Edward Maurice Watkins           1   \n",
       "2                        Edward Maurice Watkins           1   \n",
       "3                                   Chris Chenn           1   \n",
       "4                            Balmoral Tanks Ltd           1   \n",
       "5                                      UK Music           1   \n",
       "6             The Yorkshire County Cricket Club           2   \n",
       "7           Football Association Premier League           1   \n",
       "8                         Hampshire Cricket Ltd           2   \n",
       "9                                      UK Music           1   \n",
       "10  The Football Association Premier League Ltd           1   \n",
       "11                             William Hill PLC           1   \n",
       "\n",
       "                                              section  \\\n",
       "0   2. (a) Support linked to an MP but received by...   \n",
       "1   2. (a) Support linked to an MP but received by...   \n",
       "2   2. (a) Support linked to an MP but received by...   \n",
       "3   2. (a) Support linked to an MP but received by...   \n",
       "4   2. (b) Any other support not included in Categ...   \n",
       "5   3. Gifts, benefits and hospitality from UK sou...   \n",
       "6   3. Gifts, benefits and hospitality from UK sou...   \n",
       "7   3. Gifts, benefits and hospitality from UK sou...   \n",
       "8   3. Gifts, benefits and hospitality from UK sou...   \n",
       "9   3. Gifts, benefits and hospitality from UK sou...   \n",
       "10  3. Gifts, benefits and hospitality from UK sou...   \n",
       "11  3. Gifts, benefits and hospitality from UK sou...   \n",
       "\n",
       "                              status  status2  sumamounts  sumlessmax  \\\n",
       "0      company, registration 5741473  company      1800.0           0   \n",
       "1                         individual  company       755.0           0   \n",
       "2                         individual  company      2000.0           0   \n",
       "3                         individual  company      1900.0           0   \n",
       "4       company, registration 300656  company      2000.0           0   \n",
       "5   company, registration no 3245288  company       444.0           0   \n",
       "6     company, registration IP28929R  company       600.0           0   \n",
       "7   company, registration no 2719699  company       259.0           0   \n",
       "8   company, registration no 4343355  company      1696.6           0   \n",
       "9      company, registration 3245288  company       380.0           0   \n",
       "10     company, registration 2719699  company       268.0           0   \n",
       "11     company, registration 4212563  company       750.0           0   \n",
       "\n",
       "                                                  txt  \n",
       "0   £1,800 in a successful auction bid at a fundra...  \n",
       "1   £755 in purchasing tickets for a fundraising d...  \n",
       "2   £2,000 in a successful auction bid at a fundra...  \n",
       "3   £1,900 in a successful auction bid at a fundra...  \n",
       "4   £2,000 to support my Primary School Christmas ...  \n",
       "5   ticket and hospitality at the Ivor Novello Awa...  \n",
       "6   two tickets and hospitality at Yorkshire Count...  \n",
       "7   Ticket and hospitality for a concert at Wemble...  \n",
       "8   two tickets, and accompanying hospitality, to ...  \n",
       "9   four tickets to attend a music concert at Wemb...  \n",
       "10  a ticket and hospitality to watch a football m...  \n",
       "11  three tickets to attend the World Darts Final,...  "
      ]
     },
     "execution_count": 51,
     "metadata": {},
     "output_type": "execute_result"
    }
   ],
   "source": [
    "#Let's if it works...\n",
    "scrapeData(ptags)"
   ]
  },
  {
   "cell_type": "markdown",
   "metadata": {},
   "source": [
    "If everything has gone to plan, we should be able to scrape the data from another page..."
   ]
  },
  {
   "cell_type": "code",
   "execution_count": 52,
   "metadata": {},
   "outputs": [
    {
     "data": {
      "text/html": [
       "<div>\n",
       "<style scoped>\n",
       "    .dataframe tbody tr th:only-of-type {\n",
       "        vertical-align: middle;\n",
       "    }\n",
       "\n",
       "    .dataframe tbody tr th {\n",
       "        vertical-align: top;\n",
       "    }\n",
       "\n",
       "    .dataframe thead th {\n",
       "        text-align: right;\n",
       "    }\n",
       "</style>\n",
       "<table border=\"1\" class=\"dataframe\">\n",
       "  <thead>\n",
       "    <tr style=\"text-align: right;\">\n",
       "      <th></th>\n",
       "      <th>addr</th>\n",
       "      <th>amounts</th>\n",
       "      <th>cleanertxt</th>\n",
       "      <th>cn</th>\n",
       "      <th>date</th>\n",
       "      <th>dateAccd</th>\n",
       "      <th>dateAccd_f</th>\n",
       "      <th>dateRxd</th>\n",
       "      <th>dateRxd_f</th>\n",
       "      <th>date_f</th>\n",
       "      <th>maxamount</th>\n",
       "      <th>name</th>\n",
       "      <th>numamounts</th>\n",
       "      <th>section</th>\n",
       "      <th>status</th>\n",
       "      <th>status2</th>\n",
       "      <th>sumamounts</th>\n",
       "      <th>sumlessmax</th>\n",
       "      <th>txt</th>\n",
       "    </tr>\n",
       "  </thead>\n",
       "  <tbody>\n",
       "    <tr>\n",
       "      <th>0</th>\n",
       "      <td>private</td>\n",
       "      <td>2500.0</td>\n",
       "      <td>£2,500 for local EU Referendum campaigning</td>\n",
       "      <td>5741473</td>\n",
       "      <td>21 July 2016</td>\n",
       "      <td>14 June 2016</td>\n",
       "      <td>2016-06-14 00:00:00</td>\n",
       "      <td>14 June 2016</td>\n",
       "      <td>2016-06-14 00:00:00</td>\n",
       "      <td>2016-07-21 00:00:00</td>\n",
       "      <td>2500.00</td>\n",
       "      <td>Lady A T Keswick</td>\n",
       "      <td>1</td>\n",
       "      <td>2. (b) Any other support not included in Categ...</td>\n",
       "      <td>individual</td>\n",
       "      <td>company</td>\n",
       "      <td>2500.0</td>\n",
       "      <td>0.00</td>\n",
       "      <td>£2,500 for local EU Referendum campaigning\\nDa...</td>\n",
       "    </tr>\n",
       "    <tr>\n",
       "      <th>1</th>\n",
       "      <td>House of Commons, London SW1A 0AA</td>\n",
       "      <td>40.0::14.25::425.25</td>\n",
       "      <td>six dinners value £40 each; thirteen breakfast...</td>\n",
       "      <td>5741473</td>\n",
       "      <td>24 October 2016; updated 05 December 2016</td>\n",
       "      <td>1 January 2016 to 2 December 2016</td>\n",
       "      <td>None</td>\n",
       "      <td>1 January 2016 to 2 December 2016</td>\n",
       "      <td>None</td>\n",
       "      <td>None</td>\n",
       "      <td>425.25</td>\n",
       "      <td>APPG for the Armed Forces</td>\n",
       "      <td>3</td>\n",
       "      <td>3. Gifts, benefits and hospitality from UK sou...</td>\n",
       "      <td>other</td>\n",
       "      <td>company</td>\n",
       "      <td>479.5</td>\n",
       "      <td>54.25</td>\n",
       "      <td>six dinners value £40 each; thirteen breakfast...</td>\n",
       "    </tr>\n",
       "    <tr>\n",
       "      <th>2</th>\n",
       "      <td>PO Box 1010, Uxbridge UB8 9NT</td>\n",
       "      <td>944.0</td>\n",
       "      <td>12 month season ticket for car parking at Chip...</td>\n",
       "      <td>5741473</td>\n",
       "      <td>07 November 2016</td>\n",
       "      <td>7 November 2016</td>\n",
       "      <td>2016-11-07 00:00:00</td>\n",
       "      <td>7 November 2016</td>\n",
       "      <td>2016-11-07 00:00:00</td>\n",
       "      <td>2016-11-07 00:00:00</td>\n",
       "      <td>944.00</td>\n",
       "      <td>APCOA Parking</td>\n",
       "      <td>1</td>\n",
       "      <td>3. Gifts, benefits and hospitality from UK sou...</td>\n",
       "      <td>company, registration 2572947</td>\n",
       "      <td>company</td>\n",
       "      <td>944.0</td>\n",
       "      <td>0.00</td>\n",
       "      <td>12 month season ticket for car parking at Chip...</td>\n",
       "    </tr>\n",
       "  </tbody>\n",
       "</table>\n",
       "</div>"
      ],
      "text/plain": [
       "                                addr              amounts  \\\n",
       "0                            private               2500.0   \n",
       "1  House of Commons, London SW1A 0AA  40.0::14.25::425.25   \n",
       "2      PO Box 1010, Uxbridge UB8 9NT                944.0   \n",
       "\n",
       "                                          cleanertxt       cn  \\\n",
       "0         £2,500 for local EU Referendum campaigning  5741473   \n",
       "1  six dinners value £40 each; thirteen breakfast...  5741473   \n",
       "2  12 month season ticket for car parking at Chip...  5741473   \n",
       "\n",
       "                                        date  \\\n",
       "0                               21 July 2016   \n",
       "1  24 October 2016; updated 05 December 2016   \n",
       "2                           07 November 2016   \n",
       "\n",
       "                            dateAccd           dateAccd_f  \\\n",
       "0                       14 June 2016  2016-06-14 00:00:00   \n",
       "1  1 January 2016 to 2 December 2016                 None   \n",
       "2                    7 November 2016  2016-11-07 00:00:00   \n",
       "\n",
       "                             dateRxd            dateRxd_f  \\\n",
       "0                       14 June 2016  2016-06-14 00:00:00   \n",
       "1  1 January 2016 to 2 December 2016                 None   \n",
       "2                    7 November 2016  2016-11-07 00:00:00   \n",
       "\n",
       "                date_f  maxamount                       name  numamounts  \\\n",
       "0  2016-07-21 00:00:00    2500.00           Lady A T Keswick           1   \n",
       "1                 None     425.25  APPG for the Armed Forces           3   \n",
       "2  2016-11-07 00:00:00     944.00              APCOA Parking           1   \n",
       "\n",
       "                                             section  \\\n",
       "0  2. (b) Any other support not included in Categ...   \n",
       "1  3. Gifts, benefits and hospitality from UK sou...   \n",
       "2  3. Gifts, benefits and hospitality from UK sou...   \n",
       "\n",
       "                          status  status2  sumamounts  sumlessmax  \\\n",
       "0                     individual  company      2500.0        0.00   \n",
       "1                          other  company       479.5       54.25   \n",
       "2  company, registration 2572947  company       944.0        0.00   \n",
       "\n",
       "                                                 txt  \n",
       "0  £2,500 for local EU Referendum campaigning\\nDa...  \n",
       "1  six dinners value £40 each; thirteen breakfast...  \n",
       "2  12 month season ticket for car parking at Chip...  "
      ]
     },
     "execution_count": 52,
     "metadata": {},
     "output_type": "execute_result"
    }
   ],
   "source": [
    "url2='https://publications.parliament.uk/pa/cm/cmregmem/170502/gray_james.htm'\n",
    "r2 = session.get(url2)\n",
    "ptags2 = r2.html.find('#mainTextBlock > p')\n",
    "scrapeData(ptags2)"
   ]
  },
  {
   "cell_type": "markdown",
   "metadata": {},
   "source": [
    "## Further Work on the Single Page Scrape\n",
    "\n",
    "Looking through some of the member pages, there are other elements of structure that we should be able to pull on. For example, many pages have content of the following form in the `Employment and earnings` section which we should be able to pull out:\n",
    "\n",
    "```\n",
    "1. Employment and earnings\n",
    "\n",
    "Payments from ComRes, 4 Millbank, London SW1P 3JA:\n",
    "26 January 2016, £75 for participating in Parliamentary Panel Survey. Hours: 15 mins. (Registered 03 August 2016)\n",
    "4 April 2016, £75 for participating in Parliamentary Panel Survey. Hours: 20 mins. (Registered 03 August 2016)\n",
    "20 May 2016, £100 for participating in Parliamentary Panel Survey. Hours: 15 mins. (Registered 03 August 2016)\n",
    "\n",
    "Payments from YouGov, 50 Featherstone St, London EC1Y 8RT:\n",
    "13 Jan 2016, £50 for participating in an online survey. Hours: 15 mins. (Registered 05 December 2016)\n",
    "4 Mar 2016, £30 for participating in an online survey. Hours: 15 mins. (Registered 05 December 2016)\n",
    "```\n",
    "\n",
    "If the section predominately contains information in that form, it may be worth recording it in a separate dataframe."
   ]
  },
  {
   "cell_type": "markdown",
   "metadata": {},
   "source": [
    "## Summary\n",
    "\n",
    "This notebook has walked through the creation of a recipe for scraping the contents of the register of financial interests of a single MP.\n",
    "\n",
    "In the next installment, we'll look at how to grab the data for *all* the members listed in a particular register. This will be followed - possibly! - by a look at how to query the data once we have scraped it, as well as how to enrich the dataset and make it \"linkable\" to other datasets using common identifiers, such as MNIS / MP ids and company numbers."
   ]
  }
 ],
 "metadata": {
  "kernelspec": {
   "display_name": "Python 3",
   "language": "python",
   "name": "python3"
  },
  "language_info": {
   "codemirror_mode": {
    "name": "ipython",
    "version": 3
   },
   "file_extension": ".py",
   "mimetype": "text/x-python",
   "name": "python",
   "nbconvert_exporter": "python",
   "pygments_lexer": "ipython3",
   "version": "3.6.4"
  }
 },
 "nbformat": 4,
 "nbformat_minor": 2
}
