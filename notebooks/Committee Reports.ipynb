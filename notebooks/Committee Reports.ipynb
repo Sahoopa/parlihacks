{
 "cells": [
  {
   "cell_type": "markdown",
   "metadata": {},
   "source": [
    "# Future of the Report - Sketches 1\n",
    "\n",
    "This notebook contains notes and sketches created whilst exploring a particular committee report, the *Women and Equalities Committee* [Gender pay gap inquiry report](https://publications.parliament.uk/pa/cm201516/cmselect/cmwomeq/584/58402.htm).\n",
    "\n",
    "*(From a cursory inspection of several other HTML published reports, there appears to be a significant amount of inconsistency in the way reports from different committees are presented online. A closer look at other reports, and the major differences that appear to arise across them, will be considered at a later date.)*"
   ]
  },
  {
   "cell_type": "markdown",
   "metadata": {},
   "source": [
    "## Scraping the Report Home Page"
   ]
  },
  {
   "cell_type": "code",
   "execution_count": 2,
   "metadata": {},
   "outputs": [],
   "source": [
    "url='https://publications.parliament.uk/pa/cm201516/cmselect/cmwomeq/584/58402.htm'"
   ]
  },
  {
   "cell_type": "markdown",
   "metadata": {},
   "source": [
    "Observation - from the report contents page, I can navigate via the *Back* button to https://publications.parliament.uk/pa/cm201516/cmselect/cmwomeq/584/58401.htm but then it's not clear where I am at all?\n",
    "\n",
    "It would probably make sense to be able to get back to the [inquiry page for the inquiry that resulted in the report](http://www.parliament.uk/business/committees/committees-a-z/commons-select/women-and-equalities-committee/inquiries/parliament-2015/gender-pay-gap-15-16/)."
   ]
  },
  {
   "cell_type": "code",
   "execution_count": 149,
   "metadata": {},
   "outputs": [],
   "source": [
    "import pandas as pd"
   ]
  },
  {
   "cell_type": "markdown",
   "metadata": {},
   "source": [
    "### Report Contents Page Link Scraper"
   ]
  },
  {
   "cell_type": "code",
   "execution_count": null,
   "metadata": {},
   "outputs": [],
   "source": [
    "import requests\n",
    "import requests_cache\n",
    "requests_cache.install_cache('parli_comm_cache')\n",
    "\n",
    "from bs4 import BeautifulSoup\n",
    "\n",
    "#https://www.dataquest.io/blog/web-scraping-tutorial-python/\n",
    "page = requests.get(url)\n",
    "soup = BeautifulSoup(page.content, 'html.parser')"
   ]
  },
  {
   "cell_type": "code",
   "execution_count": 23,
   "metadata": {},
   "outputs": [
    {
     "data": {
      "text/plain": [
       "<a href=\"58404.htm#_idTextAnchor008\">Is the gender pay gap disappearing?</a>"
      ]
     },
     "execution_count": 23,
     "metadata": {},
     "output_type": "execute_result"
    }
   ],
   "source": [
    "#What does a ToC item look like?\n",
    "soup.select('p[class*=\"ToC\"]')[5].find('a')"
   ]
  },
  {
   "cell_type": "code",
   "execution_count": 117,
   "metadata": {},
   "outputs": [
    {
     "data": {
      "text/plain": [
       "('58415.htm#_idTextAnchor145', '58414.htm#_idTextAnchor144')"
      ]
     },
     "execution_count": 117,
     "metadata": {},
     "output_type": "execute_result"
    }
   ],
   "source": [
    "url_written=None\n",
    "url_witnesses=None\n",
    "\n",
    "for p in soup.select('p[class*=\"ToC\"]'):\n",
    "    #witnesses\n",
    "    if 'Witnesses' in p.find('a'):\n",
    "        url_witnesses=p.find('a')['href']\n",
    "    #written evidence\n",
    "    if 'Published written evidence' in p.find('a'):\n",
    "        url_written=p.find('a')['href']\n",
    "        \n",
    "url_written, url_witnesses"
   ]
  },
  {
   "cell_type": "code",
   "execution_count": 24,
   "metadata": {},
   "outputs": [
    {
     "data": {
      "text/plain": [
       "['58414.htm',\n",
       " '58416.htm',\n",
       " '58412.htm',\n",
       " '58409.htm',\n",
       " '58415.htm',\n",
       " '58413.htm',\n",
       " '58411.htm',\n",
       " '58407.htm',\n",
       " '58405.htm',\n",
       " '58410.htm',\n",
       " '58406.htm',\n",
       " '58408.htm',\n",
       " '58404.htm']"
      ]
     },
     "execution_count": 24,
     "metadata": {},
     "output_type": "execute_result"
    }
   ],
   "source": [
    "#https://stackoverflow.com/a/34661518/454773\n",
    "pages=[]\n",
    "for EachPart in soup.select('p[class*=\"ToC\"]'):\n",
    "    href=EachPart.find('a')['href']\n",
    "    #Fudge to collect URLs of pages asssociated with report content\n",
    "    if '#_' in href:\n",
    "        pages.append(EachPart.find('a')['href'].split('#')[0])\n",
    "pages=list(set(pages))\n",
    "pages"
   ]
  },
  {
   "cell_type": "code",
   "execution_count": 7,
   "metadata": {},
   "outputs": [
    {
     "data": {
      "text/plain": [
       "('https://publications.parliament.uk/pa/cm201516/cmselect/cmwomeq/584',\n",
       " '58402.htm')"
      ]
     },
     "execution_count": 7,
     "metadata": {},
     "output_type": "execute_result"
    }
   ],
   "source": [
    "#We need to get the relative path for the page...\n",
    "import os.path\n",
    "\n",
    "stub=os.path.split(url)\n",
    "stub"
   ]
  },
  {
   "cell_type": "code",
   "execution_count": 25,
   "metadata": {},
   "outputs": [],
   "source": [
    "#Grab all the pages in the report\n",
    "for p in pages:\n",
    "    r=requests.get('{}/{}'.format(stub[0],p))"
   ]
  },
  {
   "cell_type": "markdown",
   "metadata": {},
   "source": [
    "### Report - Page Scraper\n",
    "\n",
    "For each HTML Page in the report, extract references to oral evidence session questions and written evidence."
   ]
  },
  {
   "cell_type": "code",
   "execution_count": 315,
   "metadata": {
    "scrolled": false
   },
   "outputs": [
    {
     "name": "stdout",
     "output_type": "stream",
     "text": [
      "<div id=\"shellcontent\"><strong>Gender Pay Gap <a href=\"58402.htm\">Contents</a></strong>\n",
      "<hr>\n",
      "<!-- PASTE MAIN CONTENT AFTER THIS LINE -->\n",
      "<h1 class=\"Heading1\"><a id=\"_idTextAnchor145\"></a>Published written evidence</h1>\n",
      "<p class=\"EvidencePara\">The following written evidence was received and can be viewed on the Committee’s <a href=\"http://www.parliament.uk/business/committees/committees-a-z/commons-select/women-and-equalities-committee/inquiries/parliament-2015/gender-pay-gap-15-16/publications/\"><span class=\"Hyperlink\">inquiry web page</span></a>. GPG numbers are generated by the evidence processing system and so may not be complete.</p>\n",
      "<p class=\"EvidenceList1\"><span class=\"EvidenceList1Span\">1</span>Age UK (<a href=\"http://data.parliament.uk/WrittenEvidence/CommitteeEvidence.svc/EvidenceDocument/Women%20and%20Equalities/Gender%20Pay%20Gap/written/25793.html\"><span class=\"Hyperlink\">GPG0054</span></a>)</p>\n",
      "<p class=\"EvidenceList1\"><span class=\"EvidenceList1Span\">2</span>Alison Parken (<a href=\"http://data.parliament.uk/WrittenEvidence/CommitteeEvidence.svc/EvidenceDocument/Women%20and%20Equalities/Gender%20Pay%20Gap/written/25645.html\"><span class=\"Hyperlink\">GPG0049</span></a>)</p>\n",
      "<p class=\"EvidenceList1\"><span class=\"EvidenceList1Span\">3</span>ARC Trade Union (<a href=\"http://data.parliament.uk/WrittenEvidence/CommitteeEvidence.svc/EvidenceDocument/Women%20and%20Equalities/Gender%20Pay%20Gap/written/25993.html\"><span class=\"Hyperlink\">GPG0056</span></a>)</p>\n",
      "<p class=\"EvidenceList1\"><span class=\"EvidenceList1Span\">4</span>Barclays (<a href=\"http://data.parliament.uk/WrittenEvidence/CommitteeEvidence.svc/EvidenceDocument/Women%20and%20Equalities/Gender%20Pay%20Gap/written/25554.html\"><span class=\"Hyperlink\">GPG0026</span></a>)</p>\n",
      "<p class=\"EvidenceList1\"><span class=\"EvidenceList1Span\">5</span>Behavioural Insights (<a href=\"http://data.parliament.uk/WrittenEvidence/CommitteeEvidence.svc/EvidenceDocument/Women%20and%20Equalities/Gender%20Pay%20Gap/written/28937.h\n"
     ]
    }
   ],
   "source": [
    "pagesoup=BeautifulSoup(r.content, 'html.parser')\n",
    "print(str(pagesoup.select('div[id=\"shellcontent\"]')[0])[:2000])"
   ]
  },
  {
   "cell_type": "code",
   "execution_count": 102,
   "metadata": {},
   "outputs": [],
   "source": [
    "import re\n",
    "\n",
    "def evidenceRef(pagesoup):\n",
    "    qs=[]\n",
    "    ws=[]\n",
    "    #Grab list of questions\n",
    "    for p in pagesoup.select('div[class=\"_idFootnote\"]'):\n",
    "        #Find oral question numbers\n",
    "        q=re.search(r'^.*\\s+(Q[0-9]*)\\s*$', p.find('p').text)\n",
    "        if q:\n",
    "            qs.append(q.group(1))\n",
    "\n",
    "        #Find links to written evidence\n",
    "        links=p.find('p').findAll('a')\n",
    "        if len(links)>1:\n",
    "            if links[1]['href'].startswith('http://data.parliament.uk/WrittenEvidence/CommitteeEvidence.svc/EvidenceDocument/'):\n",
    "                ws.append(links[1].text.strip('()'))\n",
    "    return qs, ws"
   ]
  },
  {
   "cell_type": "code",
   "execution_count": 103,
   "metadata": {},
   "outputs": [
    {
     "data": {
      "text/plain": [
       "(['Q2', 'Q8', 'Q25'], ['GPG0037', 'GPG0051'])"
      ]
     },
     "execution_count": 103,
     "metadata": {},
     "output_type": "execute_result"
    }
   ],
   "source": [
    "evidenceRef(pagesoup)"
   ]
  },
  {
   "cell_type": "code",
   "execution_count": 104,
   "metadata": {},
   "outputs": [],
   "source": [
    "qs=[]\n",
    "ws=[]\n",
    "for p in pages:\n",
    "    r=requests.get('{}/{}'.format(stub[0],p))\n",
    "    pagesoup=BeautifulSoup(r.content, 'html.parser')\n",
    "    pagesoup.select('div[id=\"shellcontent\"]')[0]\n",
    "    qstmp,wstmp= evidenceRef(pagesoup)\n",
    "    qs += qstmp\n",
    "    ws +=wstmp"
   ]
  },
  {
   "cell_type": "code",
   "execution_count": 310,
   "metadata": {},
   "outputs": [
    {
     "data": {
      "text/plain": [
       "Q205    4\n",
       "Q39     3\n",
       "Q41     2\n",
       "Q244    2\n",
       "Q132    2\n",
       "Name: 0, dtype: int64"
      ]
     },
     "execution_count": 310,
     "metadata": {},
     "output_type": "execute_result"
    }
   ],
   "source": [
    "pd.DataFrame(qs)[0].value_counts().head()"
   ]
  },
  {
   "cell_type": "code",
   "execution_count": 309,
   "metadata": {},
   "outputs": [
    {
     "data": {
      "text/plain": [
       "GPG0037    4\n",
       "GPG0031    4\n",
       "GPG0030    3\n",
       "GPG0041    3\n",
       "GPG0053    3\n",
       "Name: 0, dtype: int64"
      ]
     },
     "execution_count": 309,
     "metadata": {},
     "output_type": "execute_result"
    }
   ],
   "source": [
    "pd.DataFrame(ws)[0].value_counts().head()"
   ]
  },
  {
   "cell_type": "markdown",
   "metadata": {},
   "source": [
    "### Report - Oral Session Page Scraper\n",
    "\n",
    "Is this reliably cribbed by link text `Witnesses`?"
   ]
  },
  {
   "cell_type": "code",
   "execution_count": 206,
   "metadata": {},
   "outputs": [
    {
     "data": {
      "text/html": [
       "<div>\n",
       "<style>\n",
       "    .dataframe thead tr:only-child th {\n",
       "        text-align: right;\n",
       "    }\n",
       "\n",
       "    .dataframe thead th {\n",
       "        text-align: left;\n",
       "    }\n",
       "\n",
       "    .dataframe tbody tr th {\n",
       "        vertical-align: top;\n",
       "    }\n",
       "</style>\n",
       "<table border=\"1\" class=\"dataframe\">\n",
       "  <thead>\n",
       "    <tr style=\"text-align: right;\">\n",
       "      <th></th>\n",
       "      <th>a</th>\n",
       "      <th>b</th>\n",
       "    </tr>\n",
       "  </thead>\n",
       "  <tbody>\n",
       "    <tr>\n",
       "      <th>0</th>\n",
       "      <td>Tuesday 15 December 2015</td>\n",
       "      <td>&lt;table class=\"No-Table-Style\" id=\"table007\"&gt;\n",
       "&lt;...</td>\n",
       "    </tr>\n",
       "    <tr>\n",
       "      <th>1</th>\n",
       "      <td>Tuesday 12 January 2016</td>\n",
       "      <td>&lt;table class=\"No-Table-Style\" id=\"table008\"&gt;\n",
       "&lt;...</td>\n",
       "    </tr>\n",
       "    <tr>\n",
       "      <th>2</th>\n",
       "      <td>Tuesday 19 January 2016</td>\n",
       "      <td>&lt;table class=\"No-Table-Style\" id=\"table009\"&gt;\n",
       "&lt;...</td>\n",
       "    </tr>\n",
       "    <tr>\n",
       "      <th>3</th>\n",
       "      <td>Tuesday 26 January 2016</td>\n",
       "      <td>&lt;table class=\"No-Table-Style\" id=\"table010\"&gt;\n",
       "&lt;...</td>\n",
       "    </tr>\n",
       "    <tr>\n",
       "      <th>4</th>\n",
       "      <td>Wednesday 10 February 2016</td>\n",
       "      <td>&lt;table class=\"No-Table-Style\" id=\"table011\"&gt;\n",
       "&lt;...</td>\n",
       "    </tr>\n",
       "  </tbody>\n",
       "</table>\n",
       "</div>"
      ],
      "text/plain": [
       "                            a  \\\n",
       "0    Tuesday 15 December 2015   \n",
       "1     Tuesday 12 January 2016   \n",
       "2     Tuesday 19 January 2016   \n",
       "3     Tuesday 26 January 2016   \n",
       "4  Wednesday 10 February 2016   \n",
       "\n",
       "                                                   b  \n",
       "0  <table class=\"No-Table-Style\" id=\"table007\">\n",
       "<...  \n",
       "1  <table class=\"No-Table-Style\" id=\"table008\">\n",
       "<...  \n",
       "2  <table class=\"No-Table-Style\" id=\"table009\">\n",
       "<...  \n",
       "3  <table class=\"No-Table-Style\" id=\"table010\">\n",
       "<...  \n",
       "4  <table class=\"No-Table-Style\" id=\"table011\">\n",
       "<...  "
      ]
     },
     "execution_count": 206,
     "metadata": {},
     "output_type": "execute_result"
    }
   ],
   "source": [
    "#url='https://publications.parliament.uk/pa/cm201516/cmselect/cmwomeq/584/58414.htm'\n",
    "\n",
    "if url_witnesses is not None:\n",
    "    r=requests.get('{}/{}'.format(stub[0],url_witnesses))\n",
    "    pagesoup=BeautifulSoup(r.content, 'html.parser')\n",
    "    \n",
    "    l1=[t.text.split('\\t')[0] for t in pagesoup.select('h2[class=\"WitnessHeading\"]')]\n",
    "    l2=pagesoup.select('table')\n",
    "        \n",
    "pd.DataFrame({'a':l1,'b':l2})"
   ]
  },
  {
   "cell_type": "code",
   "execution_count": 308,
   "metadata": {},
   "outputs": [
    {
     "data": {
      "text/html": [
       "<div>\n",
       "<style>\n",
       "    .dataframe thead tr:only-child th {\n",
       "        text-align: right;\n",
       "    }\n",
       "\n",
       "    .dataframe thead th {\n",
       "        text-align: left;\n",
       "    }\n",
       "\n",
       "    .dataframe tbody tr th {\n",
       "        vertical-align: top;\n",
       "    }\n",
       "</style>\n",
       "<table border=\"1\" class=\"dataframe\">\n",
       "  <thead>\n",
       "    <tr style=\"text-align: right;\">\n",
       "      <th></th>\n",
       "      <th>Date</th>\n",
       "      <th>Name</th>\n",
       "      <th>Role</th>\n",
       "      <th>Org</th>\n",
       "      <th>Qmin</th>\n",
       "      <th>Qmax</th>\n",
       "      <th>n_qmin</th>\n",
       "      <th>n_qmax</th>\n",
       "      <th>session</th>\n",
       "    </tr>\n",
       "  </thead>\n",
       "  <tbody>\n",
       "    <tr>\n",
       "      <th>0</th>\n",
       "      <td>Tuesday 15 December 2015</td>\n",
       "      <td>Chris Giles</td>\n",
       "      <td>Economics Editor</td>\n",
       "      <td>The Financial Times</td>\n",
       "      <td>Q1</td>\n",
       "      <td>Q35</td>\n",
       "      <td>1</td>\n",
       "      <td>35</td>\n",
       "      <td>Q1-35</td>\n",
       "    </tr>\n",
       "    <tr>\n",
       "      <th>1</th>\n",
       "      <td>Tuesday 15 December 2015</td>\n",
       "      <td>Dr Alison Parken</td>\n",
       "      <td>Women Adding Value to the Economy (WAVE)</td>\n",
       "      <td>Cardiff University</td>\n",
       "      <td>Q1</td>\n",
       "      <td>Q35</td>\n",
       "      <td>1</td>\n",
       "      <td>35</td>\n",
       "      <td>Q1-35</td>\n",
       "    </tr>\n",
       "    <tr>\n",
       "      <th>2</th>\n",
       "      <td>Tuesday 15 December 2015</td>\n",
       "      <td>Professor Jill Rubery</td>\n",
       "      <td></td>\n",
       "      <td>Manchester University</td>\n",
       "      <td>Q1</td>\n",
       "      <td>Q35</td>\n",
       "      <td>1</td>\n",
       "      <td>35</td>\n",
       "      <td>Q1-35</td>\n",
       "    </tr>\n",
       "    <tr>\n",
       "      <th>3</th>\n",
       "      <td>Tuesday 15 December 2015</td>\n",
       "      <td>Sheila Wild</td>\n",
       "      <td>Founder</td>\n",
       "      <td>Equal Pay Portal</td>\n",
       "      <td>Q1</td>\n",
       "      <td>Q35</td>\n",
       "      <td>1</td>\n",
       "      <td>35</td>\n",
       "      <td>Q1-35</td>\n",
       "    </tr>\n",
       "    <tr>\n",
       "      <th>4</th>\n",
       "      <td>Tuesday 15 December 2015</td>\n",
       "      <td>Professor the Baroness Wolf of Dulwich</td>\n",
       "      <td>King's College</td>\n",
       "      <td>London</td>\n",
       "      <td>Q1</td>\n",
       "      <td>Q35</td>\n",
       "      <td>1</td>\n",
       "      <td>35</td>\n",
       "      <td>Q1-35</td>\n",
       "    </tr>\n",
       "  </tbody>\n",
       "</table>\n",
       "</div>"
      ],
      "text/plain": [
       "                       Date                                    Name  \\\n",
       "0  Tuesday 15 December 2015                             Chris Giles   \n",
       "1  Tuesday 15 December 2015                        Dr Alison Parken   \n",
       "2  Tuesday 15 December 2015                   Professor Jill Rubery   \n",
       "3  Tuesday 15 December 2015                             Sheila Wild   \n",
       "4  Tuesday 15 December 2015  Professor the Baroness Wolf of Dulwich   \n",
       "\n",
       "                                       Role                    Org Qmin Qmax  \\\n",
       "0                          Economics Editor    The Financial Times   Q1  Q35   \n",
       "1  Women Adding Value to the Economy (WAVE)     Cardiff University   Q1  Q35   \n",
       "2                                            Manchester University   Q1  Q35   \n",
       "3                                   Founder       Equal Pay Portal   Q1  Q35   \n",
       "4                            King's College                 London   Q1  Q35   \n",
       "\n",
       "   n_qmin  n_qmax session  \n",
       "0       1      35   Q1-35  \n",
       "1       1      35   Q1-35  \n",
       "2       1      35   Q1-35  \n",
       "3       1      35   Q1-35  \n",
       "4       1      35   Q1-35  "
      ]
     },
     "execution_count": 308,
     "metadata": {},
     "output_type": "execute_result"
    }
   ],
   "source": [
    "#Just as easy to do this by hand\n",
    "\n",
    "items=[]\n",
    "\n",
    "items.append(['Tuesday 15 December 2015','Chris Giles', 'Economics Editor', 'The Financial Times','Q1', 'Q35'])\n",
    "items.append(['Tuesday 15 December 2015','Dr Alison Parken', 'Women Adding Value to the Economy (WAVE)', 'Cardiff University','Q1', 'Q35'])\n",
    "items.append(['Tuesday 15 December 2015','Professor Jill Rubery','', 'Manchester University','Q1', 'Q35'])\n",
    "items.append(['Tuesday 15 December 2015','Sheila Wild', 'Founder', 'Equal Pay Portal','Q1', 'Q35'])\n",
    "items.append(['Tuesday 15 December 2015','Professor the Baroness Wolf of Dulwich', \"King's College\", 'London','Q1', 'Q35'])\n",
    "\n",
    "items.append(['Tuesday 15 December 2015','Neil Carberry', 'Director for Employment and Skills', 'CBI','Q36','Q58'])\n",
    "items.append(['Tuesday 15 December 2015','Ann Francke', 'Chief Executive', 'Chartered Management Institute','Q36','Q58'])\n",
    "items.append(['Tuesday 15 December 2015','Monika Queisser',' Senior Counsellor and Head of Social Policy', 'Organisation for Economic Cooperation and Development','Q36','Q58'])\n",
    "\n",
    "items.append(['Tuesday 12 January 2016','Amanda Brown', 'Assistant General Secretary', 'NUT','Q59','Q99'])\n",
    "items.append(['Tuesday 12 January 2016','Dr Sally Davies', 'President', \"Medical Women's Federation\",'Q59','Q99'])\n",
    "items.append(['Tuesday 12 January 2016','Amanda Fone','Chief Executive Officer', 'F1 Recruitment and Search','Q59','Q99'])\n",
    "items.append(['Tuesday 12 January 2016','Audrey Williams', 'Employment Lawyer and Partner',' Fox Williams','Q59','Q99'])\n",
    "\n",
    "items.append(['Tuesday 12 January 2016','Anna Ritchie Allan', 'Project Manager', 'Close the Gap','Q100','Q136'])\n",
    "items.append(['Tuesday 12 January 2016','Christopher Brooks', 'Policy Adviser', 'Age UK','Q100','Q136'])\n",
    "items.append(['Tuesday 12 January 2016','Scarlet Harris', 'Head of Gender Equality', 'TUC','Q100','Q136'])\n",
    "items.append(['Tuesday 12 January 2016','Mr Robert Stephenson-Padron', 'Managing Director', 'Penrose Care','Q100','Q136'])\n",
    "\n",
    "items.append(['Tuesday 19 January 2016','Sarah Jackson', 'Chief Executive', 'Working Families','Q137','Q164'])\n",
    "items.append(['Tuesday 19 January 2016','Adrienne Burgess', 'Joint Chief Executive and Head of Research', 'Fatherhood Institute','Q137','Q164'])\n",
    "items.append(['Tuesday 19 January 2016','Maggie Stilwell', 'Partner', 'Ernst & Young LLP','Q137','Q164'])\n",
    "\n",
    "items.append(['Tuesday 26 January 2016','Michael Newman', 'Vice-Chair', 'Discrimination Law Association','Q165','Q191'])\n",
    "items.append(['Tuesday 26 January 2016','Duncan Brown', '','Institute for Employment Studies','Q165','Q191'])\n",
    "items.append(['Tuesday 26 January 2016','Tim Thomas', 'Head of Employment and Skills', \"EEF, the manufacturers' association\",'Q165','Q191'])\n",
    "\n",
    "items.append(['Tuesday 26 January 2016','Helen Fairfoul', 'Chief Executive', 'Universities and Colleges Employers Association','Q192','Q223'])\n",
    "items.append(['Tuesday 26 January 2016','Emma Stewart', 'Joint Chief Executive Officer', 'Timewise Foundation','Q192','Q223'])\n",
    "items.append(['Tuesday 26 January 2016','Claire Turner','', 'Joseph Rowntree Foundation','Q192','Q223'])\n",
    "\n",
    "items.append(['Wednesday 10 February 2016','Rt Hon Nicky Morgan MP', 'Secretary of State for Education and Minister for Women and Equalities','Department for Education','Q224','Q296'])\n",
    "items.append(['Wednesday 10 February 2016','Nick Boles MP', 'Minister for Skills', 'Department for Business, Innovation and Skills','Q224','Q296'])\n",
    "\n",
    "\n",
    "df=pd.DataFrame(items,columns=['Date','Name','Role','Org','Qmin','Qmax'])\n",
    "#Cleaning check\n",
    "df['Org']=df['Org'].str.strip()\n",
    "df['n_qmin']=df['Qmin'].str.strip('Q').astype(int)\n",
    "df['n_qmax']=df['Qmax'].str.strip('Q').astype(int)\n",
    "df['session']=df['Qmin']+'-'+df['n_qmax'].astype(str)\n",
    "df.head()"
   ]
  },
  {
   "cell_type": "markdown",
   "metadata": {},
   "source": [
    "## Report - Written Evidence Scraper\n",
    "\n",
    "Is this reliably cribbed by link text `Published written evidence`?"
   ]
  },
  {
   "cell_type": "code",
   "execution_count": 307,
   "metadata": {},
   "outputs": [
    {
     "data": {
      "text/html": [
       "<div>\n",
       "<style>\n",
       "    .dataframe thead tr:only-child th {\n",
       "        text-align: right;\n",
       "    }\n",
       "\n",
       "    .dataframe thead th {\n",
       "        text-align: left;\n",
       "    }\n",
       "\n",
       "    .dataframe tbody tr th {\n",
       "        vertical-align: top;\n",
       "    }\n",
       "</style>\n",
       "<table border=\"1\" class=\"dataframe\">\n",
       "  <thead>\n",
       "    <tr style=\"text-align: right;\">\n",
       "      <th></th>\n",
       "      <th>Org</th>\n",
       "      <th>URL</th>\n",
       "      <th>RefNumber</th>\n",
       "    </tr>\n",
       "  </thead>\n",
       "  <tbody>\n",
       "    <tr>\n",
       "      <th>0</th>\n",
       "      <td>Age UK</td>\n",
       "      <td>http://data.parliament.uk/WrittenEvidence/Comm...</td>\n",
       "      <td>GPG0054</td>\n",
       "    </tr>\n",
       "    <tr>\n",
       "      <th>1</th>\n",
       "      <td>Alison Parken</td>\n",
       "      <td>http://data.parliament.uk/WrittenEvidence/Comm...</td>\n",
       "      <td>GPG0049</td>\n",
       "    </tr>\n",
       "    <tr>\n",
       "      <th>2</th>\n",
       "      <td>ARC Trade Union</td>\n",
       "      <td>http://data.parliament.uk/WrittenEvidence/Comm...</td>\n",
       "      <td>GPG0056</td>\n",
       "    </tr>\n",
       "    <tr>\n",
       "      <th>3</th>\n",
       "      <td>Barclays</td>\n",
       "      <td>http://data.parliament.uk/WrittenEvidence/Comm...</td>\n",
       "      <td>GPG0026</td>\n",
       "    </tr>\n",
       "    <tr>\n",
       "      <th>4</th>\n",
       "      <td>Behavioural Insights</td>\n",
       "      <td>http://data.parliament.uk/WrittenEvidence/Comm...</td>\n",
       "      <td>GPG0064</td>\n",
       "    </tr>\n",
       "  </tbody>\n",
       "</table>\n",
       "</div>"
      ],
      "text/plain": [
       "                    Org                                                URL  \\\n",
       "0                Age UK  http://data.parliament.uk/WrittenEvidence/Comm...   \n",
       "1         Alison Parken  http://data.parliament.uk/WrittenEvidence/Comm...   \n",
       "2       ARC Trade Union  http://data.parliament.uk/WrittenEvidence/Comm...   \n",
       "3              Barclays  http://data.parliament.uk/WrittenEvidence/Comm...   \n",
       "4  Behavioural Insights  http://data.parliament.uk/WrittenEvidence/Comm...   \n",
       "\n",
       "  RefNumber  \n",
       "0   GPG0054  \n",
       "1   GPG0049  \n",
       "2   GPG0056  \n",
       "3   GPG0026  \n",
       "4   GPG0064  "
      ]
     },
     "execution_count": 307,
     "metadata": {},
     "output_type": "execute_result"
    }
   ],
   "source": [
    "#url='https://publications.parliament.uk/pa/cm201516/cmselect/cmwomeq/584/58415.htm'\n",
    "\n",
    "all_written=[]\n",
    "\n",
    "if url_written is not None:\n",
    "    r=requests.get('{}/{}'.format(stub[0],url_written))\n",
    "    pagesoup=BeautifulSoup(r.content, 'html.parser')\n",
    "    for p in pagesoup.select('p[class=\"EvidenceList1\"]'):\n",
    "        #print(p)\n",
    "        #Get rid of span tags\n",
    "        for match in p.findAll('span[class=\"EvidenceList1Span\"]'):\n",
    "            match.extract()\n",
    "        all_written.append((p.contents[1].strip('()').strip(), p.find('a')['href'],p.find('a').text))\n",
    "\n",
    "written_df=pd.DataFrame(all_written)\n",
    "written_df.columns=['Org','URL','RefNumber']\n",
    "written_df.head()"
   ]
  },
  {
   "cell_type": "code",
   "execution_count": 266,
   "metadata": {},
   "outputs": [
    {
     "data": {
      "text/plain": [
       "'Q1-35'"
      ]
     },
     "execution_count": 266,
     "metadata": {},
     "output_type": "execute_result"
    }
   ],
   "source": [
    "def getSession(q):\n",
    "    return df[(df['n_qmin']<=q) & (df['n_qmax']>=q)].iloc[0]['session']\n",
    "\n",
    "getSession(33)"
   ]
  },
  {
   "cell_type": "code",
   "execution_count": 282,
   "metadata": {},
   "outputs": [
    {
     "data": {
      "text/plain": [
       "Q224-296    19\n",
       "Q100-136    12\n",
       "Q192-223    11\n",
       "Q36-58      10\n",
       "Q1-35       10\n",
       "Q165-191     9\n",
       "Q137-164     8\n",
       "Q59-99       8\n",
       "Name: session, dtype: int64"
      ]
     },
     "execution_count": 282,
     "metadata": {},
     "output_type": "execute_result"
    }
   ],
   "source": [
    "#Report on sessions that included a question by count\n",
    "\n",
    "df_qs=pd.DataFrame(qs, columns=['qn'])\n",
    "df_qs['session']=df_qs['qn'].apply(lambda x: getSession(int(x.strip('Q'))) )\n",
    "s_qs_cnt=df_qs['session'].value_counts()\n",
    "s_qs_cnt"
   ]
  },
  {
   "cell_type": "code",
   "execution_count": 289,
   "metadata": {},
   "outputs": [
    {
     "data": {
      "text/html": [
       "<div>\n",
       "<style>\n",
       "    .dataframe thead tr:only-child th {\n",
       "        text-align: right;\n",
       "    }\n",
       "\n",
       "    .dataframe thead th {\n",
       "        text-align: left;\n",
       "    }\n",
       "\n",
       "    .dataframe tbody tr th {\n",
       "        vertical-align: top;\n",
       "    }\n",
       "</style>\n",
       "<table border=\"1\" class=\"dataframe\">\n",
       "  <thead>\n",
       "    <tr style=\"text-align: right;\">\n",
       "      <th></th>\n",
       "      <th>session</th>\n",
       "      <th>Org</th>\n",
       "    </tr>\n",
       "  </thead>\n",
       "  <tbody>\n",
       "    <tr>\n",
       "      <th>Q224-296</th>\n",
       "      <td>19</td>\n",
       "      <td>Department for Education; Department for Busi...</td>\n",
       "    </tr>\n",
       "    <tr>\n",
       "      <th>Q100-136</th>\n",
       "      <td>12</td>\n",
       "      <td>Close the Gap; Age UK; TUC; Penrose Care</td>\n",
       "    </tr>\n",
       "    <tr>\n",
       "      <th>Q192-223</th>\n",
       "      <td>11</td>\n",
       "      <td>Universities and Colleges Employers Associatio...</td>\n",
       "    </tr>\n",
       "    <tr>\n",
       "      <th>Q1-35</th>\n",
       "      <td>10</td>\n",
       "      <td>The Financial Times; Cardiff University; Manch...</td>\n",
       "    </tr>\n",
       "    <tr>\n",
       "      <th>Q36-58</th>\n",
       "      <td>10</td>\n",
       "      <td>CBI; Chartered Management Institute; Organisat...</td>\n",
       "    </tr>\n",
       "    <tr>\n",
       "      <th>Q165-191</th>\n",
       "      <td>9</td>\n",
       "      <td>Discrimination Law Association; Institute for ...</td>\n",
       "    </tr>\n",
       "    <tr>\n",
       "      <th>Q137-164</th>\n",
       "      <td>8</td>\n",
       "      <td>Working Families; Fatherhood Institute; Ernst ...</td>\n",
       "    </tr>\n",
       "    <tr>\n",
       "      <th>Q59-99</th>\n",
       "      <td>8</td>\n",
       "      <td>NUT; Medical Women's Federation; F1 Recruitmen...</td>\n",
       "    </tr>\n",
       "  </tbody>\n",
       "</table>\n",
       "</div>"
      ],
      "text/plain": [
       "          session                                                Org\n",
       "Q224-296       19   Department for Education; Department for Busi...\n",
       "Q100-136       12           Close the Gap; Age UK; TUC; Penrose Care\n",
       "Q192-223       11  Universities and Colleges Employers Associatio...\n",
       "Q1-35          10  The Financial Times; Cardiff University; Manch...\n",
       "Q36-58         10  CBI; Chartered Management Institute; Organisat...\n",
       "Q165-191        9  Discrimination Law Association; Institute for ...\n",
       "Q137-164        8  Working Families; Fatherhood Institute; Ernst ...\n",
       "Q59-99          8  NUT; Medical Women's Federation; F1 Recruitmen..."
      ]
     },
     "execution_count": 289,
     "metadata": {},
     "output_type": "execute_result"
    }
   ],
   "source": [
    "pd.concat([s_qs_cnt,df.groupby('session')['Org'].apply(lambda x: '; '.join(list(x)))],\n",
    "          axis=1).sort_values('session',ascending=False)"
   ]
  },
  {
   "cell_type": "code",
   "execution_count": 306,
   "metadata": {},
   "outputs": [
    {
     "data": {
      "text/plain": [
       "Fawcett Society                                        4\n",
       "The UK Commission for Employment and Skills (UKCES)    4\n",
       "Science Council                                        3\n",
       "Family and Childcare Trust                             3\n",
       "Timewise                                               3\n",
       "Name: Org, dtype: int64"
      ]
     },
     "execution_count": 306,
     "metadata": {},
     "output_type": "execute_result"
    }
   ],
   "source": [
    "#Written evidence\n",
    "df_ws=pd.DataFrame(ws,columns=['RefNumber'])\n",
    "df_ws=df_ws.merge(written_df, on='RefNumber')\n",
    "df_ws['Org'].value_counts().head()"
   ]
  },
  {
   "cell_type": "code",
   "execution_count": 305,
   "metadata": {},
   "outputs": [
    {
     "data": {
      "text/plain": [
       "{'Age UK',\n",
       " 'CBI',\n",
       " 'Chartered Management Institute',\n",
       " 'Close the Gap',\n",
       " 'Department for Education',\n",
       " 'Discrimination Law Association',\n",
       " 'Penrose Care',\n",
       " 'TUC',\n",
       " 'Working Families'}"
      ]
     },
     "execution_count": 305,
     "metadata": {},
     "output_type": "execute_result"
    }
   ],
   "source": [
    "#Organisations that gave written and witness evidence\n",
    "set(df_ws['Org']).intersection(set(df['Org']))\n",
    "\n",
    "#Note there are more matches that are hidden by dirty data\n",
    "#- e.g. NUT and National Union of Teachers are presumably the same\n",
    "#- e.g. F1 Recruitment and Search and F1 Recruitment Ltd are presumably the same"
   ]
  },
  {
   "cell_type": "markdown",
   "metadata": {},
   "source": [
    "## Scraping the Government Response\n"
   ]
  },
  {
   "cell_type": "code",
   "execution_count": null,
   "metadata": {},
   "outputs": [],
   "source": [
    "url='https://publications.parliament.uk/pa/cm201617/cmselect/cmwomeq/963/96302.htm'"
   ]
  },
  {
   "cell_type": "code",
   "execution_count": null,
   "metadata": {},
   "outputs": [],
   "source": [
    "#Inconsistency across different reports in terms of presentation, linking to evidence"
   ]
  }
 ],
 "metadata": {
  "kernelspec": {
   "display_name": "Python 3",
   "language": "python",
   "name": "python3"
  },
  "language_info": {
   "codemirror_mode": {
    "name": "ipython",
    "version": 3
   },
   "file_extension": ".py",
   "mimetype": "text/x-python",
   "name": "python",
   "nbconvert_exporter": "python",
   "pygments_lexer": "ipython3",
   "version": "3.6.1"
  }
 },
 "nbformat": 4,
 "nbformat_minor": 2
}
